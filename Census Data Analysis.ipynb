{
 "cells": [
  {
   "cell_type": "code",
   "execution_count": null,
   "id": "d8133708",
   "metadata": {},
   "outputs": [],
   "source": [
    "Environment versions:\n",
    "Matplotlib 3.7.1\n",
    "Numpy 1.23.5\n",
    "Pandas 1.5.3\n",
    "Python 3.11.3\n",
    "Seaborn 0.12.2"
   ]
  },
  {
   "cell_type": "code",
   "execution_count": 2,
   "id": "4c82ef1a",
   "metadata": {},
   "outputs": [],
   "source": [
    "import pandas as pd\n",
    "import numpy as np\n",
    "import matplotlib.pyplot as plt\n",
    "import seaborn as sns\n",
    "from scipy import stats\n",
    "from scipy.stats import skew, kurtosis, pearsonr, spearmanr, ttest_ind, chi2_contingency, linregress\n",
    "%matplotlib inline"
   ]
  },
  {
   "cell_type": "markdown",
   "id": "aa1dab0b",
   "metadata": {},
   "source": [
    "Colours for plots chosen based on:\n",
    "Choosing Colormaps in Matplotlib — Matplotlib 3.8.1 documentation - colour guide \n",
    "https://matplotlib.org/stable/users/explain/colors/colormaps.html.\n",
    "\n",
    "Using 'viridis' palette/colours throughout as colour blind friendly."
   ]
  },
  {
   "cell_type": "code",
   "execution_count": 3,
   "id": "dff44d74",
   "metadata": {},
   "outputs": [
    {
     "name": "stdout",
     "output_type": "stream",
     "text": [
      "<class 'pandas.core.frame.DataFrame'>\n",
      "RangeIndex: 8370 entries, 0 to 8369\n",
      "Data columns (total 16 columns):\n",
      " #   Column                         Non-Null Count  Dtype \n",
      "---  ------                         --------------  ----- \n",
      " 0   Unnamed: 0                     8370 non-null   int64 \n",
      " 1   House Number                   8370 non-null   int64 \n",
      " 2   Street                         8370 non-null   object\n",
      " 3   First Name                     8370 non-null   object\n",
      " 4   Surname                        8370 non-null   object\n",
      " 5   Age (years)                    8370 non-null   int64 \n",
      " 6   Relationship to Head of House  8370 non-null   object\n",
      " 7   Marital Status                 6395 non-null   object\n",
      " 8   Gender                         8370 non-null   object\n",
      " 9   Occupation                     8370 non-null   object\n",
      " 10  Infirmity                      8370 non-null   object\n",
      " 11  Religion                       8108 non-null   object\n",
      " 12  Age Group                      8370 non-null   object\n",
      " 13  Occupation Category            8370 non-null   object\n",
      " 14  Household Occupancy            8370 non-null   int64 \n",
      " 15  Salary (GBP)                   8370 non-null   int64 \n",
      "dtypes: int64(5), object(11)\n",
      "memory usage: 1.0+ MB\n"
     ]
    }
   ],
   "source": [
    "#Read in cleaned census data as Pandas df\n",
    "df = pd.read_csv('census_11_cleaned_with_salary_final.csv')\n",
    "df.info()"
   ]
  },
  {
   "cell_type": "code",
   "execution_count": 4,
   "id": "2f76063b",
   "metadata": {},
   "outputs": [
    {
     "name": "stdout",
     "output_type": "stream",
     "text": [
      "<class 'pandas.core.frame.DataFrame'>\n",
      "RangeIndex: 8370 entries, 0 to 8369\n",
      "Data columns (total 15 columns):\n",
      " #   Column                         Non-Null Count  Dtype \n",
      "---  ------                         --------------  ----- \n",
      " 0   House Number                   8370 non-null   int64 \n",
      " 1   Street                         8370 non-null   object\n",
      " 2   First Name                     8370 non-null   object\n",
      " 3   Surname                        8370 non-null   object\n",
      " 4   Age (years)                    8370 non-null   int64 \n",
      " 5   Relationship to Head of House  8370 non-null   object\n",
      " 6   Marital Status                 6395 non-null   object\n",
      " 7   Gender                         8370 non-null   object\n",
      " 8   Occupation                     8370 non-null   object\n",
      " 9   Infirmity                      8370 non-null   object\n",
      " 10  Religion                       8108 non-null   object\n",
      " 11  Age Group                      8370 non-null   object\n",
      " 12  Occupation Category            8370 non-null   object\n",
      " 13  Household Occupancy            8370 non-null   int64 \n",
      " 14  Salary (GBP)                   8370 non-null   int64 \n",
      "dtypes: int64(4), object(11)\n",
      "memory usage: 981.0+ KB\n"
     ]
    }
   ],
   "source": [
    "#Remove the \"Unnamed: 0\" column\n",
    "df = df.drop(columns='Unnamed: 0')\n",
    "df.info()"
   ]
  },
  {
   "cell_type": "markdown",
   "id": "9e4ff1b4",
   "metadata": {},
   "source": [
    "**Age of the population**"
   ]
  },
  {
   "cell_type": "markdown",
   "id": "6a9a0f1e",
   "metadata": {},
   "source": [
    "Analysis undertaken in this section:\n",
    "\n",
    "1. Summary stats (.describe() plus IQR)\n",
    "2. Distribution of total population by age\n",
    "3. Distribution of female population by age\n",
    "4. Distribution of male population by age\n",
    "5. Population pyramid (coloured by gender/age band)"
   ]
  },
  {
   "cell_type": "code",
   "execution_count": 5,
   "id": "c8c589f1",
   "metadata": {},
   "outputs": [
    {
     "data": {
      "text/plain": [
       "count    8370.0\n",
       "mean       36.3\n",
       "std        21.8\n",
       "min         0.0\n",
       "25%        19.0\n",
       "50%        36.0\n",
       "75%        51.0\n",
       "max       116.0\n",
       "IQR        32.0\n",
       "Name: Age (years), dtype: float64"
      ]
     },
     "execution_count": 5,
     "metadata": {},
     "output_type": "execute_result"
    }
   ],
   "source": [
    "#Print Age (years) stats of count, mean, std, min, 25, 50, 75, max using .describe() plus IQR\n",
    "def summary_stats_column_with_iqr(data, column):\n",
    "    \"\"\"\n",
    "    Generate a summary statistics table for a specified column in a DataFrame.\n",
    "\n",
    "    Parameters:\n",
    "    dataframe (pd.DataFrame): Input DataFrame.\n",
    "    column(str): Name of the series for which statistics are calculated.\n",
    "\n",
    "    Returns:\n",
    "    pd.DataFrame: Summary statistics table.\n",
    "    \"\"\"\n",
    "    summary_stats = data[column].describe().round(1)\n",
    "\n",
    "    #Calculate IQR\n",
    "    q1 = summary_stats['25%']\n",
    "    q3 = summary_stats['75%']\n",
    "    iqr = q3 - q1\n",
    "\n",
    "    #Add IQR to the .describe() output\n",
    "    summary_stats['IQR'] = iqr\n",
    "    \n",
    "    return summary_stats\n",
    "\n",
    "age_stats = summary_stats_column_with_iqr(df, 'Age (years)')\n",
    "age_stats"
   ]
  },
  {
   "cell_type": "markdown",
   "id": "098efc2f",
   "metadata": {},
   "source": [
    "Mean age of the population is 36.3 years. The oldest person in the dataset is 116."
   ]
  },
  {
   "cell_type": "markdown",
   "id": "4333b89a",
   "metadata": {},
   "source": [
    "Examine the age distribution of the population to infer future growth or shrinkage. Determine if there will be more retired aged people in the future, more school-aged children, more young people, etc."
   ]
  },
  {
   "cell_type": "code",
   "execution_count": 6,
   "id": "61cadf93",
   "metadata": {},
   "outputs": [
    {
     "data": {
      "image/png": "[encoded data removed]",
      "text/plain": [
       "<Figure size 640x480 with 1 Axes>"
      ]
     },
     "metadata": {},
     "output_type": "display_data"
    }
   ],
   "source": [
    "#Define the age bins and ranges\n",
    "age_bins = [0, 5, 10, 15, 20, 25, 30, 35, 40, 45, 50, 55, 60, 65, 70, 75, 80, 85, 90, 95, 100, 105, 110, 115, 120]\n",
    "age_labels = ['0-4', '5-9', '10-14', '15-19', '20-24', '25-29', '30-34', '35-39', '40-44', '45-49', '50-54', '55-59', '60-64', '65-69', '70-74', '75-79', '80-84', '85-89', '90-94', '95-99', '100-104', '105-109', '110-114', '115-119']\n",
    "\n",
    "#Create a new column in df to store age groups\n",
    "df['Age Group'] = pd.cut(df['Age (years)'], bins=age_bins, labels=age_labels, right=False, include_lowest=True)\n",
    "\n",
    "#Set a fixed width for the bins\n",
    "bin_width = age_bins[1] - age_bins[0]\n",
    "\n",
    "#Create a function for printing histogram of age groups with defined bin_width, bins, series and color\n",
    "def plot_series_distribution(data, column, bins, bin_width, color_index=0):\n",
    "    \"\"\"\n",
    "    Plot the distribution of a specified series using a histogram.\n",
    "\n",
    "    Parameters:\n",
    "    dataframe (pd.DataFrame): Input DataFrame.\n",
    "    column (str): Column name for the x-axis.\n",
    "    bins (int or sequence): Specification for the number of bins or bin edges.\n",
    "    bin_width (float): Width of each bin.\n",
    "    color_index (int, optional): Index of the colour to use from the Viridis colormap. Default is 0.\n",
    "\n",
    "    Returns:\n",
    "    fig (matplotlib.figure.Figure): The generated matplotlib figure.\n",
    "    \"\"\"\n",
    "    \n",
    "    #Create a histogram using sns with a specific color from the Viridis colormap\n",
    "    fig, ax = plt.subplots()\n",
    "    sns.histplot(data, x=column, bins=bins, binwidth=bin_width, color=sns.color_palette('viridis')[color_index], ax=ax)\n",
    "\n",
    "    #Set the x-axis limits to start from 0 without any gap\n",
    "    ax.set_xlim(left=0)\n",
    "    \n",
    "    plt.xlabel(f'{column}')\n",
    "    plt.ylabel('Count')\n",
    "    plt.tight_layout()\n",
    "    \n",
    "    return fig\n",
    "\n",
    "age_count = plot_series_distribution(df, 'Age (years)', bins=age_bins, bin_width=bin_width, color_index=4)"
   ]
  },
  {
   "cell_type": "markdown",
   "id": "979f79b6",
   "metadata": {},
   "source": [
    "*Total population trends*\n",
    "\n",
    "Of the total population, there is the largest number of people in the 40-54 age range. \n",
    "\n",
    "There is also a large population of 15-24 year olds, in all likelihood due to the large number of students in the town.\n",
    "\n",
    "There are fewer 0-4 year olds compared to school-age children.\n",
    "\n",
    "From age 50 onwards there is a decreasing trend in number of people as age increases, in all likelihood due to increased deaths."
   ]
  },
  {
   "cell_type": "code",
   "execution_count": 7,
   "id": "47a9b8a5",
   "metadata": {},
   "outputs": [
    {
     "data": {
      "image/png": "[encoded data removed]",
      "text/plain": [
       "<Figure size 640x480 with 1 Axes>"
      ]
     },
     "metadata": {},
     "output_type": "display_data"
    }
   ],
   "source": [
    "#Histogram of Male ages\n",
    "#Pull out only male records\n",
    "male_df = df[(df['Gender'] == 'Male')]\n",
    "\n",
    "male_age = plot_series_distribution(male_df, 'Age (years)', bins=age_bins, bin_width=bin_width, color_index=2)"
   ]
  },
  {
   "cell_type": "markdown",
   "id": "ff360cff",
   "metadata": {},
   "source": [
    "*Male population trends*\n",
    "\n",
    "For males, the largest number are aged 15-19. Population of males is also higher in early 20s, again likely due to student population."
   ]
  },
  {
   "cell_type": "code",
   "execution_count": 8,
   "id": "e9e3b8d7",
   "metadata": {},
   "outputs": [
    {
     "data": {
      "image/png": "[encoded data removed]",
      "text/plain": [
       "<Figure size 640x480 with 1 Axes>"
      ]
     },
     "metadata": {},
     "output_type": "display_data"
    }
   ],
   "source": [
    "#Histogram of Female ages\n",
    "#Pull out only female records\n",
    "female_df = df[(df['Gender'] == 'Female')]\n",
    "\n",
    "female_age = plot_series_distribution(female_df, 'Age (years)', bins=age_bins, bin_width=bin_width, color_index=0)"
   ]
  },
  {
   "cell_type": "markdown",
   "id": "bc1e2d4d",
   "metadata": {},
   "source": [
    "*Female population trends*\n",
    "\n",
    "In contrast to males, count of females is highest later in life aged 35-39, followed by 40-49. Again, early 20s indicates higher population in all likelihood due to students."
   ]
  },
  {
   "cell_type": "markdown",
   "id": "d570d7b1",
   "metadata": {},
   "source": [
    "*Age pyramid*"
   ]
  },
  {
   "cell_type": "markdown",
   "id": "89f684d5",
   "metadata": {},
   "source": [
    "#Function for creating age pyramid\n",
    "\n",
    "#Plot is by colour on age group\n",
    "\n",
    "def plot_age_pyramid(male_df, female_df):\n",
    "\n",
    "    \"\"\"\n",
    "    Create an age pyramid plot based on male and female population data.\n",
    "\n",
    "    Parameters:\n",
    "    male_df (pd.DataFrame): DataFrame containing male population data, including 'Age Group' and 'Age (years)' columns.\n",
    "    female_df (pd.DataFrame): DataFrame containing female population data, including 'Age Group' and 'Age (years)' columns.\n",
    "\n",
    "    Returns:\n",
    "    fig (matplotlib.figure.Figure): The generated matplotlib figure.\n",
    "    \"\"\"\n",
    "    #Create dfs for male and female Age Group and Age\n",
    "    age_agegroup_m = male_df[['Age Group', 'Age (years)']]\n",
    "    age_agegroup_f = female_df[['Age Group', 'Age (years)']]\n",
    "\n",
    "    #Count people in each age group for males and females\n",
    "    count_by_agegroup_m = age_agegroup_m.groupby('Age Group')['Age (years)'].count().reset_index()\n",
    "    count_by_agegroup_f = age_agegroup_f.groupby('Age Group')['Age (years)'].count().reset_index()\n",
    "\n",
    "    #Rename columns\n",
    "    count_by_agegroup_m.columns = ['Age Group', 'Count of Males']\n",
    "    count_by_agegroup_f.columns = ['Age Group', 'Count of Females']\n",
    "\n",
    "    #Create df with negative male counts for pyramid plotting\n",
    "    count_by_agegroup_m_minus1 = count_by_agegroup_m.copy()\n",
    "    count_by_agegroup_m_minus1['Count of Males'] *= -1\n",
    "\n",
    "    #Merge dfs on Age Group\n",
    "    count_by_agegroup = pd.merge(count_by_agegroup_m_minus1, count_by_agegroup_f, on='Age Group')\n",
    "\n",
    "    #Define a custom color palette for each age group\n",
    "    age_group_palette = sns.color_palette(\"viridis\", n_colors=len(count_by_agegroup['Age Group']))\n",
    "\n",
    "    #Plot the age pyramid with each age group having a different color\n",
    "    fig, ax = plt.subplots(figsize=(8, 6))\n",
    "    for i, age_group in enumerate(count_by_agegroup['Age Group']):\n",
    "        sns.barplot(x='Count of Males', y='Age Group', data=count_by_agegroup[count_by_agegroup['Age Group'] == age_group],\n",
    "                    palette=[age_group_palette[i]], order=count_by_agegroup['Age Group'][::-1], ax=ax)\n",
    "        sns.barplot(x='Count of Females', y='Age Group', data=count_by_agegroup[count_by_agegroup['Age Group'] == age_group],\n",
    "                    palette=[age_group_palette[i]], order=count_by_agegroup['Age Group'][::-1], ax=ax)\n",
    "\n",
    "    plt.xlabel('Population Count')\n",
    "    plt.ylabel('Age Group (years)')\n",
    "    plt.tight_layout()\n",
    "\n",
    "    return fig\n",
    "    \n",
    "pyramid_age_group = plot_age_pyramid(male_df, female_df)\n",
    "\n",
    "#Females on right, males on left (negative)"
   ]
  },
  {
   "cell_type": "code",
   "execution_count": 9,
   "id": "8071b977",
   "metadata": {},
   "outputs": [
    {
     "data": {
      "image/png": "[encoded data removed]",
      "text/plain": [
       "<Figure size 800x600 with 1 Axes>"
      ]
     },
     "metadata": {},
     "output_type": "display_data"
    }
   ],
   "source": [
    "#Function for plot coloured by gender\n",
    "def plot_age_pyramid_gender(male_df, female_df):\n",
    "    \"\"\"\n",
    "    Plot an age pyramid colored by gender.\n",
    "\n",
    "    Parameters:\n",
    "    male_df (pd.DataFrame): DataFrame containing male population data, including 'Age Group' and 'Age (years)' columns.\n",
    "    female_df (pd.DataFrame): DataFrame containing female population data, including 'Age Group' and 'Age (years)' columns.\n",
    "\n",
    "    Returns:\n",
    "    fig (matplotlib.figure.Figure): The generated matplotlib figure.\n",
    "    \"\"\"\n",
    "    #Create dfs for male and female Age Group and Age\n",
    "    age_agegroup_m = male_df[['Age Group', 'Age (years)']]\n",
    "    age_agegroup_f = female_df[['Age Group', 'Age (years)']]\n",
    "\n",
    "    #Count people in each age group for males and females\n",
    "    count_by_agegroup_m = age_agegroup_m.groupby('Age Group')['Age (years)'].count().reset_index()\n",
    "    count_by_agegroup_f = age_agegroup_f.groupby('Age Group')['Age (years)'].count().reset_index()\n",
    "\n",
    "    #Rename columns\n",
    "    count_by_agegroup_m.columns = ['Age Group', 'Count of Males']\n",
    "    count_by_agegroup_f.columns = ['Age Group', 'Count of Females']\n",
    "\n",
    "    #Create df with negative male counts for pyramid plotting\n",
    "    count_by_agegroup_m_minus1 = count_by_agegroup_m.copy()\n",
    "    count_by_agegroup_m_minus1['Count of Males'] *= -1\n",
    "\n",
    "    #Merge dfs on Age Group\n",
    "    count_by_agegroup = pd.merge(count_by_agegroup_m_minus1, count_by_agegroup_f, on='Age Group')\n",
    "    \n",
    "    #Plot the age pyramid\n",
    "    fig, ax = plt.subplots(figsize=(8, 6))\n",
    "    age_pyramid = sns.barplot(x='Count of Males', y='Age Group', data=count_by_agegroup,\n",
    "                              order=count_by_agegroup['Age Group'][::-1], color=sns.color_palette('viridis')[3], label='Male', ax=ax)\n",
    "    sns.barplot(x='Count of Females', y='Age Group', data=count_by_agegroup,\n",
    "                order=count_by_agegroup['Age Group'][::-1], color=sns.color_palette('viridis')[1], label='Female', ax=ax)\n",
    "\n",
    "    plt.xlabel('Population Count')\n",
    "    plt.ylabel('Age Group (years)')\n",
    "    plt.legend()\n",
    "    plt.tight_layout()\n",
    "    \n",
    "    return fig\n",
    "\n",
    "pyramid_male_female = plot_age_pyramid_gender(male_df, female_df)"
   ]
  },
  {
   "cell_type": "markdown",
   "id": "a3c79b75",
   "metadata": {},
   "source": [
    "*Summary of age population analysis*\n",
    "\n",
    "Mean age of the population is 36.3 years. The oldest person in the dataset is 116.\n",
    "\n",
    "Examining the population pyramid, there is a slightly lower number of 0-4 year olds in comparison to school age children.\n",
    "\n",
    "There is a higher proportion of people aged 15-19 and 20-24 which correlates with the student population of the town.\n",
    "\n",
    "There is also a higher proportion of 35-49 year olds, particularly women, suggesting there might be more retired people in the next 20 years.\n",
    "\n",
    "The population also tends to live well into old age, for both male and female. There are fewer people aged 65 and over compared to the rest of the population (in all likelihood due to increased deaths with increased age).\n",
    "\n",
    "Overall, this analysis indicates a generally aging population, with a lower number of 0-4 year olds compared to school-aged children. Aside from the increased population in early 20s likely due to student population, the largest numbers of people are middle-aged, suggesting a potential requirement to provide care and facilities in the future for an aging population."
   ]
  },
  {
   "cell_type": "markdown",
   "id": "87f713f5",
   "metadata": {},
   "source": [
    "**Commuters**"
   ]
  },
  {
   "cell_type": "markdown",
   "id": "cc01680a",
   "metadata": {},
   "source": [
    "Analysis undertaken in this section:\n",
    "\n",
    "1. Identify commuters (aside from university students) in employed population\n",
    "2. Percentage of commuters (including university students) of total population\n",
    "3. Percentage of commuters (excluding university students) of employed population"
   ]
  },
  {
   "cell_type": "markdown",
   "id": "1c134e7e",
   "metadata": {},
   "source": [
    "Consider occupations more likely to commute.\n",
    "\n",
    "Occupations such as teaching (except higher education), food and shop workers, firefighters, public, youth, local or community roles will be considered non-commuting occupations for the purpose of this analysis. \n",
    "\n",
    "Using this reasoning/assumption, calculate percentage of the population that are commuters and the percentage of the working population (not students) that commute."
   ]
  },
  {
   "cell_type": "code",
   "execution_count": 10,
   "id": "fa7486a4",
   "metadata": {},
   "outputs": [],
   "source": [
    "#Filter for Employed and Students (16 and over) in df\n",
    "employed_student = df[df['Occupation Category'].isin(['Employed', 'Student'])]\n",
    "\n",
    "#Exclude specific occupations from commuters\n",
    "#Makes assumption that these occupations are more likely to be local\n",
    "#OK to include teacher here because higher education entries are lecturers or admin staff (not named teacher)\n",
    "#Used a lambda function\n",
    "exclude_occupations = ['teacher', 'barista', 'retail', 'restaurant', 'community', 'public', 'youth ', 'local', 'firefighter']\n",
    "commuters_student = employed_student[~employed_student['Occupation'].str.lower().str.strip().apply(lambda x: any(word in x.lower() for word in exclude_occupations))]\n",
    "\n",
    "#Exclude entries with the exact word \"student\" but keep variations like \"university student\" or \"PhD student\"\n",
    "#This ensures any students (at college or sixth form, aged 16-18 are excluded)\n",
    "commuters = commuters_student[~commuters_student['Occupation'].str.lower().str.strip().eq('student')]"
   ]
  },
  {
   "cell_type": "code",
   "execution_count": 11,
   "id": "8d271eca",
   "metadata": {},
   "outputs": [
    {
     "name": "stdout",
     "output_type": "stream",
     "text": [
      "Number of commuters: 4734\n",
      "Percentage of commuters: 56.6%\n"
     ]
    }
   ],
   "source": [
    "#Print percentage of commuters of total population\n",
    "#Number of commuters\n",
    "total_commuters = len(commuters)\n",
    "print(f\"Number of commuters: {total_commuters}\")\n",
    "\n",
    "#Count of total population\n",
    "total_population = len(df)\n",
    "\n",
    "#Calculate the percentage of commuters of total population\n",
    "percentage_commuters = (total_commuters/total_population) * 100\n",
    "\n",
    "print(f\"Percentage of commuters: {percentage_commuters:.1f}%\")"
   ]
  },
  {
   "cell_type": "code",
   "execution_count": 12,
   "id": "00c558eb",
   "metadata": {},
   "outputs": [
    {
     "name": "stdout",
     "output_type": "stream",
     "text": [
      "Number of employed: 4497\n",
      "Number of commuters (excluding university students): 4193\n",
      "Percentage of commuters (excluding univerity students): 93.2%\n"
     ]
    }
   ],
   "source": [
    "#Remove university students to get just employed commuters and calculate percentage\n",
    "commuters_nostudents = commuters[~commuters['Occupation'].str.contains('student', case=False)]\n",
    "\n",
    "#Print percentage of commuters (excluding university students) of working population\n",
    "employed = df[df['Occupation Category'] == 'Employed']\n",
    "total_employed = len(employed)\n",
    "print(f\"Number of employed: {total_employed}\")\n",
    "total_commuters_nostudents = len(commuters_nostudents)\n",
    "print(f\"Number of commuters (excluding university students): {total_commuters_nostudents}\")\n",
    "\n",
    "#Calculate the percentage of commuters (excluding university students)\n",
    "percentage_commuters_nostudents = (total_commuters_nostudents/total_employed) * 100\n",
    "\n",
    "print(f\"Percentage of commuters (excluding univerity students): {percentage_commuters_nostudents:.1f}%\")"
   ]
  },
  {
   "cell_type": "markdown",
   "id": "6739eaf6",
   "metadata": {},
   "source": [
    "This seems very high percentage of commuters of working population but after visual inspection of the occupations, there is no indication that other occupations are not required to commute (so would be incorrect assumption to exclude)."
   ]
  },
  {
   "cell_type": "markdown",
   "id": "7c9a22d4",
   "metadata": {},
   "source": [
    "*Summary of commuter analysis*\n",
    "\n",
    "57% of the total population are commuters. Of those employed and not university students, 93% of the working population are estimated to commute. This very high number of commuters provides a case for providing more transport links to the neighbouring cities (like a train service)."
   ]
  },
  {
   "cell_type": "markdown",
   "id": "33670f77",
   "metadata": {},
   "source": [
    "**Salary**"
   ]
  },
  {
   "cell_type": "markdown",
   "id": "9c2c6cd0",
   "metadata": {},
   "source": [
    "Analysis undertaken in this section:\n",
    "\n",
    "1. Summary stats (.describe() plus IQR)\n",
    "2. Distribution of salary in employed population\n",
    "3. Distribution of employed population earning <= to and >£50000 by age\n",
    "4. Hypothesis testing to determine if significant difference between\n",
    "    - salary vs gender\n",
    "    - salary vs age\n",
    "    - salary vs marital status and gender"
   ]
  },
  {
   "cell_type": "markdown",
   "id": "a4b4dc71",
   "metadata": {},
   "source": [
    "The main caveats of using ONS data to infer salary is the accuracy of the fuzzy match (see data cleaning) and the salary data (median salary provided) does not account for full- and part-time working.\n",
    "\n",
    "Salary data (median salary by Standard Occupational Classification occupation) for matching was provided here:\n",
    "\n",
    "Office for National Statistics (2023) Earnings and hours worked, occupation by four-digit SOC: ASHE Table 14. Available online: https://www.ons.gov.uk/employmentandlabourmarket/peopleinwork/earningsandworkinghours/datasets/occupation4digitsoc2010ashetable14 [Accessed 26/11/2023]\n",
    "\n",
    "Fuzzy matching reference:\n",
    "\n",
    "Pypi (2020) fuzzywuzzy 0.18.0. Available online: https://pypi.org/project/fuzzywuzzy/ [Accessed 26/11/2023]\n",
    "\n",
    "Those who are students, children, unemployed, retired or occupation is Unknown (see data cleaning) were assigned a salary of £0."
   ]
  },
  {
   "cell_type": "code",
   "execution_count": 13,
   "id": "56bd4a7e",
   "metadata": {},
   "outputs": [],
   "source": [
    "#Filter df for Employed and exclude any Occupation where it is Unknown (refer to data cleaning)\n",
    "employed_salary = df[(df['Occupation Category'] == 'Employed') & (df['Occupation'].str.strip != 'Unknown')]\n",
    "#display(employed_salary)"
   ]
  },
  {
   "cell_type": "code",
   "execution_count": 14,
   "id": "14ee376f",
   "metadata": {},
   "outputs": [
    {
     "data": {
      "text/plain": [
       "count     4497.0\n",
       "mean     34952.3\n",
       "std      10270.2\n",
       "min          0.0\n",
       "25%      27734.0\n",
       "50%      34909.0\n",
       "75%      40066.0\n",
       "max      78599.0\n",
       "IQR      12332.0\n",
       "Name: Salary (GBP), dtype: float64"
      ]
     },
     "execution_count": 14,
     "metadata": {},
     "output_type": "execute_result"
    }
   ],
   "source": [
    "salary_stats = summary_stats_column_with_iqr(employed_salary, 'Salary (GBP)')\n",
    "salary_stats"
   ]
  },
  {
   "cell_type": "markdown",
   "id": "0d1ce226",
   "metadata": {},
   "source": [
    "Mean Salary for the town is £35115.2 (mean of median salaries assigned by ONS fuzzy matching)"
   ]
  },
  {
   "cell_type": "markdown",
   "id": "4e7905e1",
   "metadata": {},
   "source": [
    "*Distribution of salary in employed population*"
   ]
  },
  {
   "cell_type": "code",
   "execution_count": 15,
   "id": "43ede8fb",
   "metadata": {
    "scrolled": true
   },
   "outputs": [],
   "source": [
    "#Create copy of employed_salary to work with\n",
    "employed_salary_copy = employed_salary.copy()\n",
    "\n",
    "#Create a new column Salary Category with non-overlapping ranges\n",
    "employed_salary_copy['Salary Category'] = pd.cut(\n",
    "    employed_salary_copy['Salary (GBP)'],\n",
    "    bins=[10000, 20000, 30000, 40000, 50000, 60000, 70000, 80000, 120000],\n",
    "    labels=[\n",
    "        'Under 10000 (GBP)', '10000 to <20000 (GBP)', '20000 to <30000 (GBP)',\n",
    "        '30000 to <40000 (GBP)', '40000 to <50000 (GBP)', '50000 to <60000 (GBP)',\n",
    "        '60000 to <70000 (GBP)', 'Over 70000 (GBP)'\n",
    "    ]\n",
    ")\n",
    "\n",
    "#Calculate the percentage of each salary category\n",
    "salary_category_percentages = (employed_salary_copy['Salary Category'].value_counts(normalize=True) * 100).sort_index()"
   ]
  },
  {
   "cell_type": "code",
   "execution_count": 16,
   "id": "095bc208",
   "metadata": {},
   "outputs": [
    {
     "data": {
      "image/png": "[encoded data removed]",
      "text/plain": [
       "<Figure size 640x480 with 1 Axes>"
      ]
     },
     "metadata": {},
     "output_type": "display_data"
    }
   ],
   "source": [
    "#Plot distribution of occupation categories\n",
    "def plot_salary_distribution(x_data, y_data):\n",
    "    \"\"\"\n",
    "    Plot the distribution of a categorical variable.\n",
    "\n",
    "    Parameters:\n",
    "    x_data (str): Name of the column in 'data' to be plotted on the x-axis.\n",
    "    x_label (str): Label for the x-axis.\n",
    "    \n",
    "    Returns:\n",
    "    fig (matplotlib.figure.Figure): The generated matplotlib figure.\n",
    "    \"\"\"\n",
    "    \n",
    "    fig, ax = plt.subplots()\n",
    "    sns.barplot(x=x_data, y=y_data, palette='viridis')\n",
    "\n",
    "    plt.xlabel('Salary Range (GBP)')\n",
    "    plt.ylabel('Percentage of Employed Population (%)')\n",
    "    plt.xticks(rotation=45, ha='right') \n",
    "    plt.tight_layout()\n",
    "\n",
    "    plt.show()\n",
    "    \n",
    "    return fig\n",
    "\n",
    "salary_distribution = plot_salary_distribution(salary_category_percentages.index, salary_category_percentages.values)"
   ]
  },
  {
   "cell_type": "markdown",
   "id": "225e2a3b",
   "metadata": {},
   "source": [
    "The majority of the working population earn between £10000 and up to £40000. \n",
    "\n",
    "Over 40% of employed earn between £20000, up to £30000. \n",
    "\n",
    "National median annual earnings for full-time employees was £34,963 for the tax year ending on 5 April 2023:\n",
    "\n",
    "Office for National Statistics (2023) Employee earnings in the UK: 2023. Available online: https://www.ons.gov.uk/employmentandlabourmarket/peopleinwork/earningsandworkinghours/bulletins/annualsurveyofhoursandearnings/2023 [Accessed 08/12/2023]\n",
    "\n",
    "The town appears to be reasonably affluent (can't decipher if full- or part-time working)."
   ]
  },
  {
   "cell_type": "code",
   "execution_count": 17,
   "id": "ae9c419a",
   "metadata": {},
   "outputs": [
    {
     "data": {
      "image/png": "[encoded data removed]",
      "text/plain": [
       "<Figure size 640x480 with 1 Axes>"
      ]
     },
     "metadata": {},
     "output_type": "display_data"
    }
   ],
   "source": [
    "#Confirm normal distribution of salary data by plotting\n",
    "sns.histplot(employed_salary['Salary (GBP)'], kde=True, color=sns.color_palette('viridis')[4], bins=30, stat='density')\n",
    "\n",
    "#Use sns.kdeplot to plot the KDE curve\n",
    "sns.kdeplot(employed_salary['Salary (GBP)'], color='black', linewidth=2)\n",
    "\n",
    "plt.xlabel('Salary (GBP)')\n",
    "plt.ylabel('Density')\n",
    "plt.tight_layout()\n",
    "\n",
    "plt.show()"
   ]
  },
  {
   "cell_type": "markdown",
   "id": "a0f1f4f8",
   "metadata": {},
   "source": [
    "In a density plot, the y-axis represents the density of the distribution. The density is a measure of how the probability mass is spread across the variable on the x-axis. The higher the density at a given point, the more likely the data points are concentrated around that value.\n",
    "\n",
    "X-axis: Represents the variable measured (in this case, Salary).\n",
    "\n",
    "Y-axis: Represents the density, which is a measure of how many data points fall within a small interval along the x-axis.\n",
    "In a density plot, the area under the curve is  normalised to ensure that the total area equals 1. This normalisation allows interpretation of the height of the curve as a probability density.\n",
    "\n",
    "Salary displays a normal distribution."
   ]
  },
  {
   "cell_type": "code",
   "execution_count": 18,
   "id": "6bdc8d93",
   "metadata": {},
   "outputs": [],
   "source": [
    "#Want to see spread of data and median age for those earning above or equal to and below £50000\n",
    "#Create a new column 'Salary Category'\n",
    "#Individuals with a salary of exactly 50000 will be categorised as '50000 and under (GBP)' because the left endpoint of the bin is inclusive, and the right endpoint is exclusive\n",
    "employed_salary_copy['Salary Category'] = pd.cut(employed_salary_copy['Salary (GBP)'], bins=[-float('inf'), 50000, float('inf')], labels=['<=50000 (GBP)', '>50000 (GBP)'])"
   ]
  },
  {
   "cell_type": "code",
   "execution_count": 19,
   "id": "1d8a19d2",
   "metadata": {},
   "outputs": [
    {
     "data": {
      "image/png": "[encoded data removed]",
      "text/plain": [
       "<Figure size 800x800 with 1 Axes>"
      ]
     },
     "metadata": {},
     "output_type": "display_data"
    }
   ],
   "source": [
    "#Define function for creating boxplot\n",
    "def plot_boxplot(data, x_column, y_column):\n",
    "    \"\"\"\n",
    "    Plot a boxplot of one numerical variable against a categorical variable using seaborn.\n",
    "\n",
    "    Parameters:\n",
    "    data (pd.DataFrame): Input DataFrame.\n",
    "    x_column (str): Name of the categorical variable to be plotted on the x-axis.\n",
    "    y_column (str): Name of the numerical variable to be plotted on the y-axis.\n",
    "\n",
    "    Returns:\n",
    "    fig (matplotlib.figure.Figure): The generated matplotlib figure.\n",
    "    \"\"\"\n",
    "    \n",
    "    fig, ax = plt.subplots(figsize=(8, 8))\n",
    "    sns.boxplot(data=data, x=x_column, y=y_column, palette='viridis', ax=ax)\n",
    "    plt.xlabel(x_column)\n",
    "    plt.ylabel(y_column) \n",
    "    plt.tight_layout()\n",
    "    \n",
    "    return fig\n",
    "\n",
    "\n",
    "salary_category_vs_age = plot_boxplot(employed_salary_copy, 'Salary Category', 'Age (years)')"
   ]
  },
  {
   "cell_type": "code",
   "execution_count": 20,
   "id": "b594dbfd",
   "metadata": {},
   "outputs": [
    {
     "data": {
      "text/html": [
       "<div>\n",
       "<style scoped>\n",
       "    .dataframe tbody tr th:only-of-type {\n",
       "        vertical-align: middle;\n",
       "    }\n",
       "\n",
       "    .dataframe tbody tr th {\n",
       "        vertical-align: top;\n",
       "    }\n",
       "\n",
       "    .dataframe thead th {\n",
       "        text-align: right;\n",
       "    }\n",
       "</style>\n",
       "<table border=\"1\" class=\"dataframe\">\n",
       "  <thead>\n",
       "    <tr style=\"text-align: right;\">\n",
       "      <th></th>\n",
       "      <th>Count</th>\n",
       "      <th>Mean</th>\n",
       "      <th>Std</th>\n",
       "      <th>Min</th>\n",
       "      <th>25% (Q1)</th>\n",
       "      <th>50% (Median)</th>\n",
       "      <th>75% (Q3)</th>\n",
       "      <th>Max</th>\n",
       "      <th>IQR</th>\n",
       "    </tr>\n",
       "    <tr>\n",
       "      <th>Salary Category</th>\n",
       "      <th></th>\n",
       "      <th></th>\n",
       "      <th></th>\n",
       "      <th></th>\n",
       "      <th></th>\n",
       "      <th></th>\n",
       "      <th></th>\n",
       "      <th></th>\n",
       "      <th></th>\n",
       "    </tr>\n",
       "  </thead>\n",
       "  <tbody>\n",
       "    <tr>\n",
       "      <th>&lt;=50000 (GBP)</th>\n",
       "      <td>4148.0</td>\n",
       "      <td>42.7</td>\n",
       "      <td>12.1</td>\n",
       "      <td>19.0</td>\n",
       "      <td>33.0</td>\n",
       "      <td>42.0</td>\n",
       "      <td>52.0</td>\n",
       "      <td>73.0</td>\n",
       "      <td>19.0</td>\n",
       "    </tr>\n",
       "    <tr>\n",
       "      <th>&gt;50000 (GBP)</th>\n",
       "      <td>349.0</td>\n",
       "      <td>43.4</td>\n",
       "      <td>12.0</td>\n",
       "      <td>19.0</td>\n",
       "      <td>35.0</td>\n",
       "      <td>43.0</td>\n",
       "      <td>53.0</td>\n",
       "      <td>67.0</td>\n",
       "      <td>18.0</td>\n",
       "    </tr>\n",
       "  </tbody>\n",
       "</table>\n",
       "</div>"
      ],
      "text/plain": [
       "                  Count  Mean   Std   Min  25% (Q1)  50% (Median)  75% (Q3)  \\\n",
       "Salary Category                                                               \n",
       "<=50000 (GBP)    4148.0  42.7  12.1  19.0      33.0          42.0      52.0   \n",
       ">50000 (GBP)      349.0  43.4  12.0  19.0      35.0          43.0      53.0   \n",
       "\n",
       "                  Max   IQR  \n",
       "Salary Category              \n",
       "<=50000 (GBP)    73.0  19.0  \n",
       ">50000 (GBP)     67.0  18.0  "
      ]
     },
     "execution_count": 20,
     "metadata": {},
     "output_type": "execute_result"
    }
   ],
   "source": [
    "#Group by Salary Category and Age\n",
    "salary_age = employed_salary_copy.groupby('Salary Category')['Age (years)']\n",
    "\n",
    "#Create a function for describe plus IQR for grouped dataframes\n",
    "def describe_with_iqr_grouped_df(grouped_df):\n",
    "    \"\"\"\n",
    "    Perform .describe() with added IQR on a grouped_df for a DataFrame.\n",
    "\n",
    "    Parameters:\n",
    "    grouped_df: pandas.DataFrame, the grouped DataFrame\n",
    "\n",
    "    Returns:\n",
    "    pandas.DataFrame, the resulting DataFrame with statistics and IQR\n",
    "    \"\"\"\n",
    "    #Calculate .describe() on the specified df and round to 1dp\n",
    "    summary_stats = grouped_df.describe().round(1)\n",
    "\n",
    "    #Rename the columns for clarity\n",
    "    summary_stats.columns = ['Count', 'Mean', 'Std', 'Min', '25% (Q1)', '50% (Median)', '75% (Q3)', 'Max']\n",
    "\n",
    "    #Calculate IQR\n",
    "    q1 = summary_stats['25% (Q1)']\n",
    "    q3 = summary_stats['75% (Q3)']\n",
    "    iqr = q3 - q1\n",
    "\n",
    "    #Add IQR to the .describe() output\n",
    "    summary_stats['IQR'] = iqr\n",
    "    \n",
    "    #Sort by descending count\n",
    "    summary_stats = summary_stats.sort_values(by='Count', ascending=False)\n",
    "\n",
    "    return summary_stats\n",
    "\n",
    "salary_age_stats = describe_with_iqr_grouped_df(salary_age)\n",
    "salary_age_stats"
   ]
  },
  {
   "cell_type": "code",
   "execution_count": 21,
   "id": "9fc12a3f",
   "metadata": {},
   "outputs": [
    {
     "name": "stdout",
     "output_type": "stream",
     "text": [
      "Percentage Over 50000 (GBP): 92.2%\n",
      "Percentage Under 50000 (GBP): 7.8%\n"
     ]
    }
   ],
   "source": [
    "#Calculate count of <=50000 (GBP) and >50000 (GBP)\n",
    "salary_category_counts = employed_salary_copy['Salary Category'].value_counts()\n",
    "\n",
    "#Calculate percentage\n",
    "percentage_over_50000 = (salary_category_counts['<=50000 (GBP)'] / salary_category_counts.sum()) * 100\n",
    "percentage_under_50000 = (salary_category_counts['>50000 (GBP)'] / salary_category_counts.sum()) * 100\n",
    "\n",
    "print(f\"Percentage Over 50000 (GBP): {percentage_over_50000:.1f}%\")\n",
    "print(f\"Percentage Under 50000 (GBP): {percentage_under_50000:.1f}%\")"
   ]
  },
  {
   "cell_type": "markdown",
   "id": "25a9cab9",
   "metadata": {},
   "source": [
    "There is very little difference in Median age for those earning £50000 or lower, compared to over £50000. However, the proportion of the working population earning over £50000 is significantly less (7.8%) than those earning £50000 or lower."
   ]
  },
  {
   "cell_type": "markdown",
   "id": "3db25cea",
   "metadata": {},
   "source": [
    "*Salary by Marital Status and Gender*"
   ]
  },
  {
   "cell_type": "markdown",
   "id": "998d4803",
   "metadata": {},
   "source": [
    "*Salary vs Gender*"
   ]
  },
  {
   "cell_type": "markdown",
   "id": "6edd093b",
   "metadata": {},
   "source": [
    "Null Hypothesis (H0): There is no significant difference in salaries between males and females.\n",
    "    \n",
    "Alternative Hypothesis (H1): There is a significant difference in salaries between males and females.\n",
    "\n",
    "Newcastle University (n. d.) Introduction to hypothesis testing (psychology). Available online: https://www.ncl.ac.uk/webtemplate/ask-assets/external/maths-resources/psychology/introduction-to-hypothesis-testing.html [Accessed 26/11/2023]\n",
    "\n",
    "Using t-test.\n",
    "\n",
    "Statistics How To (2023) T test (student’s t-test): definition and examples. Available online: https://www.statisticshowto.com/probability-and-statistics/t-test/ [Accessed 26/11/2023]\n",
    "\n",
    "Independent samples t-test (or two-sample t-test) used when comparing the means of two independent groups to determine if they are significantly different from each other.\n",
    "\n",
    "The t-test produces a t-statistic and a p-value. The t-statistic is a measure of how far the sample mean is from the null hypothesis mean in terms of standard error. The p-value indicates the probability of observing such a difference  if the null hypothesis is true. If the p-value is below a the significance level (commonly 0.05), the null hypothesis is rejected and there is a significant difference between the groups.\n",
    "\n",
    "p value is 0.05."
   ]
  },
  {
   "cell_type": "code",
   "execution_count": 22,
   "id": "530071f3",
   "metadata": {},
   "outputs": [
    {
     "name": "stdout",
     "output_type": "stream",
     "text": [
      "T-statistic: 1.204\n",
      "P-value: 0.229\n",
      "Null hypothesis not rejected: There is no statistically significant difference between the two groups.\n"
     ]
    }
   ],
   "source": [
    "#Extract male and female salaries from employed population\n",
    "male_salaries = employed_salary_copy[employed_salary_copy['Gender'] == 'Male']['Salary (GBP)']\n",
    "female_salaries = employed_salary_copy[employed_salary_copy['Gender'] == 'Female']['Salary (GBP)']\n",
    "\n",
    "def perform_t_test(data1, data2, alpha=0.05):\n",
    "    \"\"\"\n",
    "    Perform a t-test on two sets of data.\n",
    "\n",
    "    Parameters:\n",
    "    data1, data2: pandas Series or numpy arrays, the two sets of data to compare\n",
    "    alpha: float, the significance level (default is 0.05)\n",
    "\n",
    "    Returns:\n",
    "    tuple, (t-statistic, p-value)\n",
    "    \"\"\"\n",
    "    #Perform t-test\n",
    "    t_stat, p_value = ttest_ind(data1, data2)\n",
    "\n",
    "    print(f\"T-statistic: {t_stat:.3f}\")\n",
    "    print(f\"P-value: {p_value:.3f}\")\n",
    "\n",
    "    #Check if the p-value is less than the significance level\n",
    "    if p_value < alpha:\n",
    "        print(\"Null hypothesis rejected: There is a statistically significant difference between the two groups.\")\n",
    "    else:\n",
    "        print(\"Null hypothesis not rejected: There is no statistically significant difference between the two groups.\")\n",
    "\n",
    "    return\n",
    "\n",
    "perform_t_test(male_salaries, female_salaries)"
   ]
  },
  {
   "cell_type": "markdown",
   "id": "cab24ed6",
   "metadata": {},
   "source": [
    "*Salary by Age*"
   ]
  },
  {
   "cell_type": "markdown",
   "id": "4da9b8ac",
   "metadata": {},
   "source": [
    "Null hypothesis (H0): No correlation (linear or monotonic) between salary and age\n",
    "\n",
    "Alternative Hypothesis (H1): There is a significant correlation between salary and age.\n",
    "\n",
    "p value is 0.05.\n",
    "\n",
    "Using Pearson (linear) and Spearman rank (non-linear) correlation coefficients.\n",
    "\n",
    "Pearson rank\n",
    "\n",
    "Reference Pearson rank: \n",
    "SciPy (n. d.) Scipy.stats.pearsonr. Available online: https://docs.scipy.org/doc/scipy/reference/generated/scipy.stats.pearsonr.html [Accessed 08/12/2023]\n",
    "\n",
    "Measures the linear relationship between two continuous variables (assuming normal distribution and linearity). Result ranges from -1 to 1. 1 indicates a perfect positive linear correlation, -1 indicates a perfect negative linear correlation, and\n",
    "0 indicates no linear correlation.\n",
    "\n",
    "Spearman rank\n",
    "\n",
    "Reference Spearman rank: \n",
    "SciPy (n. d.) Scipy.stats.spearmanr. Available online: https://docs.scipy.org/doc/scipy/reference/generated/scipy.stats.spearmanr.html [Accessed 08/12/2023]\n",
    "\n",
    "Measures the monotonic relationship between two variables, where one variable increases, the other variable consistently increases or decreases, but not necessarily at a constant rate (does not assume linearity). In other words, there is a consistent trend or pattern in the relationship. Result ranges from -1 to 1. 1 indicates a perfect positive linear correlation, -1 indicates a perfect negative linear correlation, and 0 indicates no linear correlation.\n",
    "\n",
    "Newcastle University (n. d.) Strength of correlation. Available online: https://www.ncl.ac.uk/webtemplate/ask-assets/external/maths-resources/statistics/regression-and-correlation/strength-of-correlation.html [Accessed 26/11/2023]"
   ]
  },
  {
   "cell_type": "code",
   "execution_count": 23,
   "id": "e29b7831",
   "metadata": {},
   "outputs": [
    {
     "name": "stdout",
     "output_type": "stream",
     "text": [
      "Pearson correlation coefficient: 0.011\n",
      "P-value (Pearson): 0.481\n",
      "Spearman rank correlation coefficient: 0.007\n",
      "P-value (Spearman): 0.616\n",
      "Null hypothesis stands: No significant correlation.\n"
     ]
    }
   ],
   "source": [
    "#Define function run Pearson and Spearman rank tests\n",
    "def correlation_tests(variable1, variable2):\n",
    "    \"\"\"\n",
    "    Calculate Pearson and Spearman correlations between two variables and perform hypothesis testing.\n",
    "\n",
    "    Parameters:\n",
    "    variable1 (array): First variable for correlation analysis.\n",
    "    variable2 (array): Second variable for correlation analysis.\n",
    "\n",
    "    Returns:\n",
    "    None\n",
    "    \"\"\"\n",
    "    #Calculate Pearson correlation coefficient and p-value\n",
    "    pearson_coefficient, pearson_p_value = pearsonr(variable1, variable2)\n",
    "\n",
    "    #Calculate Spearman rank correlation coefficient and p-value\n",
    "    spearman_coefficient, spearman_p_value = spearmanr(variable1, variable2)\n",
    "\n",
    "    print(f\"Pearson correlation coefficient: {pearson_coefficient:.3f}\")\n",
    "    print(f\"P-value (Pearson): {pearson_p_value:.3f}\")\n",
    "\n",
    "    print(f\"Spearman rank correlation coefficient: {spearman_coefficient:.3f}\")\n",
    "    print(f\"P-value (Spearman): {spearman_p_value:.3f}\")\n",
    "\n",
    "    #Check if null hypothesis stands (p-value > 0.05)\n",
    "    if pearson_p_value > 0.05 and spearman_p_value > 0.05:\n",
    "        print(\"Null hypothesis stands: No significant correlation.\")\n",
    "    else:\n",
    "        print(\"Null hypothesis rejected: Significant correlation exists.\")\n",
    "\n",
    "correlation_tests(employed_salary_copy['Salary (GBP)'], employed_salary_copy['Age (years)'])"
   ]
  },
  {
   "cell_type": "markdown",
   "id": "5b59b84a",
   "metadata": {},
   "source": [
    "*Salary vs Marital Status/by Gender*"
   ]
  },
  {
   "cell_type": "markdown",
   "id": "8ea25077",
   "metadata": {},
   "source": [
    "Null Hypothesis (H0): There is no significant difference in salaries between divorced and married.\n",
    "    \n",
    "Alternative Hypothesis (H1): There is a significant difference in salaries between divorced and married.\n",
    "\n",
    "Using t-test.\n",
    "\n",
    "p value is 0.05."
   ]
  },
  {
   "cell_type": "code",
   "execution_count": 24,
   "id": "ac440e44",
   "metadata": {},
   "outputs": [
    {
     "name": "stdout",
     "output_type": "stream",
     "text": [
      "T-statistic: 1.287\n",
      "P-value: 0.198\n",
      "Null hypothesis not rejected: There is no statistically significant difference between the two groups.\n"
     ]
    }
   ],
   "source": [
    "#Extract divorced and married salaries from employed population\n",
    "married_salaries = employed_salary_copy[employed_salary_copy['Marital Status'] == 'Married']['Salary (GBP)']\n",
    "divorced_salaries = employed_salary_copy[employed_salary_copy['Marital Status'] == 'Divorced']['Salary (GBP)']\n",
    "\n",
    "perform_t_test(married_salaries, divorced_salaries)"
   ]
  },
  {
   "cell_type": "markdown",
   "id": "96fbfb7d",
   "metadata": {},
   "source": [
    "Null Hypothesis (H0): There is no significant difference in salaries between divorced and married males.\n",
    "    \n",
    "Alternative Hypothesis (H1): There is a significant difference in salaries between divorced and married males.\n",
    "\n",
    "p value is 0.05."
   ]
  },
  {
   "cell_type": "code",
   "execution_count": 25,
   "id": "0ea9b0bf",
   "metadata": {},
   "outputs": [
    {
     "name": "stdout",
     "output_type": "stream",
     "text": [
      "T-statistic: -0.732\n",
      "P-value: 0.464\n",
      "Null hypothesis not rejected: There is no statistically significant difference between the two groups.\n"
     ]
    }
   ],
   "source": [
    "#Extract male salaries for married and divorced from employed population\n",
    "male_married_salaries = employed_salary_copy[(employed_salary_copy['Gender'] == 'Male') & (employed_salary_copy['Marital Status'] == 'Married')]['Salary (GBP)']\n",
    "male_divorced_salaries = employed_salary_copy[(employed_salary_copy['Gender'] == 'Male') & (employed_salary_copy['Marital Status'] == 'Divorced')]['Salary (GBP)']\n",
    "\n",
    "perform_t_test(male_married_salaries, male_divorced_salaries)"
   ]
  },
  {
   "cell_type": "markdown",
   "id": "7e18160d",
   "metadata": {},
   "source": [
    "Null Hypothesis (H0): There is no significant difference in salaries between divorced and married females.\n",
    "    \n",
    "Alternative Hypothesis (H1): There is a significant difference in salaries between divorced and married females.\n",
    "\n",
    "p value is 0.05."
   ]
  },
  {
   "cell_type": "code",
   "execution_count": 26,
   "id": "b66eb969",
   "metadata": {},
   "outputs": [
    {
     "name": "stdout",
     "output_type": "stream",
     "text": [
      "T-statistic: 2.443\n",
      "P-value: 0.015\n",
      "Null hypothesis rejected: There is a statistically significant difference between the two groups.\n"
     ]
    }
   ],
   "source": [
    "#Extract female salaries for married and divorced from employed population\n",
    "female_married_salaries = employed_salary_copy[(employed_salary_copy['Gender'] == 'Female') & (employed_salary_copy['Marital Status'] == 'Married')]['Salary (GBP)']\n",
    "female_divorced_salaries = employed_salary_copy[(employed_salary_copy['Gender'] == 'Female') & (employed_salary_copy['Marital Status'] == 'Divorced')]['Salary (GBP)']\n",
    "\n",
    "perform_t_test(female_married_salaries, female_divorced_salaries)"
   ]
  },
  {
   "cell_type": "markdown",
   "id": "fb7b4fea",
   "metadata": {},
   "source": [
    "Null Hypothesis (H0): There is no significant difference in salaries between divorced males and females.\n",
    "    \n",
    "Alternative Hypothesis (H1): There is a significant difference in salaries between divorced males and females.\n",
    "\n",
    "p value is 0.05."
   ]
  },
  {
   "cell_type": "code",
   "execution_count": 27,
   "id": "b9749ba6",
   "metadata": {},
   "outputs": [
    {
     "name": "stdout",
     "output_type": "stream",
     "text": [
      "T-statistic: 2.078\n",
      "P-value: 0.038\n",
      "Null hypothesis rejected: There is a statistically significant difference between the two groups.\n"
     ]
    }
   ],
   "source": [
    "#Perform t test of male divorced saries and female divorced salaries\n",
    "perform_t_test(male_divorced_salaries, female_divorced_salaries)"
   ]
  },
  {
   "cell_type": "markdown",
   "id": "4dd5ba0c",
   "metadata": {},
   "source": [
    "Null Hypothesis (H0): There is no significant difference in salaries between married males and females.\n",
    "    \n",
    "Alternative Hypothesis (H1): There is a significant difference in salaries between married males and females.\n",
    "\n",
    "p value is 0.05."
   ]
  },
  {
   "cell_type": "code",
   "execution_count": 28,
   "id": "d5deaef3",
   "metadata": {},
   "outputs": [
    {
     "name": "stdout",
     "output_type": "stream",
     "text": [
      "T-statistic: -0.542\n",
      "P-value: 0.588\n",
      "Null hypothesis not rejected: There is no statistically significant difference between the two groups.\n"
     ]
    }
   ],
   "source": [
    "#Perform t test of male married saries and female married salaries\n",
    "perform_t_test(male_married_salaries, female_married_salaries)"
   ]
  },
  {
   "cell_type": "markdown",
   "id": "7934b73f",
   "metadata": {},
   "source": [
    "*Summary of salary*\n",
    "\n",
    "The majority of the employed population earn between £10000 up to £40000.\n",
    "\n",
    "Over 40% of employed earn between £20000, up to £30000.\n",
    "\n",
    "The proportion of the employed population earning over £50000 is significantly less (7.8%) than those earning £50000 or lower.\n",
    "\n",
    "The town appears to be reasonably affluent. Median salary is slightly higher than the national median salary.\n",
    "\n",
    "Hypothesis testing showed no significant correlation between salary and age, and no significant difference for salary by gender or marital status (difference in salary between divorced and married/ for males and females). \n",
    "\n",
    "Failing to reject the null hypothesis does not prove the null hypothesis; it simply means that there isn't enough evidence to reject it based on the observed data."
   ]
  },
  {
   "cell_type": "markdown",
   "id": "9127545f",
   "metadata": {},
   "source": [
    "**Unemployment** "
   ]
  },
  {
   "cell_type": "markdown",
   "id": "337ff65a",
   "metadata": {},
   "source": [
    "Analysis undertaken in this section:\n",
    "\n",
    "1. Distribution of occupation category\n",
    "2. Summary stats of occupation by age\n",
    "2. Unemployment rate (of total and eligible (employed and unemployed) population)\n",
    "3. Distribution of unemployment by:\n",
    "    - age\n",
    "    - gender\n",
    "4. Hypothesis testing to determine if significant difference between\n",
    "    - unemployed occupation category vs gender"
   ]
  },
  {
   "cell_type": "markdown",
   "id": "c26975f1",
   "metadata": {},
   "source": [
    "*Distribution of occupation category*\n",
    "\n",
    "Plot distribution of occupation category to obtain an overall view of number of employed compared to distribution of other occupation categories for the population."
   ]
  },
  {
   "cell_type": "code",
   "execution_count": 30,
   "id": "31a05cec",
   "metadata": {},
   "outputs": [
    {
     "data": {
      "image/png": "[encoded data removed]",
      "text/plain": [
       "<Figure size 640x480 with 1 Axes>"
      ]
     },
     "metadata": {},
     "output_type": "display_data"
    }
   ],
   "source": [
    "#Plot distribution of occupation categories\n",
    "def plot_category_distribution(data, x_data):\n",
    "    \"\"\"\n",
    "    Plot the distribution of a categorical variable.\n",
    "\n",
    "    Parameters:\n",
    "    data (pd.DataFrame): Input DataFrame.\n",
    "    x_data (str): Name of the column in 'data' to be plotted on the x-axis.\n",
    "    \n",
    "    Returns:\n",
    "    fig (matplotlib.figure.Figure): The generated matplotlib figure.\n",
    "    \"\"\"\n",
    "    #Order categories by descending count\n",
    "    order = data[x_data].value_counts().index\n",
    "    \n",
    "    #Calculate percentage distribution\n",
    "    percentage_data = data[x_data].value_counts(normalize=True) * 100\n",
    "    \n",
    "    #Create a countplot with x_data on the x-axis\n",
    "    fig, ax = plt.subplots()\n",
    "    sns.barplot(x=percentage_data.index, y=percentage_data.values, palette='viridis', order=order, ax=ax)\n",
    "\n",
    "    plt.xlabel(x_data)\n",
    "    plt.ylabel('Percentage (%)')\n",
    "    plt.xticks(rotation=45)\n",
    "    plt.tight_layout()\n",
    "    \n",
    "    plt.show()\n",
    "    \n",
    "    return fig\n",
    "\n",
    "occupation_category_distribution = plot_category_distribution(df, 'Occupation Category')"
   ]
  },
  {
   "cell_type": "markdown",
   "id": "ec465a9c",
   "metadata": {},
   "source": [
    "*Summary stats of Occupation Category by Age*"
   ]
  },
  {
   "cell_type": "code",
   "execution_count": 31,
   "id": "924dbfa4",
   "metadata": {},
   "outputs": [
    {
     "data": {
      "text/html": [
       "<div>\n",
       "<style scoped>\n",
       "    .dataframe tbody tr th:only-of-type {\n",
       "        vertical-align: middle;\n",
       "    }\n",
       "\n",
       "    .dataframe tbody tr th {\n",
       "        vertical-align: top;\n",
       "    }\n",
       "\n",
       "    .dataframe thead th {\n",
       "        text-align: right;\n",
       "    }\n",
       "</style>\n",
       "<table border=\"1\" class=\"dataframe\">\n",
       "  <thead>\n",
       "    <tr style=\"text-align: right;\">\n",
       "      <th></th>\n",
       "      <th>Count</th>\n",
       "      <th>Mean</th>\n",
       "      <th>Std</th>\n",
       "      <th>Min</th>\n",
       "      <th>25% (Q1)</th>\n",
       "      <th>50% (Median)</th>\n",
       "      <th>75% (Q3)</th>\n",
       "      <th>Max</th>\n",
       "      <th>IQR</th>\n",
       "    </tr>\n",
       "    <tr>\n",
       "      <th>Occupation Category</th>\n",
       "      <th></th>\n",
       "      <th></th>\n",
       "      <th></th>\n",
       "      <th></th>\n",
       "      <th></th>\n",
       "      <th></th>\n",
       "      <th></th>\n",
       "      <th></th>\n",
       "      <th></th>\n",
       "    </tr>\n",
       "  </thead>\n",
       "  <tbody>\n",
       "    <tr>\n",
       "      <th>Employed</th>\n",
       "      <td>4497.0</td>\n",
       "      <td>42.8</td>\n",
       "      <td>12.1</td>\n",
       "      <td>19.0</td>\n",
       "      <td>33.0</td>\n",
       "      <td>42.0</td>\n",
       "      <td>52.0</td>\n",
       "      <td>73.0</td>\n",
       "      <td>19.0</td>\n",
       "    </tr>\n",
       "    <tr>\n",
       "      <th>Child (School-age)</th>\n",
       "      <td>1504.0</td>\n",
       "      <td>11.1</td>\n",
       "      <td>3.7</td>\n",
       "      <td>5.0</td>\n",
       "      <td>8.0</td>\n",
       "      <td>11.0</td>\n",
       "      <td>14.0</td>\n",
       "      <td>17.0</td>\n",
       "      <td>6.0</td>\n",
       "    </tr>\n",
       "    <tr>\n",
       "      <th>Retired</th>\n",
       "      <td>790.0</td>\n",
       "      <td>76.9</td>\n",
       "      <td>7.9</td>\n",
       "      <td>66.0</td>\n",
       "      <td>71.0</td>\n",
       "      <td>75.0</td>\n",
       "      <td>81.0</td>\n",
       "      <td>116.0</td>\n",
       "      <td>10.0</td>\n",
       "    </tr>\n",
       "    <tr>\n",
       "      <th>Student</th>\n",
       "      <td>620.0</td>\n",
       "      <td>20.2</td>\n",
       "      <td>1.8</td>\n",
       "      <td>18.0</td>\n",
       "      <td>19.0</td>\n",
       "      <td>20.0</td>\n",
       "      <td>21.0</td>\n",
       "      <td>36.0</td>\n",
       "      <td>2.0</td>\n",
       "    </tr>\n",
       "    <tr>\n",
       "      <th>Unemployed</th>\n",
       "      <td>487.0</td>\n",
       "      <td>42.5</td>\n",
       "      <td>11.2</td>\n",
       "      <td>19.0</td>\n",
       "      <td>34.0</td>\n",
       "      <td>42.0</td>\n",
       "      <td>50.0</td>\n",
       "      <td>65.0</td>\n",
       "      <td>16.0</td>\n",
       "    </tr>\n",
       "    <tr>\n",
       "      <th>Child</th>\n",
       "      <td>472.0</td>\n",
       "      <td>2.1</td>\n",
       "      <td>1.4</td>\n",
       "      <td>0.0</td>\n",
       "      <td>1.0</td>\n",
       "      <td>2.0</td>\n",
       "      <td>3.0</td>\n",
       "      <td>4.0</td>\n",
       "      <td>2.0</td>\n",
       "    </tr>\n",
       "  </tbody>\n",
       "</table>\n",
       "</div>"
      ],
      "text/plain": [
       "                      Count  Mean   Std   Min  25% (Q1)  50% (Median)  \\\n",
       "Occupation Category                                                     \n",
       "Employed             4497.0  42.8  12.1  19.0      33.0          42.0   \n",
       "Child (School-age)   1504.0  11.1   3.7   5.0       8.0          11.0   \n",
       "Retired               790.0  76.9   7.9  66.0      71.0          75.0   \n",
       "Student               620.0  20.2   1.8  18.0      19.0          20.0   \n",
       "Unemployed            487.0  42.5  11.2  19.0      34.0          42.0   \n",
       "Child                 472.0   2.1   1.4   0.0       1.0           2.0   \n",
       "\n",
       "                     75% (Q3)    Max   IQR  \n",
       "Occupation Category                         \n",
       "Employed                 52.0   73.0  19.0  \n",
       "Child (School-age)       14.0   17.0   6.0  \n",
       "Retired                  81.0  116.0  10.0  \n",
       "Student                  21.0   36.0   2.0  \n",
       "Unemployed               50.0   65.0  16.0  \n",
       "Child                     3.0    4.0   2.0  "
      ]
     },
     "execution_count": 31,
     "metadata": {},
     "output_type": "execute_result"
    }
   ],
   "source": [
    "#Group by Occupation Category and Age\n",
    "occupationcat_age = df.groupby('Occupation Category')['Age (years)']\n",
    "\n",
    "occupationcat_age_stats = describe_with_iqr_grouped_df(occupationcat_age)\n",
    "occupationcat_age_stats"
   ]
  },
  {
   "cell_type": "markdown",
   "id": "3a02c863",
   "metadata": {},
   "source": [
    "The mean age for unemployment is 42.5. The standard deviation is high suggesting variablility in the range of the data.\n",
    "\n",
    "Determine percentage unemployment of total population/eligible to work (employed and unemployed) population and male vs female unemployment."
   ]
  },
  {
   "cell_type": "code",
   "execution_count": 32,
   "id": "bd0f5cab",
   "metadata": {},
   "outputs": [
    {
     "name": "stdout",
     "output_type": "stream",
     "text": [
      "The unemployment rate as a percentage of the total population is: 5.8%\n",
      "The unemployment rate as a percentage of the eligible population is: 9.8%\n"
     ]
    }
   ],
   "source": [
    "#Filter data for Unemployed\n",
    "unemployed_df = df[df['Occupation Category'] == 'Unemployed']\n",
    "\n",
    "#Filter data for those eligble to work (Employed and Unemployed)\n",
    "eligible_to_work = df[(df['Occupation Category'] == 'Employed') | (df['Occupation Category'] == 'Unemployed')]\n",
    "eligible_population = len(eligible_to_work)\n",
    "\n",
    "#Calculate unemployment rates\n",
    "unemployed_rate_total = len(unemployed_df) / total_population * 100\n",
    "unemployed_rate_eligible = len(unemployed_df) / eligible_population * 100\n",
    "\n",
    "print(f\"The unemployment rate as a percentage of the total population is: {unemployed_rate_total:.1f}%\")\n",
    "print(f\"The unemployment rate as a percentage of the eligible population is: {unemployed_rate_eligible:.1f}%\")"
   ]
  },
  {
   "cell_type": "markdown",
   "id": "c338922d",
   "metadata": {},
   "source": [
    "The unemployment rate for the total population is 5.8% which is higher than the national average (England and Wales) in 2023.\n",
    "\n",
    "The unemployment rate for those eligible to work is 9.8%.\n",
    "\n",
    "This may be due to many jobs located outside of town. Or could be due to a skills gap in the population. There is no significant difference between male and female salaries (see above in salary calculations). \n",
    "\n",
    "The unemployment rate ((England and Wales) was estimated at 4.3% in 2023:\n",
    "\n",
    "Office for National Statistics (2023) Employment in the UK: 2023. Available online: https://www.ons.gov.uk/employmentandlabourmarket/peopleinwork/employmentandemployeetypes/bulletins/employmentintheuk/september2023 [Accessed 08/12/2023]"
   ]
  },
  {
   "cell_type": "code",
   "execution_count": 33,
   "id": "dc996a16",
   "metadata": {},
   "outputs": [
    {
     "name": "stdout",
     "output_type": "stream",
     "text": [
      "Percentage of Unemployed by Gender:\n",
      "Female    64.9\n",
      "Male      35.1\n",
      "Name: Gender, dtype: float64\n"
     ]
    }
   ],
   "source": [
    "#What percentage of count of unemployed are male and female\n",
    "unemployed_gender_counts = unemployed_df['Gender'].value_counts()\n",
    "\n",
    "#Calculate the percentage rounded to 1dp\n",
    "unemployed_gender_percentage = round((unemployed_gender_counts / unemployed_gender_counts.sum()) * 100, 1)\n",
    "\n",
    "print(\"Percentage of Unemployed by Gender:\")\n",
    "print(unemployed_gender_percentage)"
   ]
  },
  {
   "cell_type": "markdown",
   "id": "d9174345",
   "metadata": {},
   "source": [
    "*Visualise breakdown of unemployment by age and separated by gender.*"
   ]
  },
  {
   "cell_type": "code",
   "execution_count": 34,
   "id": "980c9659",
   "metadata": {},
   "outputs": [
    {
     "data": {
      "image/png": "[encoded data removed]",
      "text/plain": [
       "<Figure size 640x480 with 1 Axes>"
      ]
     },
     "metadata": {},
     "output_type": "display_data"
    }
   ],
   "source": [
    "#Plot age Age vs count of unemployed (filtering on Occupation Category series) for males and females (Gender series)\n",
    "#Define function for this\n",
    "def plot_age_unemployed(data):\n",
    "    \"\"\"\n",
    "    Plot Age vs Count of Unemployed for Males and Females.\n",
    "\n",
    "    Parameters:\n",
    "    data (pd.DataFrame): DataFrame containing data on unemployed individuals, including 'Age (years)' and 'Gender' columns.\n",
    "\n",
    "    Returns:\n",
    "    fig (matplotlib.figure.Figure): The generated matplotlib figure.\n",
    "    \"\"\"\n",
    "    fig, ax = plt.subplots()\n",
    "    sns.histplot(data, x='Age (years)', hue='Gender', bins=15, palette='viridis', multiple='stack', ax=ax)\n",
    "\n",
    "    plt.xlabel('Age (years)')\n",
    "    plt.ylabel('Count of Unemployed')\n",
    "    plt.legend(title='Gender', labels=['Female', 'Male'])\n",
    "\n",
    "    plt.tight_layout()\n",
    "    \n",
    "    return fig\n",
    "\n",
    "age_vs_unemployed_gender = plot_age_unemployed(unemployed_df)"
   ]
  },
  {
   "cell_type": "markdown",
   "id": "f1b1b154",
   "metadata": {},
   "source": [
    "Certain ages are more likely to be unemployed than others. A higher proportion of people in their mid-thirties to early fifties are unemployed.\n",
    "\n",
    "At every age, except for 18 year olds and early twenties, a higher proportion of females are unemployed compared to males."
   ]
  },
  {
   "cell_type": "markdown",
   "id": "af4c6af3",
   "metadata": {},
   "source": [
    "*Summary of unemployment*\n",
    "\n",
    "The unemployment rate for females is higher than for males (the male rate equals the UK unemployment rate). A higher proportion of people in their mid-thirties to early fifties are unemployed.\n",
    "\n",
    "At every age, except for 18 year olds and early twenties, a higher proportion of females are unemployed compared to males. \n",
    "\n",
    "When interpreting unemployment rates, need to consider:\n",
    "\n",
    "1. Women and men might choose different types of occupations, and some industries may have different unemployment rates.\n",
    "\n",
    "2. Disparities in educational attainment can influence employment opportunities. \n",
    "\n",
    "3. Family responsibilities, such as caregiving, can still impact employment rates, especially as many of the jobs require commuting to the nearby cities.\n",
    "\n",
    "4. Gender discrimination can play a role in employment disparities. Barriers to career advancement or wage gaps may affect unemployment rates."
   ]
  },
  {
   "cell_type": "markdown",
   "id": "41b62c67",
   "metadata": {},
   "source": [
    "**Marital Status**"
   ]
  },
  {
   "cell_type": "markdown",
   "id": "d7e26372",
   "metadata": {},
   "source": [
    "Analysis undertaken in this section:\n",
    "\n",
    "1. Summary stats of marital status by age\n",
    "2. Distribution of marital status\n",
    "3. Distribution of marital status by age\n",
    "4. Distribution of divorce by gender\n",
    "5. Crude rate\n",
    "    - divorce\n",
    "    - marriage\n",
    "6. Divorce to marriage ratio"
   ]
  },
  {
   "cell_type": "markdown",
   "id": "3180b000",
   "metadata": {},
   "source": [
    "*Summary stats of Marital Status by Age*"
   ]
  },
  {
   "cell_type": "code",
   "execution_count": 35,
   "id": "47e35eb8",
   "metadata": {},
   "outputs": [
    {
     "data": {
      "text/html": [
       "<div>\n",
       "<style scoped>\n",
       "    .dataframe tbody tr th:only-of-type {\n",
       "        vertical-align: middle;\n",
       "    }\n",
       "\n",
       "    .dataframe tbody tr th {\n",
       "        vertical-align: top;\n",
       "    }\n",
       "\n",
       "    .dataframe thead th {\n",
       "        text-align: right;\n",
       "    }\n",
       "</style>\n",
       "<table border=\"1\" class=\"dataframe\">\n",
       "  <thead>\n",
       "    <tr style=\"text-align: right;\">\n",
       "      <th></th>\n",
       "      <th>Count</th>\n",
       "      <th>Mean</th>\n",
       "      <th>Std</th>\n",
       "      <th>Min</th>\n",
       "      <th>25% (Q1)</th>\n",
       "      <th>50% (Median)</th>\n",
       "      <th>75% (Q3)</th>\n",
       "      <th>Max</th>\n",
       "      <th>IQR</th>\n",
       "    </tr>\n",
       "    <tr>\n",
       "      <th>Marital Status</th>\n",
       "      <th></th>\n",
       "      <th></th>\n",
       "      <th></th>\n",
       "      <th></th>\n",
       "      <th></th>\n",
       "      <th></th>\n",
       "      <th></th>\n",
       "      <th></th>\n",
       "      <th></th>\n",
       "    </tr>\n",
       "  </thead>\n",
       "  <tbody>\n",
       "    <tr>\n",
       "      <th>Single</th>\n",
       "      <td>3004.0</td>\n",
       "      <td>38.2</td>\n",
       "      <td>14.2</td>\n",
       "      <td>18.0</td>\n",
       "      <td>25.8</td>\n",
       "      <td>37.0</td>\n",
       "      <td>48.0</td>\n",
       "      <td>96.0</td>\n",
       "      <td>22.2</td>\n",
       "    </tr>\n",
       "    <tr>\n",
       "      <th>Married</th>\n",
       "      <td>2220.0</td>\n",
       "      <td>50.5</td>\n",
       "      <td>16.7</td>\n",
       "      <td>18.0</td>\n",
       "      <td>38.0</td>\n",
       "      <td>48.5</td>\n",
       "      <td>62.0</td>\n",
       "      <td>116.0</td>\n",
       "      <td>24.0</td>\n",
       "    </tr>\n",
       "    <tr>\n",
       "      <th>Divorced</th>\n",
       "      <td>791.0</td>\n",
       "      <td>42.4</td>\n",
       "      <td>17.4</td>\n",
       "      <td>16.0</td>\n",
       "      <td>29.0</td>\n",
       "      <td>39.0</td>\n",
       "      <td>52.0</td>\n",
       "      <td>100.0</td>\n",
       "      <td>23.0</td>\n",
       "    </tr>\n",
       "    <tr>\n",
       "      <th>Widowed</th>\n",
       "      <td>380.0</td>\n",
       "      <td>67.9</td>\n",
       "      <td>17.2</td>\n",
       "      <td>19.0</td>\n",
       "      <td>66.0</td>\n",
       "      <td>71.0</td>\n",
       "      <td>78.2</td>\n",
       "      <td>105.0</td>\n",
       "      <td>12.2</td>\n",
       "    </tr>\n",
       "  </tbody>\n",
       "</table>\n",
       "</div>"
      ],
      "text/plain": [
       "                 Count  Mean   Std   Min  25% (Q1)  50% (Median)  75% (Q3)  \\\n",
       "Marital Status                                                               \n",
       "Single          3004.0  38.2  14.2  18.0      25.8          37.0      48.0   \n",
       "Married         2220.0  50.5  16.7  18.0      38.0          48.5      62.0   \n",
       "Divorced         791.0  42.4  17.4  16.0      29.0          39.0      52.0   \n",
       "Widowed          380.0  67.9  17.2  19.0      66.0          71.0      78.2   \n",
       "\n",
       "                  Max   IQR  \n",
       "Marital Status               \n",
       "Single           96.0  22.2  \n",
       "Married         116.0  24.0  \n",
       "Divorced        100.0  23.0  \n",
       "Widowed         105.0  12.2  "
      ]
     },
     "execution_count": 35,
     "metadata": {},
     "output_type": "execute_result"
    }
   ],
   "source": [
    "#Group by Marital Status and Age columns\n",
    "marital_status_age = df.groupby('Marital Status')['Age (years)']\n",
    "\n",
    "#Print the summary statistics for Age by Marital Status\n",
    "marital_status_age_stats = describe_with_iqr_grouped_df(marital_status_age)\n",
    "marital_status_age_stats"
   ]
  },
  {
   "cell_type": "markdown",
   "id": "d5996621",
   "metadata": {},
   "source": [
    "Standard deviation is greatest for Divorced i.e. variability of all data points from the mean is the greatest. The 25th percentile is furthest from the mean for Divorced compared to Married, Single and Widowed, suggesting that the data is spread out over a wider range, producing greater variability (people are getting divorced over the widest age range). "
   ]
  },
  {
   "cell_type": "markdown",
   "id": "2f950faf",
   "metadata": {},
   "source": [
    "*Distribution of marital status*"
   ]
  },
  {
   "cell_type": "code",
   "execution_count": 36,
   "id": "4fab8595",
   "metadata": {},
   "outputs": [
    {
     "data": {
      "image/png": "[encoded data removed]",
      "text/plain": [
       "<Figure size 640x480 with 1 Axes>"
      ]
     },
     "metadata": {},
     "output_type": "display_data"
    }
   ],
   "source": [
    "#Plot distribution of Marital Status\n",
    "marital_status_distribution = plot_category_distribution(df, 'Marital Status')"
   ]
  },
  {
   "cell_type": "markdown",
   "id": "72f31eec",
   "metadata": {},
   "source": [
    "*Boxplot of age vs marital status*\n",
    "\n",
    "The box represents the interquartile range (IQR), which is the range between the first (25th percentile) and third (75th percentile) quartiles of the data. The height of the box shows the spread of the middle 50% of the data.\n",
    "\n",
    "The median of the data is represented by the line within the box.\n",
    "\n",
    "Whisker lines extending from the box indicate the range of the data, excluding outliers. They typically extend up to 1.5 times the IQR.\n",
    "    \n",
    "Individual points beyond the whiskers are considered outliers."
   ]
  },
  {
   "cell_type": "code",
   "execution_count": 37,
   "id": "ac1bfd1c",
   "metadata": {},
   "outputs": [
    {
     "data": {
      "image/png": "[encoded data removed]",
      "text/plain": [
       "<Figure size 800x800 with 1 Axes>"
      ]
     },
     "metadata": {},
     "output_type": "display_data"
    }
   ],
   "source": [
    "#Print boxplot of Age vs Marital Status\n",
    "age_vs_marital_status = plot_boxplot(df, 'Marital Status', 'Age (years)')"
   ]
  },
  {
   "cell_type": "markdown",
   "id": "92c23379",
   "metadata": {},
   "source": [
    "The majority of divorced population are in middle age. The range of the data indicates that divorce occurs from legal age of marriage to old age.\n",
    "\n",
    "Majority of widowed population between 65 and 78 years old. Several outliers for Widowed vs Age (years). It is possible for people to become widowed at 18, but not so likely as in old age."
   ]
  },
  {
   "cell_type": "markdown",
   "id": "b709bbac",
   "metadata": {},
   "source": [
    "*Divorced by gender*"
   ]
  },
  {
   "cell_type": "code",
   "execution_count": 38,
   "id": "392817e7",
   "metadata": {},
   "outputs": [
    {
     "name": "stdout",
     "output_type": "stream",
     "text": [
      "Number of divorced females: 474\n",
      "Number of divorced males: 317\n"
     ]
    }
   ],
   "source": [
    "#Filter rows where Marital Status is Divorced and Gender is Female or Male\n",
    "female_divorcees = df[(df['Marital Status'].str.lower() == 'divorced') & (df['Gender'].str.lower() == 'female')]\n",
    "male_divorcees = df[(df['Marital Status'].str.lower() == 'divorced') & (df['Gender'].str.lower() == 'male')]\n",
    "\n",
    "#Count the number of male and female divorcees\n",
    "count_female_divorcees = len(female_divorcees)\n",
    "count_male_divorcees = len(male_divorcees)\n",
    "\n",
    "print(f\"Number of divorced females: {count_female_divorcees}\")\n",
    "print(f\"Number of divorced males: {count_male_divorcees}\")"
   ]
  },
  {
   "cell_type": "code",
   "execution_count": 39,
   "id": "b58609ac",
   "metadata": {},
   "outputs": [
    {
     "data": {
      "image/png": "[encoded data removed]",
      "text/plain": [
       "<Figure size 640x480 with 1 Axes>"
      ]
     },
     "metadata": {},
     "output_type": "display_data"
    }
   ],
   "source": [
    "#Visualise number of male and female divorcees in sns plot\n",
    "def plot_divorced_gender(divorced):\n",
    "    \"\"\"\n",
    "    Visualise the counts of divorced individuals by gender in a seaborn count plot.\n",
    "\n",
    "    Parameters:\n",
    "    divorced (pandas.DataFrame): The DataFrame containing divorced individuals.\n",
    "\n",
    "    Returns:\n",
    "    fig (matplotlib.figure.Figure): The generated matplotlib figure.\n",
    "    \"\"\"\n",
    "    #Create a count plot for divorced individuals by Gender\n",
    "    fig, ax = plt.subplots()\n",
    "    sns.countplot(x='Marital Status', hue='Gender', data=divorced, palette='viridis', ax=ax)\n",
    "\n",
    "    plt.xlabel('Marital Status')\n",
    "    plt.ylabel('Count')\n",
    "    plt.tight_layout()\n",
    "\n",
    "    plt.show()\n",
    "\n",
    "    return fig\n",
    "\n",
    "#Filter rows where Marital Status is Divorced\n",
    "divorced = df[df['Marital Status'].str.lower() == 'divorced']\n",
    "\n",
    "divorced_vs_gender = plot_divorced_gender(divorced)"
   ]
  },
  {
   "cell_type": "markdown",
   "id": "6fb56d96",
   "metadata": {},
   "source": [
    "Marital status by gender indicates there are more female divorcees than there are male, indicating some male divorcees may potentially leave the town. May also infer that more divorced women may remain due to care responsibilities for children.\n",
    "\n",
    "To calculate crude divorce rate, marriage rate and divorce to marriage ratio, a baseline count of divorces is based on the number of divorced women because there is a greater number compared to men. \n",
    "\n",
    "Number of marriages is calculated by counting the number of ‘married’ individuals and dividing by two. Assuming that each marriage contains 2 individuals."
   ]
  },
  {
   "cell_type": "code",
   "execution_count": 40,
   "id": "6e10725e",
   "metadata": {},
   "outputs": [
    {
     "name": "stdout",
     "output_type": "stream",
     "text": [
      "Number of marriages: 1110\n"
     ]
    }
   ],
   "source": [
    "#Filter rows where the Marital Status is Married\n",
    "married = df[df['Marital Status'].str.lower() == 'married']\n",
    "\n",
    "#Filter rows where the Marital Status is Married and Gender is Female\n",
    "female_married = df[(df['Marital Status'].str.lower() == 'married') & (df['Gender'].str.lower() == 'female')]\n",
    "\n",
    "#Determine the total number of married people\n",
    "married_population = len(married)\n",
    "female_married_population = len(female_married)\n",
    "\n",
    "#Divide married population by 2\n",
    "count_marriages = married_population / 2\n",
    "\n",
    "print(f\"Number of marriages: {count_marriages:.0f}\")"
   ]
  },
  {
   "cell_type": "markdown",
   "id": "5790defd",
   "metadata": {},
   "source": [
    "*Crude divorce rate (calculated based on count of female divorcees divided by female married population and total population)*"
   ]
  },
  {
   "cell_type": "code",
   "execution_count": 41,
   "id": "846efb73",
   "metadata": {},
   "outputs": [
    {
     "name": "stdout",
     "output_type": "stream",
     "text": [
      "Refined Divorce Rate per 1000 people: 424.4\n",
      "Crude Divorce Rate per 1000 people: 56.6\n"
     ]
    }
   ],
   "source": [
    "#Calculate the crude and refined divorce rate (calculated based on count of female divorcees divided by married female population and total population)\n",
    "refined_divorce_rate= (count_female_divorcees / female_married_population * 1000)\n",
    "crude_divorce_rate = (count_female_divorcees / total_population * 1000)\n",
    "\n",
    "print(f\"Refined Divorce Rate per 1000 people: {refined_divorce_rate:.1f}\")\n",
    "print(f\"Crude Divorce Rate per 1000 people: {crude_divorce_rate:.1f}\")"
   ]
  },
  {
   "cell_type": "markdown",
   "id": "c765c2f7",
   "metadata": {},
   "source": [
    "The crude divorce rate gives a general overview of marriage in an area, but it does not take people who cannot marry into account. It includes young children, who are clearly not of marriageable age. In a town with large numbers of children or single adults, the crude divorce rate can seem low. In a town with few children and single adults, the crude divorce rate can seem high.\n",
    "\n",
    "Refined divorce rate measures the number of divorces per 1,000 women married to men, so that all unmarried persons are left out of the calculation. This is a preferred calculation of divorce rate."
   ]
  },
  {
   "cell_type": "markdown",
   "id": "121ba482",
   "metadata": {},
   "source": [
    "*Crude marriage rate (calculated based on number of marriages divided by total population)*"
   ]
  },
  {
   "cell_type": "code",
   "execution_count": 42,
   "id": "af88fc6d",
   "metadata": {},
   "outputs": [
    {
     "name": "stdout",
     "output_type": "stream",
     "text": [
      "Crude Marriage Rate per 1000 people: 132.6\n"
     ]
    }
   ],
   "source": [
    "#Calculate the crude marriage rate (calculated based on number of marriages (married population divided by 2) divided by total population))\n",
    "crude_marriage_rate = (count_marriages / total_population) * 1000\n",
    "\n",
    "print(f\"Crude Marriage Rate per 1000 people: {crude_marriage_rate:.1f}\")"
   ]
  },
  {
   "cell_type": "markdown",
   "id": "0987b2f7",
   "metadata": {},
   "source": [
    "*Divorce to marriage ratio*"
   ]
  },
  {
   "cell_type": "code",
   "execution_count": 43,
   "id": "36951077",
   "metadata": {
    "scrolled": true
   },
   "outputs": [
    {
     "name": "stdout",
     "output_type": "stream",
     "text": [
      "Divorce-to-Marriage Ratio: 0.427\n"
     ]
    }
   ],
   "source": [
    "#Calculate the divorce-to-marriage ratio (based on count_female_divorcees divided by count_marriages)\n",
    "divorce_to_marriage_ratio = count_female_divorcees / count_marriages\n",
    "\n",
    "print(f\"Divorce-to-Marriage Ratio: {divorce_to_marriage_ratio:.3f}\")"
   ]
  },
  {
   "cell_type": "markdown",
   "id": "939e6319",
   "metadata": {},
   "source": [
    "This ratio compares the number of divorces to the number of marriages (rather than number of married females). Based on the above ratio, 42.7% of marriages will end in divorce. This compares to refined divorce rate above of 42.4%.\n",
    "\n",
    "As of 2021, the average divorce rate in the UK is 42%:\n",
    "\n",
    "Harbour Family Law (2023) How many marriages end in divorce in the UK? Available online: https://www.harbourfamilylaw.co.uk/how-many-marriages-end-in-divorce-in-the-uk/ [Accessed 08/12/2023]"
   ]
  },
  {
   "cell_type": "markdown",
   "id": "154ddc79",
   "metadata": {},
   "source": [
    "*Summary of marital status*\n",
    "\n",
    "Majority of widowed population between 65 and 78 years old. Several outliers for Widowed vs Age (years). It is possible for people to become widowed at younger ages, but not so likely as in old age.\n",
    "\n",
    "Divorce rate for the town matches the UK national divorce rate.\n",
    "\n",
    "Divorce by gender indicates there are more female divorcees than there are male, indicating some male divorcees may potentially leave the town. May also infer that more divorced women may remain due to care responsibilities for children.\n",
    "\n",
    "The majority of divorced population are in middle age. The range of the data indicates that divorce occurs from legal age of marriage to old age."
   ]
  },
  {
   "cell_type": "markdown",
   "id": "5f162a3b",
   "metadata": {},
   "source": [
    "**Birth rate**"
   ]
  },
  {
   "cell_type": "markdown",
   "id": "f66df776",
   "metadata": {},
   "source": [
    "Analysis undertaken in this section:\n",
    "\n",
    "1. Birth rate\n",
    "    - For specific age range (25-29) of female population\n",
    "    - For child-bearing women \n",
    "    - Crude birth rate\n",
    "    - Evolving birth rate"
   ]
  },
  {
   "cell_type": "markdown",
   "id": "13a89bbc",
   "metadata": {},
   "source": [
    "Don't have any historical census data, so birth rate will be calculated using (many!) assumptions.\n",
    "\n",
    "To determine birth rate for women of child-bearing age in the past year (the year of the census), need to determine the number of babies that are 0 years old, and select an age range for women of child-bearing age. E.g. choosing women in age range 25-29."
   ]
  },
  {
   "cell_type": "markdown",
   "id": "ec6bd711",
   "metadata": {},
   "source": [
    "Making a massive assumption that women of child-bearing age are only in 25-29 age range (which is obviously not true), but similar methodology has been used for cohort component population projection: \n",
    "\n",
    "Measure Evaluation (n. d.) Lesson 8: the cohort component population projection method. Available online: https://measureevaluation.org/resources/training/online-courses-and-resources/non-certificate-courses-and-mini-tutorials/population-analysis-for-planners/lesson-8.html [Accessed 08/12/2023]\n",
    "\n",
    "The birth rate is traditionally calculated using the total number of live births in a given period divided by the child-bearing population during that period. The birth rate is typically expressed over a specific time period (this calculation does not account for time).\n",
    "\n",
    "This method has several drawbacks, in addition to the above assumptions being made, it also assumes the components of demographic change, mortality, fertility, and migration, will remain constant."
   ]
  },
  {
   "cell_type": "code",
   "execution_count": 44,
   "id": "2819cd71",
   "metadata": {},
   "outputs": [
    {
     "name": "stdout",
     "output_type": "stream",
     "text": [
      "The number of children aged zero is: 88\n"
     ]
    }
   ],
   "source": [
    "#Calculate number of children aged 0\n",
    "number_of_children_zero = len(df[df['Age (years)'] == 0])\n",
    "print(f\"The number of children aged zero is: {number_of_children_zero}\")"
   ]
  },
  {
   "cell_type": "code",
   "execution_count": 45,
   "id": "0e2419d8",
   "metadata": {},
   "outputs": [
    {
     "name": "stdout",
     "output_type": "stream",
     "text": [
      "The birth rate per 1000 females aged 25-29 is: 314.3\n"
     ]
    }
   ],
   "source": [
    "#Calculate how many children were born in the year of the census as a fraction of the number of women aged 25-29. \n",
    "#Expressed as “births per 1000”.\n",
    "\n",
    "def calculate_birth_rate(data, age_range, number_of_children_age, gender='Female'):\n",
    "    \"\"\"\n",
    "    Calculate the birth rate per 1000 females in a specified age range and gender.\n",
    "\n",
    "    Parameters:\n",
    "    data (pd.DataFrame): Input DataFrame.\n",
    "    age_range (str): Age range to filter the DataFrame.\n",
    "    number_of_children_age (int): Number of births in the specified age range.\n",
    "    gender (str, optional): Gender to filter the DataFrame. Default is 'Female'.\n",
    "\n",
    "    Returns:\n",
    "    float: The birth rate per 1000 females for specific age range\n",
    "    \"\"\"\n",
    "    #Filter df for the specified age range and gender\n",
    "    filtered_df = df[(df['Age Group'] == age_range) & (df['Gender'] == gender)]\n",
    "\n",
    "    #Calculate the fraction of births per female in age range\n",
    "    fraction_births_per_female = number_of_children_age / len(filtered_df)\n",
    "\n",
    "    #Express the result as births per 1000 females in age range\n",
    "    births_per_1000_females = fraction_births_per_female * 1000\n",
    "\n",
    "    return births_per_1000_females\n",
    "\n",
    "birth_rate_25_29 = calculate_birth_rate(df, '25-29', number_of_children_zero)\n",
    "print(f\"The birth rate per 1000 females aged 25-29 is: {birth_rate_25_29:.1f}\")"
   ]
  },
  {
   "cell_type": "markdown",
   "id": "91700b0a",
   "metadata": {},
   "source": [
    "This birth rate is very high and is not indicative of the number of babies born to all women of childbearing age. \n",
    "\n",
    "As comparator, calculate the fraction of aged 0 babies born in the year as proportion of childbearing women (aged 15 to 44), also known as the fertility rate. \n",
    "\n",
    "The national (England and Wales) rate was 54.1 births per 1,000 women in 2021:\n",
    "\n",
    "Office for National Statistics (2022) Births in England and Wales: 2021. Available online: https://www.ons.gov.uk/peoplepopulationandcommunity/birthsdeathsandmarriages/livebirths/bulletins/birthsummarytablesenglandandwales/2021 [Accessed 08/12/2023]\n",
    "\n",
    "This method is used by the ONS for fertility rate calculation: \n",
    "\n",
    "Office for National Statistics (2023) Births in England and Wales: summary tables. Available online: https://www.ons.gov.uk/peoplepopulationandcommunity/birthsdeathsandmarriages/livebirths/datasets/birthsummarytables [Accessed 08/12/2023]"
   ]
  },
  {
   "cell_type": "code",
   "execution_count": 46,
   "id": "6567bd6d",
   "metadata": {},
   "outputs": [
    {
     "name": "stdout",
     "output_type": "stream",
     "text": [
      "The birth rate per 1000 females aged 15-44 is: 44.1\n"
     ]
    }
   ],
   "source": [
    "#Calculate how many children were born in the year of the census as a fraction of the number of women of childbearing age (15 to 44). \n",
    "#Expressed as “births per 1000”.\n",
    "#Create a function to accept multiple age ranges\n",
    "def calculate_birth_rate_multiple_ranges(data, target_age_ranges, number_of_children_age, gender='Female'):\n",
    "    \"\"\"\n",
    "    Calculate the birth rate per 1000 females in a a number of age ranges provided as a list and gender.\n",
    "\n",
    "    Parameters:\n",
    "    data (pd.DataFrame): Input DataFrame.\n",
    "    target_age_ranges (list): List of age ranges to combine for calculation.\n",
    "    number_of_children_age (int): Number of births in the specified age range.\n",
    "    gender (str, optional): Gender to filter the DataFrame. Default is 'Female'.\n",
    "\n",
    "    Returns:\n",
    "    float: The birth rate per 1000 females in the combined age range.\n",
    "    \"\"\"\n",
    "\n",
    "    #Combine age ranges aged 15-44 and filter by gender\n",
    "    age_range_combined_range_female = df[df['Age Group'].isin(target_age_ranges) & (df['Gender'] == gender)]\n",
    "\n",
    "    #Calculate the total number of women in the combined age range\n",
    "    total_women_combined_range = len(age_range_combined_range_female)\n",
    "\n",
    "    #Calculate the fraction of births per female in the combined age range\n",
    "    fraction_births_per_female_combined_range = number_of_children_age / total_women_combined_range\n",
    "\n",
    "    #Express the result as births per 1000 females in the combined age range\n",
    "    births_per_1000_females_combined_range = fraction_births_per_female_combined_range * 1000\n",
    "\n",
    "    return births_per_1000_females_combined_range\n",
    "\n",
    "target_age_ranges = ['15-19', '20-24', '25-29', '30-34', '35-39', '40-44']\n",
    "\n",
    "birth_rate_15_44 = calculate_birth_rate_multiple_ranges(df, target_age_ranges, number_of_children_zero)\n",
    "print(f\"The birth rate per 1000 females aged 15-44 is: {birth_rate_15_44:.1f}\")"
   ]
  },
  {
   "cell_type": "markdown",
   "id": "8e33c3cf",
   "metadata": {},
   "source": [
    "This rate is  lower than the rate for the England and Wales (2021).\n",
    "\n",
    "This birth rate calculation assumes a uniform distribution of births across the specified age ranges. Assumes an equal likelihood of women in each age range giving birth, which may not accurately represent real-world scenarios where birth rates can vary by age.\n",
    "\n",
    "The calculation assumes that the number of births is independent of other factors. In reality, various factors such as economic conditions, cultural norms, and healthcare access can influence birth rates. Population dynamics, migration, and other demographic factors are also not explicitly considered.\n",
    "\n",
    "Does not take into account time. Assumes a constant birth rate within the specified age ranges. If the birth rate varies significantly over time or between different ranges, the calculated birth rate may not accurately represent the reality.\n",
    "\n",
    "However, this is the best calculation to use because it generalises the least by accounting for childbearing age women and is more specific than using a crude birth rate for the total population (see below)."
   ]
  },
  {
   "cell_type": "markdown",
   "id": "c56c4203",
   "metadata": {},
   "source": [
    "*Crude birth rate*\n",
    "\n",
    "This is a “crude” birth rate because the denominator, population size, consists of the total population, not just the number of women or even the number of women of childbearing age.\n",
    "\n",
    "WHO crude birth rate calculation:\n",
    "\n",
    "World Health Organisation (2023) Crude birth rate. Available online: https://www.who.int/data/gho/indicator-metadata-registry/imr-details/1139 [Accessed 08/12/2023]"
   ]
  },
  {
   "cell_type": "code",
   "execution_count": 47,
   "id": "00a3cb76",
   "metadata": {},
   "outputs": [
    {
     "name": "stdout",
     "output_type": "stream",
     "text": [
      "The crude birth rate per 1000 population is: 10.5\n"
     ]
    }
   ],
   "source": [
    "#Calculate the crude birth rate per 1,000 of total population\n",
    "crude_birth_rate = (number_of_children_zero/total_population) * 1000\n",
    "\n",
    "print(f\"The crude birth rate per 1000 population is: {crude_birth_rate:.1f}\")"
   ]
  },
  {
   "cell_type": "markdown",
   "id": "d2f35fc8",
   "metadata": {},
   "source": [
    "**Evolving Birth Rate**\n",
    "\n",
    "It is also difficult to determine if the birth rate was different in the past compared to the present because no historical data is provided.\n",
    "\n",
    "Can try to evaluate this by determining the number of children aged 4 as a fraction of the number of women aged 30-34.\n",
    "\n",
    "Then compare to birth rate for females aged 25-29 (calculated above)."
   ]
  },
  {
   "cell_type": "code",
   "execution_count": 48,
   "id": "788b75e3",
   "metadata": {},
   "outputs": [
    {
     "name": "stdout",
     "output_type": "stream",
     "text": [
      "The number of children aged four is: 114\n",
      "The birth rate per 1000 females aged 30-34 is: 368.9\n",
      "The birth rate for women aged 30-34 is greater than the birth rate for women aged 25-29.\n"
     ]
    }
   ],
   "source": [
    "#Calculate how many children are 4 as a fraction of the number of women aged 30-34. \n",
    "#Expressed as “births per 1000”.\n",
    "number_of_children_four = len(df[df['Age (years)'] == 4])\n",
    "print(f\"The number of children aged four is: {number_of_children_four}\")\n",
    "\n",
    "#Calc for women age 30-34\n",
    "birth_rate_30_34 = calculate_birth_rate(df, '30-34', number_of_children_four)\n",
    "print(f\"The birth rate per 1000 females aged 30-34 is: {birth_rate_30_34:.1f}\")\n",
    "\n",
    "#Determine if birth_rate_30_34 has increased or decreased or equals by comparing to birth_rate_25_29 \n",
    "if birth_rate_30_34 > birth_rate_25_29:\n",
    "    print(\"The birth rate for women aged 30-34 is greater than the birth rate for women aged 25-29.\")\n",
    "elif birth_rate_30_34 < birth_rate_25_29:\n",
    "    print(\"The birth rate for women aged 30-34 is less than the birth rate for women aged 25-29.\")\n",
    "else:\n",
    "    print(\"The birth rate for women aged 30-34 is equal to the birth rate for women aged 25-29.\")"
   ]
  },
  {
   "cell_type": "markdown",
   "id": "d1239221",
   "metadata": {},
   "source": [
    "Based on the above calculation, the birth rate for women aged 30-34 is greater than the birth rate for women aged 25-29, suggesting a decline in birth rate. As previously explained above, this calculation makes a number of assumptions and it is not a particularly good indicator of how birth rate has changed over time. "
   ]
  },
  {
   "cell_type": "markdown",
   "id": "74438088",
   "metadata": {},
   "source": [
    "*Summary of birth rate*\n",
    "\n",
    "The birth (fertility) rate for childbearing women is lower than the national birth rate. Calculation of evolving birth rate indicates that it is declining. This correlates with the age distribution plot of the total population (above under age analysis) where there are a lower number of 0-4 year olds compared to school-age children."
   ]
  },
  {
   "cell_type": "markdown",
   "id": "986d6dc2",
   "metadata": {},
   "source": [
    "**Death rate**"
   ]
  },
  {
   "cell_type": "markdown",
   "id": "d87fae1c",
   "metadata": {},
   "source": [
    "Analysis undertaken in this section:\n",
    "\n",
    "1. Death rate\n",
    "2. Determine if population growing (due to birth rate exceeding death rate)"
   ]
  },
  {
   "cell_type": "markdown",
   "id": "2d90a9f5",
   "metadata": {},
   "source": [
    "Compute the number of deaths per 1000 of the population (death rate) so can then compare to the birth rate. Have no historical data so some big assumptions will be made.\n",
    "\n",
    "From the age pyramid of the population (above), there are lower numbers of older people in the population compared to younger ones.\n",
    "\n",
    "Going to calculate death rate by determining the differential of the number of people in one age bracket, compared to the adjacent younger one e.g. (60-64 compared to 55-59) for aged 65 and over..\n",
    "\n",
    "This approach assumes that the number of people in each generation is a constant when they were the same age. It is a way of determining how many might poeple have died over a 5-year period."
   ]
  },
  {
   "cell_type": "code",
   "execution_count": 49,
   "id": "258f532c",
   "metadata": {},
   "outputs": [
    {
     "name": "stdout",
     "output_type": "stream",
     "text": [
      "   Age Group  Number of People  Differential\n",
      "23   115-119                 1           0.0\n",
      "22   110-114                 1          -3.0\n",
      "21   105-109                 4          -7.0\n",
      "20   100-104                11           1.0\n",
      "19     95-99                10         -10.0\n",
      "18     90-94                20         -63.0\n",
      "17     85-89                83         -32.0\n",
      "16     80-84               115         -47.0\n",
      "15     75-79               162         -96.0\n",
      "14     70-74               258         -22.0\n",
      "13     65-69               280        -109.0\n",
      "12     60-64               389         -68.0\n",
      "11     55-59               457         -72.0\n",
      "10     50-54               529        -137.0\n",
      "9      45-49               666          -1.0\n",
      "8      40-44               667         -38.0\n",
      "7      35-39               705         132.0\n",
      "6      30-34               573           2.0\n",
      "5      25-29               571         -59.0\n",
      "4      20-24               630          -6.0\n",
      "3      15-19               636          50.0\n",
      "2      10-14               586          42.0\n",
      "1        5-9               544          72.0\n",
      "0        0-4               472           NaN\n"
     ]
    }
   ],
   "source": [
    "#Assumes that the number of people in each of these two generations was the same when they were the same age\n",
    "#Group by Age Group and calculate the number of people in each Age Group\n",
    "people_by_age_group = df.groupby('Age Group').size().reset_index(name='Number of People')\n",
    "\n",
    "#Convert Age Group to a categorical type with custom ordering using age_labels (defined already above)\n",
    "people_by_age_group['Age Group'] = pd.Categorical(people_by_age_group['Age Group'], categories=age_labels, ordered=True)\n",
    "\n",
    "#Sort people_by_age_group by Age Group in descending order\n",
    "people_by_age_group = people_by_age_group.sort_values(by='Age Group', ascending=False)\n",
    "\n",
    "#Rename the columns for clarity\n",
    "people_by_age_group.columns = ['Age Group', 'Number of People']\n",
    "\n",
    "#Calculate the differential for each Age Group\n",
    "people_by_age_group['Differential'] = (people_by_age_group['Number of People'] - people_by_age_group['Number of People'].shift(-1))\n",
    "print(people_by_age_group)"
   ]
  },
  {
   "cell_type": "markdown",
   "id": "edee93dc",
   "metadata": {},
   "source": [
    "The positive and negative values in the \"Differential\" column represent the change in the number of people between adjacent age groups.\n",
    "\n",
    "Positive values indicate an increase in the number of people from the lower age group to the higher age group.\n",
    "\n",
    "Negative values indicate a decrease in the number of people from the lower age group to the higher age group."
   ]
  },
  {
   "cell_type": "markdown",
   "id": "22c8dc81",
   "metadata": {},
   "source": [
    "The death rate below is calculated by estimating deaths by difference in age groups for those over 65. Assumes retired and more settled. Differences in these age groups more likely to be deaths in contrast to lower age groups where differences could be (and more likely due) to migration."
   ]
  },
  {
   "cell_type": "code",
   "execution_count": 50,
   "id": "dea81125",
   "metadata": {},
   "outputs": [
    {
     "name": "stdout",
     "output_type": "stream",
     "text": [
      "Total death rate per annum for age 65 and over: 77.6\n",
      "Crude death rate per 1000 for age 65 and over: 9.3\n"
     ]
    }
   ],
   "source": [
    "#Calculate death rate per annum and crude death rate for age 65 and over\n",
    "#Filter rows for age groups 65-69 and above\n",
    "#Use str.extract('(\\d+)', expand=False to extract the numeric part of Age Group and then convert it to numeric values\n",
    "inc_and_over_65_df = people_by_age_group[people_by_age_group['Age Group'].str.extract('(\\d+)', expand=False).astype(int) >= 65]\n",
    "\n",
    "#Sum the Death rate for the age ranges 65-69 and above\n",
    "total_death_rate_65_and_over = inc_and_over_65_df['Differential'].sum()\n",
    "\n",
    "#Divide total_death_rate_65_and_over by 5 to get the total death rate per annum for 65 and over\n",
    "death_rate_per_annum_65_and_over = total_death_rate_65_and_over / 5\n",
    "\n",
    "print(f\"Total death rate per annum for age 65 and over: {abs(death_rate_per_annum_65_and_over):.1f}\")\n",
    "\n",
    "#Calculate crude death rate per 1000 of total population for the age group 65 and over\n",
    "crude_death_rate_65_and_over = death_rate_per_annum_65_and_over / total_population * 1000\n",
    "\n",
    "print(f\"Crude death rate per 1000 for age 65 and over: {abs(crude_death_rate_65_and_over):.1f}\")"
   ]
  },
  {
   "cell_type": "markdown",
   "id": "56fb180b",
   "metadata": {},
   "source": [
    "When compared to the overall age-standardised mortality rate (ASMR) for England and Wales in 2021 (10.1% rate per 1000 of population), the death rate per 1000 for age 65 and over is slightly under the national rate.\n",
    "\n",
    "Office for National Statistics (2023) Deaths registered in England and Wales: 2021 (refreshed populations). Available online: https://www.ons.gov.uk/peoplepopulationandcommunity/birthsdeathsandmarriages/deaths/bulletins/deathsregistrationsummarytables/2021refreshedpopulations [Accessed 08/12/2023]"
   ]
  },
  {
   "cell_type": "markdown",
   "id": "8d2c0d03",
   "metadata": {},
   "source": [
    "To overall determine if the population is growing/declining/stable, compare the birth rate (for childbearing women, birth_rate_15_44) with the crude death rate (for people aged 65 and over, crude_death_rate_65_and_over)."
   ]
  },
  {
   "cell_type": "code",
   "execution_count": 51,
   "id": "9efc895e",
   "metadata": {},
   "outputs": [
    {
     "name": "stdout",
     "output_type": "stream",
     "text": [
      "Population is likely growing.\n"
     ]
    }
   ],
   "source": [
    "#Create function to indicate if population is growing, declining or stable\n",
    "def determine_population_growth_birth_death(birth_rate, death_rate):\n",
    "    \"\"\"\n",
    "    Determine population growth, decline, or stability based on birth and death rates.\n",
    "\n",
    "    Parameters:\n",
    "    birth_rate (float): Birth rate value.\n",
    "    death_rate (float): Death rate value.\n",
    "\n",
    "    Returns:\n",
    "    str: A string indicating the likely population trend.\n",
    "    \"\"\"\n",
    "    #Compare birth rate and death rate\n",
    "    if birth_rate > death_rate:\n",
    "        return \"Population is likely growing.\"\n",
    "    elif birth_rate < death_rate:\n",
    "        return \"Population is likely declining.\"\n",
    "    else:\n",
    "        return \"Birth rate equals death rate; population is stable.\"\n",
    "\n",
    "print(determine_population_growth_birth_death(birth_rate_15_44, crude_death_rate_65_and_over))"
   ]
  },
  {
   "cell_type": "markdown",
   "id": "42f32a40",
   "metadata": {},
   "source": [
    "*Summary of death rate*"
   ]
  },
  {
   "cell_type": "markdown",
   "id": "e84c7ecc",
   "metadata": {},
   "source": [
    "According to these calculations, the population is in all likelihood growing because the birth rate exceeds the death rate. However, both birth and death rate are below the national average."
   ]
  },
  {
   "cell_type": "markdown",
   "id": "20dc3a08",
   "metadata": {},
   "source": [
    "**Migration (immigration and emigration)**\n",
    "\n",
    "University students are technically immigrants/emigrants because every year there is new influx and efflux of students to the town, however can be considered a constant in terms of population growth."
   ]
  },
  {
   "cell_type": "markdown",
   "id": "59a519e4",
   "metadata": {},
   "source": [
    "**Immigration**"
   ]
  },
  {
   "cell_type": "markdown",
   "id": "0769a194",
   "metadata": {},
   "source": [
    "Analysis undertaken in this section:\n",
    "\n",
    "1. Immigration rate\n",
    "    - Percentage of lodgers/visitors in total population\n",
    "    - Percentage of lodgers/visitors staying with families\n",
    "    - Marital status of lodgers/visitors"
   ]
  },
  {
   "cell_type": "markdown",
   "id": "321bae9b",
   "metadata": {},
   "source": [
    "Immigration can be inferred from number of lodgers and visitors.\n",
    "\n",
    "Consider-\n",
    "\n",
    "Occupation (to determine if more more likely to stay permanently)\n",
    "\n",
    "Marital status (if married, more likely to return home)"
   ]
  },
  {
   "cell_type": "code",
   "execution_count": 52,
   "id": "8e1e359d",
   "metadata": {},
   "outputs": [
    {
     "name": "stdout",
     "output_type": "stream",
     "text": [
      "Lodger     280\n",
      "Visitor     21\n",
      "Name: Relationship to Head of House, dtype: int64\n",
      "The percentage of lodgers and visitors in the total population is: 3.6%\n",
      "The number of lodgers and visitors per 1000 people in the total population is: 35.0\n"
     ]
    }
   ],
   "source": [
    "#Filter lodgers and visitors from Relationship to Head of House\n",
    "lodgers_and_visitors = df[\n",
    "    (df['Relationship to Head of House'].str.lower() == 'lodger') | (df['Relationship to Head of House'].str.lower() == 'visitor')]\n",
    "\n",
    "#Print the number of lodgers and visitors\n",
    "print(lodgers_and_visitors['Relationship to Head of House'].value_counts())\n",
    "\n",
    "#Calculate the percentage of lodgers and visitors of total population\n",
    "percentage_lodgers_and_visitors = (len(lodgers_and_visitors) / total_population) * 100\n",
    "print(f\"The percentage of lodgers and visitors in the total population is: {percentage_lodgers_and_visitors:.1f}%\")\n",
    "\n",
    "#Calculate the number of lodgers and visitors per 1000 people\n",
    "rate_per_1000_people = int((len(lodgers_and_visitors)/total_population) * 1000)\n",
    "print(f\"The number of lodgers and visitors per 1000 people in the total population is: {rate_per_1000_people:.1f}\")"
   ]
  },
  {
   "cell_type": "code",
   "execution_count": 53,
   "id": "ef670aeb",
   "metadata": {},
   "outputs": [
    {
     "name": "stdout",
     "output_type": "stream",
     "text": [
      "The percentage of lodgers and visitors living with children is: 71.1%\n"
     ]
    }
   ],
   "source": [
    "#Filter for all strings where there is son or daughter in the Relationship to Head of House column\n",
    "#This will capture adopted and step- children\n",
    "sons_and_daughters = df[df['Relationship to Head of House'].str.lower().str.contains('son|daughter', na=False)]\n",
    "\n",
    "#Extract unique house tuples from sons_and_daughters\n",
    "unique_houses_with_children = sons_and_daughters[['House Number', 'Street']].drop_duplicates()\n",
    "\n",
    "#Merge lodgers_and_visitors with unique_houses_with_children\n",
    "lodgers_and_visitors_living_with_families = lodgers_and_visitors.merge(unique_houses_with_children,on=['House Number', 'Street'],how='inner')\n",
    "\n",
    "#Calculate the percentage of lodgers living with families\n",
    "percentage_lodgers_and_visitors_living_with_families = (len(lodgers_and_visitors_living_with_families) / len(lodgers_and_visitors)) * 100\n",
    "\n",
    "print(f\"The percentage of lodgers and visitors living with children is: {percentage_lodgers_and_visitors_living_with_families:.1f}%\")"
   ]
  },
  {
   "cell_type": "markdown",
   "id": "f956b368",
   "metadata": {},
   "source": [
    "The majority of lodgers and visitors (71.1%) are staying in houses with children."
   ]
  },
  {
   "cell_type": "code",
   "execution_count": 54,
   "id": "dd414fea",
   "metadata": {},
   "outputs": [
    {
     "name": "stdout",
     "output_type": "stream",
     "text": [
      "The percentage of single-parent heads compared to the count of lodgers and visitors living with families is: 25.7%\n"
     ]
    }
   ],
   "source": [
    "#Extract unique house tuples of House Number and Street from lodgers_and_visitors_living_with_families\n",
    "unique_houses_with_lodgers_visitors = lodgers_and_visitors_living_with_families[['House Number', 'Street']].drop_duplicates()\n",
    "\n",
    "#Filter for all members of family households containing lodgers and visitors in df\n",
    "family_members_with_lodgers_visitors = df.merge(unique_houses_with_lodgers_visitors, on=['House Number', 'Street'], how='inner')\n",
    "\n",
    "#Define list of marital statuses indicating a single-parent head\n",
    "single_parent_marital_statuses = ['Divorced', 'Single', 'Widowed']\n",
    "\n",
    "#Filter head of household and marital status of divorced, single or widowed\n",
    "single_parent_heads = family_members_with_lodgers_visitors[\n",
    "    (family_members_with_lodgers_visitors['Relationship to Head of House'] == 'Head') &\n",
    "    (family_members_with_lodgers_visitors['Marital Status'].isin(single_parent_marital_statuses))\n",
    "]\n",
    "\n",
    "#Calculate the count of single-parent heads\n",
    "count_single_parent_heads = single_parent_heads.shape[0]\n",
    "\n",
    "#Calculate the count of lodgers and visitors living with families\n",
    "count_lodgers_and_visitors = lodgers_and_visitors_living_with_families.shape[0]\n",
    "\n",
    "#Calculate the percentage\n",
    "percentage_single_parent_heads = (count_single_parent_heads / count_lodgers_and_visitors) * 100\n",
    "\n",
    "print(f\"The percentage of single-parent heads compared to the count of lodgers and visitors living with families is: {percentage_single_parent_heads:.1f}%\")"
   ]
  },
  {
   "cell_type": "markdown",
   "id": "6cf10067",
   "metadata": {},
   "source": [
    "For 25.7% of families with lodgers, the head of household is Single, Divorced or Widowed."
   ]
  },
  {
   "cell_type": "code",
   "execution_count": 55,
   "id": "a2be0fdc",
   "metadata": {},
   "outputs": [
    {
     "name": "stdout",
     "output_type": "stream",
     "text": [
      "Occupations for Lodgers and Visitors:\n",
      "['Set designer' 'Holiday representative' 'Scientist, physiological'\n",
      " 'Forensic psychologist' 'Surveyor, hydrographic' 'Tourism officer'\n",
      " 'Programme researcher, broadcasting/film/video'\n",
      " 'Chartered public finance accountant' 'Data scientist' 'Cabin crew'\n",
      " 'Software engineer' 'Armed forces technical officer' 'Dancer'\n",
      " 'English as a second language teacher' 'Tour manager'\n",
      " 'Field seismologist' 'Unemployed' 'Accountant, chartered certified'\n",
      " 'University Student' 'Research scientist (maths)' 'Heritage manager'\n",
      " 'Social research officer, government' 'Database administrator'\n",
      " 'Health and safety adviser' 'Programmer, systems' 'Public house manager'\n",
      " 'Barrister' 'Health promotion specialist'\n",
      " 'Psychologist, sport and exercise' 'Health and safety inspector'\n",
      " 'Professor Emeritus' 'Financial manager' 'Multimedia programmer'\n",
      " 'Engineer, drilling' 'Health service manager' 'Web designer'\n",
      " 'Medical laboratory scientific officer' 'Medical sales representative'\n",
      " 'Clinical molecular geneticist' 'Pharmacist, community'\n",
      " 'Logistics and distribution manager' 'Industrial/product designer'\n",
      " 'Materials engineer' 'Engineer, manufacturing'\n",
      " 'Research officer, government' 'Tree surgeon' 'Theme park manager'\n",
      " 'Information systems manager' 'Quantity surveyor' 'Theatre director'\n",
      " 'Financial adviser' 'Financial trader' 'Dispensing optician'\n",
      " 'Editor, magazine features' 'Firefighter'\n",
      " 'Development worker, international aid' \"Nurse, children's\"\n",
      " 'Chief of Staff' 'Engineer, aeronautical' 'Call centre manager'\n",
      " 'Quality manager' 'Economist' 'Armed forces operational officer'\n",
      " 'Mudlogger' 'Clinical embryologist' 'Designer, blown glass/stained glass'\n",
      " 'Architect' 'Editorial assistant' 'Unknown'\n",
      " 'Chartered certified accountant' 'Publishing copy'\n",
      " 'Special educational needs teacher'\n",
      " 'Sound technician, broadcasting/film/video' 'Associate Professor'\n",
      " 'Manufacturing systems engineer' 'Sales professional, IT'\n",
      " 'Designer, exhibition/display' 'Surveyor, minerals'\n",
      " 'Environmental manager' 'Administrator, arts'\n",
      " 'Telecommunications researcher' 'Proofreader' 'Psychotherapist, child'\n",
      " 'Journalist, newspaper' 'Community development worker' 'Naval architect'\n",
      " 'Archaeologist' 'Camera operator' 'Company secretary'\n",
      " 'Hydrographic surveyor' 'Media planner' 'Teacher, music'\n",
      " 'Therapist, speech and language' 'Data processing manager'\n",
      " 'Engineering geologist' 'Doctor, general practice' 'Lexicographer'\n",
      " 'Fish farm manager' 'Buyer, industrial' 'Student'\n",
      " 'Advertising account executive' 'Housing manager/officer'\n",
      " 'Counselling psychologist' 'Animal nutritionist' 'Surveyor, insurance'\n",
      " 'Forest/woodland manager' 'Geoscientist'\n",
      " 'Armed forces logistics/support/administrative officer'\n",
      " 'Electrical engineer' 'Child psychotherapist' 'Metallurgist'\n",
      " 'Freight forwarder' 'Dentist' 'IT sales professional'\n",
      " 'Designer, jewellery' 'Physiological scientist' 'Dealer'\n",
      " 'Corporate investment banker' 'Operational researcher' 'Records manager'\n",
      " 'TEFL teacher' 'Solicitor' 'Hydrogeologist' 'Community pharmacist'\n",
      " 'Geologist, engineering' 'Neurosurgeon' 'Designer, television/film set'\n",
      " 'Interpreter' 'Fisheries officer' 'Immunologist'\n",
      " 'Scientist, research (maths)' 'Commercial horticulturist'\n",
      " 'Scientist, research (life sciences)' 'Chief Operating Officer'\n",
      " 'Television floor manager' 'Pharmacist, hospital' 'Phytotherapist'\n",
      " 'Probation officer' 'Presenter, broadcasting' 'Therapist, drama'\n",
      " 'Building services engineer' 'Textile designer' 'Chemist, analytical'\n",
      " 'Engineer, control and instrumentation'\n",
      " 'Scientist, product/process development' 'Ship broker'\n",
      " 'Surveyor, planning and development' 'Automotive engineer'\n",
      " 'Horticultural consultant' 'Investment analyst' 'Secretary, company'\n",
      " 'Retail banker' 'Operational investment banker'\n",
      " 'Environmental education officer' 'Accounting technician'\n",
      " 'Clinical research associate' 'Hospital doctor' 'Systems analyst'\n",
      " 'Drilling engineer' 'Nurse, adult' 'Travel agency manager'\n",
      " 'Community arts worker' 'Chartered loss adjuster'\n",
      " 'Sales promotion account executive' 'Printmaker' 'Farm manager'\n",
      " 'Surveyor, quantity' 'Accountant, chartered management'\n",
      " 'Further education lecturer' 'Engineer, land'\n",
      " 'Government social research officer' 'Social researcher'\n",
      " 'Lighting technician, broadcasting/film/video' 'Physiotherapist'\n",
      " 'Engineer, communications' 'Energy engineer' 'Teacher, secondary school'\n",
      " 'Investment banker, operational' 'Press photographer'\n",
      " 'Insurance risk surveyor' 'Video editor' 'Furniture designer'\n",
      " 'Clinical biochemist' 'Soil scientist' 'Pharmacologist'\n",
      " 'Exhibition designer' 'Geologist, wellsite' 'Surveyor, land/geomatics'\n",
      " 'Newspaper journalist' 'Teacher, primary school' 'Nurse, mental health'\n",
      " 'Surveyor, building' 'Restaurant manager, fast food'\n",
      " 'Loss adjuster, chartered' 'Radiographer, diagnostic'\n",
      " 'Accountant, chartered public finance' 'Geophysicist/field seismologist'\n",
      " 'Architectural technologist' 'Secondary school teacher'\n",
      " 'Surveyor, mining' 'Event organiser' 'Visual merchandiser'\n",
      " 'Therapist, art' 'Lecturer, higher education' 'Consulting civil engineer'\n",
      " 'Colour technologist' 'Acupuncturist'\n",
      " 'Production designer, theatre/television/film' 'Land' 'IT trainer'\n",
      " 'Geochemist' 'Psychotherapist' 'Illustrator' 'General practice doctor'\n",
      " \"Politician's assistant\" 'Designer, fashion/clothing'\n",
      " 'Diplomatic Services operational officer']\n"
     ]
    }
   ],
   "source": [
    "#Print unique occupations for lodgers_and_visitors to see if can identify if some more likely to stay due to job\n",
    "unique_occupations = lodgers_and_visitors['Occupation'].unique()\n",
    "print(\"Occupations for Lodgers and Visitors:\")\n",
    "print(unique_occupations)"
   ]
  },
  {
   "cell_type": "markdown",
   "id": "3960607e",
   "metadata": {},
   "source": [
    "Not possible from occupations of visitors and lodgers (above) to determine who is more likely to stay in the town permanently."
   ]
  },
  {
   "cell_type": "markdown",
   "id": "81643749",
   "metadata": {},
   "source": [
    "Consider marital status of visitors and lodgers.\n",
    "\n",
    "If any are married I can infer that they are more likely to leave.\n",
    "\n",
    "Exclude those who are divorced and are lodging after leaving their spouse because they do not classify as immigrating to the town.\n",
    "\n",
    "Exclude widowed as assuming they were married and lived in the town and have not moved away due to family ties."
   ]
  },
  {
   "cell_type": "code",
   "execution_count": 56,
   "id": "8200576b",
   "metadata": {},
   "outputs": [
    {
     "name": "stdout",
     "output_type": "stream",
     "text": [
      "Marital Status of Lodgers and Visitors:\n",
      "Single      229\n",
      "Divorced     64\n",
      "Widowed       8\n",
      "Name: Marital Status, dtype: int64\n"
     ]
    }
   ],
   "source": [
    "#Determine marital status of lodgers and visitors and display the count\n",
    "marital_status_lodgers_and_visitors = lodgers_and_visitors['Marital Status'].value_counts()\n",
    "print(\"Marital Status of Lodgers and Visitors:\")\n",
    "print(marital_status_lodgers_and_visitors)"
   ]
  },
  {
   "cell_type": "markdown",
   "id": "4d664275",
   "metadata": {},
   "source": [
    "Lodgers and visitors to town are all single, divorced or widowed. No married.\n",
    "\n",
    "Excluding divorcees and widowers from lodgers and visitors as not classifying as immigrants (as explained above). All immigrants are single."
   ]
  },
  {
   "cell_type": "code",
   "execution_count": 57,
   "id": "b42583ab",
   "metadata": {},
   "outputs": [
    {
     "name": "stdout",
     "output_type": "stream",
     "text": [
      "Marital Status of Lodgers and Visitors:\n",
      "Single    229\n",
      "Name: Marital Status, dtype: int64\n",
      "The percentage of lodgers and visitors in the total population is: 2.7%\n",
      "Immigration rate based on the number of lodgers and visitors per 1000 people in the total population is: 27.4\n"
     ]
    }
   ],
   "source": [
    "#Exclude divorced from lodgers and visitors\n",
    "lodgers_and_visitors_single = lodgers_and_visitors[lodgers_and_visitors['Marital Status'].str.lower() == 'single']\n",
    "updated_lodgers_and_visitors = lodgers_and_visitors_single['Marital Status'].value_counts()\n",
    "print(\"Marital Status of Lodgers and Visitors:\")\n",
    "print(updated_lodgers_and_visitors)\n",
    "\n",
    "#Calculate the percentage of lodgers and visitors (exc divorced) of the total population\n",
    "percentage_updated_lodgers_and_visitors = (len(lodgers_and_visitors_single) / total_population) * 100\n",
    "print(f\"The percentage of lodgers and visitors in the total population is: {percentage_updated_lodgers_and_visitors:.1f}%\")\n",
    "\n",
    "#Calculate the number of lodgers and visitors (exc divorced) per 1000\n",
    "updated_rate_per_1000_people = (len(lodgers_and_visitors_single) / total_population) * 1000\n",
    "print(f\"Immigration rate based on the number of lodgers and visitors per 1000 people in the total population is: {updated_rate_per_1000_people:.1f}\")"
   ]
  },
  {
   "cell_type": "markdown",
   "id": "5540e0d8",
   "metadata": {},
   "source": [
    "27.4 immigrants to the town per thousand people (excluding divorced and widowed)."
   ]
  },
  {
   "cell_type": "markdown",
   "id": "bc3d6997",
   "metadata": {},
   "source": [
    "*Summary of immigration*\n",
    "\n",
    "The percentage of lodgers and visitors in the total population is: 3.6%\n",
    "The number of lodgers and visitors per 1000 people in the total population is: 35.0\n",
    "The percentage of lodgers and visitors living with children is: 71.1%\n",
    "\n",
    "Not possible from occupations of visitors and lodgers to determine who is more likely to stay in the town permanently. \n",
    "\n",
    "Significant proportion of immigrants are living with families with children. For 25.7% of families with lodgers, the head of household is Single, Divorced or Widowed."
   ]
  },
  {
   "cell_type": "markdown",
   "id": "c3651f91",
   "metadata": {},
   "source": [
    "**Emigration**"
   ]
  },
  {
   "cell_type": "markdown",
   "id": "ea344287",
   "metadata": {},
   "source": [
    "Analysis undertaken in this section:\n",
    "\n",
    "1. Emigration rate\n",
    "    - Difference in make and female divorcees\n",
    "2. Net migration\n",
    "\n",
    "3. Additional exploration- net migration by age"
   ]
  },
  {
   "cell_type": "markdown",
   "id": "be16ae77",
   "metadata": {},
   "source": [
    "Many people in the town are divorcees. Presumably, several of their former partners went to live elsewhere. This is hard to tell as people do change their surnames.\n",
    "\n",
    "Infer how many divorcees left the town over the course of one year.\n",
    "\n",
    "Calculate difference in male and female divorcees to infer emigration rate."
   ]
  },
  {
   "cell_type": "code",
   "execution_count": 58,
   "id": "3f9789ed",
   "metadata": {},
   "outputs": [
    {
     "name": "stdout",
     "output_type": "stream",
     "text": [
      "Difference in the number of male and female divorcees: -157\n"
     ]
    }
   ],
   "source": [
    "difference_male_female_divorcees = len(male_divorcees) - len(female_divorcees)\n",
    "print(f\"Difference in the number of male and female divorcees: {difference_male_female_divorcees}\")"
   ]
  },
  {
   "cell_type": "code",
   "execution_count": 59,
   "id": "101c984a",
   "metadata": {},
   "outputs": [
    {
     "name": "stdout",
     "output_type": "stream",
     "text": [
      "Emigration rate based on the difference in male and female divorcees per 1000 of total population: 18.0\n"
     ]
    }
   ],
   "source": [
    "#Using only the difference in divorced males and females, calculate emigration from the town\n",
    "#Calculate the emigration rate per 1000 of the total population (using absolute value)\n",
    "emigration_rate_per_1000_population = int(abs(difference_male_female_divorcees) / total_population * 1000)\n",
    "print(f\"Emigration rate based on the difference in male and female divorcees per 1000 of total population: {emigration_rate_per_1000_population:.1f}\")"
   ]
  },
  {
   "cell_type": "markdown",
   "id": "3e4648e4",
   "metadata": {},
   "source": [
    "Using only the difference in divorced males and females, emigration from the town is 18 per thousand people."
   ]
  },
  {
   "cell_type": "markdown",
   "id": "c82ef0bf",
   "metadata": {},
   "source": [
    "*Calculate net migration (whether immigration exceeds emigration or vice versa)*"
   ]
  },
  {
   "cell_type": "code",
   "execution_count": 60,
   "id": "49d0602c",
   "metadata": {},
   "outputs": [
    {
     "data": {
      "text/plain": [
       "'Population is likely growing. Net migration: 9.36'"
      ]
     },
     "execution_count": 60,
     "metadata": {},
     "output_type": "execute_result"
    }
   ],
   "source": [
    "#Function to determine net migration\n",
    "def determine_population_net_migration(emigration_rate, immigration_rate):\n",
    "    \"\"\"\n",
    "    Determine population growth, decline, or stability based on migration rates.\n",
    "\n",
    "    Parameters:\n",
    "    emigration_rate (float): Emigration rate value.\n",
    "    immigration_rate (float): Immigration rate value.\n",
    "\n",
    "    Returns:\n",
    "    str: A string indicating the likely population trend and net migration.\n",
    "    \"\"\"\n",
    "    #Determine net migration\n",
    "    net_migration = immigration_rate - emigration_rate\n",
    "\n",
    "    if immigration_rate > emigration_rate:\n",
    "        trend = \"Population is likely growing.\"\n",
    "    elif immigration_rate < emigration_rate:\n",
    "        trend = \"Population is likely declining.\"\n",
    "    else:\n",
    "        trend = \"Emigration rate equals immigration rate; population is stable.\"\n",
    "\n",
    "    result = f\"{trend} Net migration: {net_migration:.2f}\"\n",
    "    return result\n",
    "\n",
    "determine_population_net_migration(emigration_rate_per_1000_population, updated_rate_per_1000_people)"
   ]
  },
  {
   "cell_type": "markdown",
   "id": "3e24a387",
   "metadata": {},
   "source": [
    "*Summary of migration*\n",
    "\n",
    "The immigration rate (based on lodgers and visitors) exceeds the emmigration rate (based on difference in male and female divorcees) i.e. positive net migration. Suggesting immigration may also be a contributing factor to a growing population in the town, potentially translating to increased housing need.\n",
    "\n",
    "This coupled with the increased birth rate over death rate also indicates a increasing town population."
   ]
  },
  {
   "cell_type": "markdown",
   "id": "da600dcf",
   "metadata": {},
   "source": [
    "The ONS predicts population growth in a similar manner, although it has access to time data for rate predictions. This enables prediction of population growth in the future. Their projections are based on assumptions that family size (children per woman), mortality rate and net international migration will not change over the projection period. Predictions are also independent of socioeconomic changes. \n",
    "\n",
    "Office for National Statistics (2022) National population projections: 2020-based interim. Available online: https://www.ons.gov.uk/peoplepopulationandcommunity/populationandmigration/populationprojections/bulletins/nationalpopulationprojections/2020basedinterim [Accessed 08/12/2023]."
   ]
  },
  {
   "cell_type": "markdown",
   "id": "72aabe83",
   "metadata": {},
   "source": [
    "**Immigration and emigration by age group (alternative exploration)**"
   ]
  },
  {
   "cell_type": "markdown",
   "id": "b579a0d0",
   "metadata": {},
   "source": [
    "Calculate net immigration and emmigration based on age up to 65 (including students).\n",
    "Divorced and widowed lodgers and visitors are included.\n",
    "Rate of emigration per thousand and rate of immigration per thousand are calculated."
   ]
  },
  {
   "cell_type": "code",
   "execution_count": 61,
   "id": "dcf6f84f",
   "metadata": {},
   "outputs": [
    {
     "name": "stdout",
     "output_type": "stream",
     "text": [
      "Net Immigration under 65: 298.0\n",
      "Net Emigration under 65: 381.0\n",
      "Immigration Rate per 1000 people under 65 (total population): 35.6\n",
      "Emigration Rate per 1000 people under 65 (total population): 45.5\n",
      "Immigration Rate per 1000 people under 65 (population under 65): 40.1\n",
      "Emigration Rate per 1000 people under 65 (population under 65): 51.3\n"
     ]
    }
   ],
   "source": [
    "#Filter rows for age groups under 65\n",
    "under_65_df = people_by_age_group[people_by_age_group['Age Group'].str.extract('(\\d+)', expand=False).astype(float) < 65]\n",
    "\n",
    "#Calculate net immigration and net emigration for under 65\n",
    "net_immigration_under_65 = under_65_df['Differential'].where(under_65_df['Differential'] >= 0, 0).sum()\n",
    "net_emigration_under_65 = under_65_df['Differential'].where(under_65_df['Differential'] < 0, 0).abs().sum()\n",
    "\n",
    "#Calculate immigration rate and emigration rate for under 65s per 1000 people against total_population\n",
    "immigration_rate_under_65_total = (net_immigration_under_65 / total_population) * 1000\n",
    "emigration_rate_under_65_total = (net_emigration_under_65 / total_population) * 1000\n",
    "\n",
    "#Filter rows for age groups under 65 in the original df\n",
    "population_under_65_df = df[df['Age Group'].str.extract('(\\d+)', expand=False).astype(float) < 65]\n",
    "\n",
    "#Calculate the population under 65\n",
    "population_under_65 = len(population_under_65_df)\n",
    "\n",
    "#Calculate immigration rate and emigration rate for under 65s per 1000 people against population_under_65\n",
    "immigration_rate_under_65_65 = (net_immigration_under_65 / population_under_65) * 1000\n",
    "emigration_rate_under_65_65 = (net_emigration_under_65 / population_under_65) * 1000\n",
    "\n",
    "print(f\"Net Immigration under 65: {net_immigration_under_65}\")\n",
    "print(f\"Net Emigration under 65: {net_emigration_under_65}\")\n",
    "print(f\"Immigration Rate per 1000 people under 65 (total population): {immigration_rate_under_65_total:.1f}\")\n",
    "print(f\"Emigration Rate per 1000 people under 65 (total population): {emigration_rate_under_65_total:.1f}\")\n",
    "print(f\"Immigration Rate per 1000 people under 65 (population under 65): {immigration_rate_under_65_65:.1f}\")\n",
    "print(f\"Emigration Rate per 1000 people under 65 (population under 65): {emigration_rate_under_65_65:.1f}\")"
   ]
  },
  {
   "cell_type": "markdown",
   "id": "4bd9505c",
   "metadata": {},
   "source": [
    "This is making a massive assumption! The \"Differential\" column is being used to represent both immigration and emigration. Positive differentials are considered immigration, and negative differentials are considered emigration. This assumes that the \"Differential\" column accurately reflects migration patterns (which it doesn't!). \n",
    "\n",
    "Positive values represent an increase in the population within that age group. This might suggest immigration or natural population growth.\n",
    "\n",
    "Negative values represent a decrease in the population within that age group. This might suggest emigration or a decline due to deaths.\n",
    "\n",
    "The calculation assumes that changes in population within each age group are primarily driven by migration and not significantly influenced by other factors like natural population growth (births and deaths). \n",
    "\n",
    "Therefore, this is not a preferred way of determing migration over the calculation using lodgers, visitors and difference in divorcees above."
   ]
  },
  {
   "cell_type": "markdown",
   "id": "34fd1958",
   "metadata": {},
   "source": [
    "**Occupancy**"
   ]
  },
  {
   "cell_type": "markdown",
   "id": "83062372",
   "metadata": {},
   "source": [
    "Analysis undertaken in this section:\n",
    "\n",
    "1. Summary stats with skew, variance and excess kurtosis\n",
    "2. Distribution of household occupancy by median age and salary\n",
    "3. Hypothesis testing of household occupancy:\n",
    "    - vs median age\n",
    "    - vs median salary\n",
    "4. Distribution of household occupancy by age and marital status\n",
    "5. Determine over- or under-occupancy of town using:\n",
    "    - median by street\n",
    "    - median of town\n",
    "6. Determine percentage of houses that are occupied by families.\n",
    "7. Determine percentage of houses with immigrants (lodgers/visitors) that are over-occupied."
   ]
  },
  {
   "cell_type": "markdown",
   "id": "1b13b64d",
   "metadata": {},
   "source": [
    "Have a Household Occupancy series that created during data cleaning (see 'Census Data Cleaning' notebook)"
   ]
  },
  {
   "cell_type": "markdown",
   "id": "f8fdc0fc",
   "metadata": {},
   "source": [
    "*Summary stats with skewness, variance and kurtosis*"
   ]
  },
  {
   "cell_type": "code",
   "execution_count": 62,
   "id": "2883600f",
   "metadata": {},
   "outputs": [
    {
     "data": {
      "text/plain": [
       "count                     8370.0\n",
       "mean                    4.096057\n",
       "std                     3.030391\n",
       "min                          1.0\n",
       "25%                          2.0\n",
       "50%                          4.0\n",
       "75%                          5.0\n",
       "max                         22.0\n",
       "Mode               ([3], [1659])\n",
       "Skewness                2.701979\n",
       "Excess Kurtosis         9.945905\n",
       "Variance                9.183268\n",
       "IQR                          3.0\n",
       "Name: Household Occupancy, dtype: object"
      ]
     },
     "execution_count": 62,
     "metadata": {},
     "output_type": "execute_result"
    }
   ],
   "source": [
    "#Create updated summary_stat function to print stats including skewness, kurtosis and variance for Household Occupancy \n",
    "def summary_stats_with_skew_variance_kurtosis(data, column):\n",
    "    \"\"\"\n",
    "    Generate a summary statistics table for a specified column in a DataFrame.\n",
    "\n",
    "    Parameters:\n",
    "    data (pd.DataFrame): Input DataFrame.\n",
    "    column (str): Name of the column for which statistics are calculated.\n",
    "\n",
    "    Returns:\n",
    "    pd.DataFrame: Summary statistics table.\n",
    "    \"\"\"\n",
    "    #Run .describe() on column in df\n",
    "    summary_stats = data[column].describe()\n",
    "\n",
    "    #Calculate additional statistics\n",
    "    try:\n",
    "        mode = stats.mode(data[column], keepdims=True)\n",
    "    except statistics.StatisticsError:\n",
    "        mode = \"Mode does not exist in this dataset\"\n",
    "    skew_value = stats.skew(data[column])\n",
    "    kurtosis_value = stats.kurtosis(data[column], fisher=True)\n",
    "    variance_value = data[column].var()\n",
    "    \n",
    "    #Add additional statistics to the .describe() output\n",
    "    summary_stats['Mode'] = mode\n",
    "    summary_stats['Skewness'] = skew_value\n",
    "    summary_stats['Excess Kurtosis'] = kurtosis_value\n",
    "    summary_stats['Variance'] = variance_value\n",
    "\n",
    "    #Calculate IQR\n",
    "    q1 = summary_stats['25%']\n",
    "    q3 = summary_stats['75%']\n",
    "    iqr = q3 - q1\n",
    "\n",
    "    #Add IQR to the .describe() output\n",
    "    summary_stats['IQR'] = iqr\n",
    "\n",
    "    return summary_stats\n",
    "\n",
    "occupancy_stats = summary_stats_with_skew_variance_kurtosis(df, 'Household Occupancy')\n",
    "occupancy_stats"
   ]
  },
  {
   "cell_type": "markdown",
   "id": "feff5bec",
   "metadata": {},
   "source": [
    "Mean (average) value of 4.1. On average, each household has 4 occupants.\n",
    "\n",
    "The median value of 4.0 indicates that half of the households in the town have an occupancy of 4 or less.\n",
    "\n",
    "Mode value of 3.0. The mode is the most frequently occurring value in the distribution. In this case, it represents the most common household occupancy.\n",
    "\n",
    "The IQR of 3.0 represents the range of household occupancy where the central 50% of households fall. It is the difference between the third quartile (Q3) and the first quartile (Q1).\n",
    "\n",
    "A skewness of 2.7 indicates that the distribution is positively skewed, meaning that it has a long tail on the right side. In the context of household occupancy, this suggests that there are some households with higher-than-average occupancy.\n",
    "\n",
    "A kurtosis (excess) of 9.96 indicates that the distribution has heavier tails and a sharper peak than a normal distribution. This suggests that there may be some outliers or extreme values in the distribution.\n",
    "\n",
    "The positive skewness (2.70) and kurtosis (9.96) suggest that the distribution is not perfectly normal and is right-skewed.\n",
    "The median (4.0) might be a more robust measure of central tendency compared to the mean, because of outliers.\n",
    "A mode of 3 indicates a concentration of smaller household sizes.\n",
    "\n",
    "Need a measure less sensitive to extreme values than mean, therefore median is a better choice."
   ]
  },
  {
   "cell_type": "markdown",
   "id": "b2fefeca",
   "metadata": {},
   "source": [
    "*Occupancy distribution*"
   ]
  },
  {
   "cell_type": "markdown",
   "id": "06b46110",
   "metadata": {},
   "source": [
    "Visualise the median of the town occupancy distribution, using density plot along with vertical line indicating the position of median, to observe the central tendency and the spread of the data."
   ]
  },
  {
   "cell_type": "code",
   "execution_count": 63,
   "id": "1a15b0db",
   "metadata": {},
   "outputs": [
    {
     "data": {
      "image/png": "[encoded data removed]",
      "text/plain": [
       "<Figure size 640x480 with 1 Axes>"
      ]
     },
     "metadata": {},
     "output_type": "display_data"
    }
   ],
   "source": [
    "median_town_occupancy = df['Household Occupancy'].median()\n",
    "\n",
    "def plot_household_occupancy_density(data):\n",
    "    \"\"\"\n",
    "    Create a density plot of household occupancy with vertical lines for the median.\n",
    "\n",
    "    Parameters:\n",
    "    data (pd.DataFrame): Input DataFrame.\n",
    "\n",
    "    Returns:\n",
    "    - fig (matplotlib.figure.Figure): The generated matplotlib figure.\n",
    "    \"\"\"\n",
    "    #Create a density plot\n",
    "    fig, ax = plt.subplots()\n",
    "    sns.kdeplot(data['Household Occupancy'], fill=True, color=sns.color_palette('viridis')[4], ax=ax)\n",
    "\n",
    "    #Add vertical line for median\n",
    "    plt.axvline(median_town_occupancy, color='black', linestyle='dashed', linewidth=2, label=f'Median ({median_town_occupancy:.1f})')\n",
    "\n",
    "    ax.set(xlabel='Household Occupancy', ylabel='Density')\n",
    "    ax.legend()\n",
    "    plt.tight_layout()\n",
    "\n",
    "    return fig\n",
    "\n",
    "occupancy_distribution = plot_household_occupancy_density(df)"
   ]
  },
  {
   "cell_type": "markdown",
   "id": "a5eed0d8",
   "metadata": {},
   "source": [
    "Visualises the kurtosis and skewness, showing median is a better choice for occupancy determination."
   ]
  },
  {
   "cell_type": "markdown",
   "id": "f934d94e",
   "metadata": {},
   "source": [
    "*Distribution of Household Occupancy by Median Age and Salary*"
   ]
  },
  {
   "cell_type": "code",
   "execution_count": 64,
   "id": "b38e293a",
   "metadata": {},
   "outputs": [
    {
     "data": {
      "text/html": [
       "<div>\n",
       "<style scoped>\n",
       "    .dataframe tbody tr th:only-of-type {\n",
       "        vertical-align: middle;\n",
       "    }\n",
       "\n",
       "    .dataframe tbody tr th {\n",
       "        vertical-align: top;\n",
       "    }\n",
       "\n",
       "    .dataframe thead th {\n",
       "        text-align: right;\n",
       "    }\n",
       "</style>\n",
       "<table border=\"1\" class=\"dataframe\">\n",
       "  <thead>\n",
       "    <tr style=\"text-align: right;\">\n",
       "      <th></th>\n",
       "      <th>Household Occupancy</th>\n",
       "      <th>Count</th>\n",
       "      <th>Median Age (years)</th>\n",
       "      <th>Median Salary (GBP)</th>\n",
       "    </tr>\n",
       "  </thead>\n",
       "  <tbody>\n",
       "    <tr>\n",
       "      <th>0</th>\n",
       "      <td>1</td>\n",
       "      <td>901</td>\n",
       "      <td>58.00</td>\n",
       "      <td>22584.00</td>\n",
       "    </tr>\n",
       "    <tr>\n",
       "      <th>1</th>\n",
       "      <td>2</td>\n",
       "      <td>766</td>\n",
       "      <td>40.00</td>\n",
       "      <td>18621.00</td>\n",
       "    </tr>\n",
       "    <tr>\n",
       "      <th>2</th>\n",
       "      <td>3</td>\n",
       "      <td>553</td>\n",
       "      <td>32.30</td>\n",
       "      <td>21881.00</td>\n",
       "    </tr>\n",
       "    <tr>\n",
       "      <th>3</th>\n",
       "      <td>4</td>\n",
       "      <td>409</td>\n",
       "      <td>29.50</td>\n",
       "      <td>18016.20</td>\n",
       "    </tr>\n",
       "    <tr>\n",
       "      <th>4</th>\n",
       "      <td>5</td>\n",
       "      <td>296</td>\n",
       "      <td>29.20</td>\n",
       "      <td>16906.00</td>\n",
       "    </tr>\n",
       "    <tr>\n",
       "      <th>5</th>\n",
       "      <td>6</td>\n",
       "      <td>59</td>\n",
       "      <td>30.00</td>\n",
       "      <td>18449.50</td>\n",
       "    </tr>\n",
       "    <tr>\n",
       "      <th>6</th>\n",
       "      <td>7</td>\n",
       "      <td>17</td>\n",
       "      <td>25.60</td>\n",
       "      <td>11509.90</td>\n",
       "    </tr>\n",
       "    <tr>\n",
       "      <th>7</th>\n",
       "      <td>11</td>\n",
       "      <td>11</td>\n",
       "      <td>34.10</td>\n",
       "      <td>18504.50</td>\n",
       "    </tr>\n",
       "    <tr>\n",
       "      <th>8</th>\n",
       "      <td>8</td>\n",
       "      <td>11</td>\n",
       "      <td>29.00</td>\n",
       "      <td>18898.10</td>\n",
       "    </tr>\n",
       "    <tr>\n",
       "      <th>9</th>\n",
       "      <td>10</td>\n",
       "      <td>11</td>\n",
       "      <td>31.20</td>\n",
       "      <td>20782.70</td>\n",
       "    </tr>\n",
       "    <tr>\n",
       "      <th>10</th>\n",
       "      <td>9</td>\n",
       "      <td>8</td>\n",
       "      <td>27.40</td>\n",
       "      <td>13233.50</td>\n",
       "    </tr>\n",
       "    <tr>\n",
       "      <th>11</th>\n",
       "      <td>12</td>\n",
       "      <td>8</td>\n",
       "      <td>26.45</td>\n",
       "      <td>15549.35</td>\n",
       "    </tr>\n",
       "    <tr>\n",
       "      <th>12</th>\n",
       "      <td>14</td>\n",
       "      <td>2</td>\n",
       "      <td>35.60</td>\n",
       "      <td>29340.80</td>\n",
       "    </tr>\n",
       "    <tr>\n",
       "      <th>13</th>\n",
       "      <td>13</td>\n",
       "      <td>2</td>\n",
       "      <td>23.90</td>\n",
       "      <td>16901.60</td>\n",
       "    </tr>\n",
       "    <tr>\n",
       "      <th>14</th>\n",
       "      <td>19</td>\n",
       "      <td>2</td>\n",
       "      <td>33.20</td>\n",
       "      <td>16710.40</td>\n",
       "    </tr>\n",
       "    <tr>\n",
       "      <th>15</th>\n",
       "      <td>18</td>\n",
       "      <td>2</td>\n",
       "      <td>30.60</td>\n",
       "      <td>20136.85</td>\n",
       "    </tr>\n",
       "    <tr>\n",
       "      <th>16</th>\n",
       "      <td>16</td>\n",
       "      <td>1</td>\n",
       "      <td>46.60</td>\n",
       "      <td>34439.20</td>\n",
       "    </tr>\n",
       "    <tr>\n",
       "      <th>17</th>\n",
       "      <td>21</td>\n",
       "      <td>1</td>\n",
       "      <td>73.70</td>\n",
       "      <td>12791.90</td>\n",
       "    </tr>\n",
       "    <tr>\n",
       "      <th>18</th>\n",
       "      <td>22</td>\n",
       "      <td>1</td>\n",
       "      <td>30.70</td>\n",
       "      <td>18281.20</td>\n",
       "    </tr>\n",
       "    <tr>\n",
       "      <th>19</th>\n",
       "      <td>15</td>\n",
       "      <td>1</td>\n",
       "      <td>29.40</td>\n",
       "      <td>19618.00</td>\n",
       "    </tr>\n",
       "  </tbody>\n",
       "</table>\n",
       "</div>"
      ],
      "text/plain": [
       "    Household Occupancy  Count  Median Age (years)  Median Salary (GBP)\n",
       "0                     1    901               58.00             22584.00\n",
       "1                     2    766               40.00             18621.00\n",
       "2                     3    553               32.30             21881.00\n",
       "3                     4    409               29.50             18016.20\n",
       "4                     5    296               29.20             16906.00\n",
       "5                     6     59               30.00             18449.50\n",
       "6                     7     17               25.60             11509.90\n",
       "7                    11     11               34.10             18504.50\n",
       "8                     8     11               29.00             18898.10\n",
       "9                    10     11               31.20             20782.70\n",
       "10                    9      8               27.40             13233.50\n",
       "11                   12      8               26.45             15549.35\n",
       "12                   14      2               35.60             29340.80\n",
       "13                   13      2               23.90             16901.60\n",
       "14                   19      2               33.20             16710.40\n",
       "15                   18      2               30.60             20136.85\n",
       "16                   16      1               46.60             34439.20\n",
       "17                   21      1               73.70             12791.90\n",
       "18                   22      1               30.70             18281.20\n",
       "19                   15      1               29.40             19618.00"
      ]
     },
     "metadata": {},
     "output_type": "display_data"
    }
   ],
   "source": [
    "#Create a new df with unique house numbers on each street and include the mean age and mean salary and household occupancy\n",
    "mean_stats_by_household = df.groupby(['Street', 'House Number']).agg({\n",
    "    'Age (years)': 'mean',\n",
    "    'Salary (GBP)': 'mean',\n",
    "    'Household Occupancy': 'first'\n",
    "}).reset_index()\n",
    "\n",
    "#Round mean salary and mean age to 1 decimal place\n",
    "mean_stats_by_household['Salary (GBP)'] = mean_stats_by_household['Salary (GBP)'].round(1)\n",
    "mean_stats_by_household['Age (years)'] = mean_stats_by_household['Age (years)'].round(1)\n",
    "\n",
    "#Rename columns\n",
    "mean_stats_by_household = mean_stats_by_household.rename(columns={\n",
    "    'Age (years)': 'Mean Age (years)',\n",
    "    'Salary (GBP)': 'Mean Salary (GBP)'\n",
    "})\n",
    "\n",
    "#display(mean_stats_by_household)\n",
    "\n",
    "#Count occurrences for each unique value of household occupancy\n",
    "occupancy_counts = mean_stats_by_household['Household Occupancy'].value_counts().reset_index()\n",
    "occupancy_counts.columns = ['Household Occupancy', 'Count']\n",
    "\n",
    "#Calculate median salary and median age for each occupancy count\n",
    "median_stats_by_occupancy_count = mean_stats_by_household.groupby('Household Occupancy').agg({\n",
    "    'Mean Age (years)': 'median',\n",
    "    'Mean Salary (GBP)': 'median'\n",
    "}).reset_index()\n",
    "\n",
    "#Rename columns\n",
    "median_stats_by_occupancy_count = median_stats_by_occupancy_count.rename(columns={\n",
    "    'Mean Age (years)': 'Median Age (years)',\n",
    "    'Mean Salary (GBP)': 'Median Salary (GBP)'\n",
    "})\n",
    "\n",
    "#Merge the counts and median stats\n",
    "occupancy_age_salary = pd.merge(occupancy_counts, median_stats_by_occupancy_count, on='Household Occupancy')\n",
    "\n",
    "display(occupancy_age_salary)"
   ]
  },
  {
   "cell_type": "markdown",
   "id": "ac332c62",
   "metadata": {},
   "source": [
    "Appears to be a correlation in older median age with lower occupancy (1 and 2). No apparent correlation between median salary and occupancy."
   ]
  },
  {
   "cell_type": "markdown",
   "id": "36684b59",
   "metadata": {},
   "source": [
    "Plot Median Age and Median Salary against Household Occupancy to see if there is a visual correlation.\n",
    "\n",
    "Fit LOBF and calculate R2 for linear correlation."
   ]
  },
  {
   "cell_type": "code",
   "execution_count": 65,
   "id": "e6844645",
   "metadata": {},
   "outputs": [
    {
     "name": "stdout",
     "output_type": "stream",
     "text": [
      "R-squared for Median Age: 0.0228\n",
      "R-squared for Median Salary: 0.0022\n"
     ]
    },
    {
     "data": {
      "image/png": "[encoded data removed]",
      "text/plain": [
       "<Figure size 640x480 with 1 Axes>"
      ]
     },
     "metadata": {},
     "output_type": "display_data"
    },
    {
     "data": {
      "image/png": "[encoded data removed]",
      "text/plain": [
       "<Figure size 640x480 with 1 Axes>"
      ]
     },
     "metadata": {},
     "output_type": "display_data"
    }
   ],
   "source": [
    "#Function for calculating R-squared\n",
    "def calculate_r_squared(x, y):\n",
    "    \"\"\"\n",
    "    Calculate the R-squared value for a linear regression.\n",
    "\n",
    "    Parameters:\n",
    "    x (array): Independent variable.\n",
    "    y (array): Dependent variable.\n",
    "\n",
    "    Returns:\n",
    "    - float: R-squared value.\n",
    "    \"\"\"\n",
    "    slope, intercept, r_value, p_value, std_err = linregress(x, y)\n",
    "    return r_value ** 2\n",
    "\n",
    "#Calculate R-squared for Median Age\n",
    "r_squared_age = calculate_r_squared(occupancy_age_salary['Household Occupancy'], occupancy_age_salary['Median Age (years)'])\n",
    "print(f'R-squared for Median Age: {r_squared_age:.4f}')\n",
    "\n",
    "#Calculate R-squared for Median Salary\n",
    "r_squared_salary = calculate_r_squared(occupancy_age_salary['Household Occupancy'], occupancy_age_salary['Median Salary (GBP)'])\n",
    "print(f'R-squared for Median Salary: {r_squared_salary:.4f}')\n",
    "\n",
    "#Scatter plot with linear regression line for Median Age \n",
    "sns.regplot(x='Household Occupancy', y='Median Age (years)', data=occupancy_age_salary, ci=None, line_kws={'color': 'black'}, scatter_kws={'color': sns.color_palette('viridis')[5]})\n",
    "plt.xlabel('Household Occupancy')\n",
    "plt.ylabel('Median Age (years)')\n",
    "plt.tight_layout()\n",
    "plt.show()\n",
    "\n",
    "#Scatter plot with linear regression line for Median Salary\n",
    "sns.regplot(x='Household Occupancy', y='Median Salary (GBP)', data=occupancy_age_salary, ci=None, line_kws={'color': 'black'}, scatter_kws={'color': sns.color_palette('viridis')[5]})\n",
    "plt.xlabel('Household Occupancy')\n",
    "plt.ylabel('Median Salary (GBP)')\n",
    "plt.tight_layout()\n",
    "plt.show()"
   ]
  },
  {
   "cell_type": "markdown",
   "id": "5180834b",
   "metadata": {},
   "source": [
    "Low R2 values suggests no linear correlation between values.\n",
    "\n",
    "Median Age vs Occupancy might be polynomial fit. To determine this, could fit a linear regression model and appropriate polynomial model and identify best fit using ANOVA analysis with hypothesis testing. \n",
    "\n",
    "However, going to hypothesis test using Spearman correlation (alongside Pearson) to determine if correlation is likely in case of non-linear relationship."
   ]
  },
  {
   "cell_type": "markdown",
   "id": "f899e4fc",
   "metadata": {},
   "source": [
    "Hypothesis testing:\n",
    "\n",
    "Null Hypothesis: There is no correlation between Household Occupancy and Median Age.\n",
    "\n",
    "Alternative Hypothesis: There is a correlation between Household Occupancy and Median Age.\n",
    "\n",
    "p-value is 0.05."
   ]
  },
  {
   "cell_type": "code",
   "execution_count": 66,
   "id": "79f6120a",
   "metadata": {},
   "outputs": [
    {
     "name": "stdout",
     "output_type": "stream",
     "text": [
      "Pearson correlation coefficient: 0.151\n",
      "P-value (Pearson): 0.525\n",
      "Spearman rank correlation coefficient: 0.099\n",
      "P-value (Spearman): 0.677\n",
      "Null hypothesis stands: No significant correlation.\n"
     ]
    }
   ],
   "source": [
    "#Run correlation_tests functon on Median Age\n",
    "correlation_tests(occupancy_age_salary['Household Occupancy'], occupancy_age_salary['Median Age (years)'])"
   ]
  },
  {
   "cell_type": "markdown",
   "id": "c5551b19",
   "metadata": {},
   "source": [
    "The Spearman correlation coefficients for Median Age is 0.099. The corresponding p-values is 0.6772.\n",
    "\n",
    "Therefore, failing to reject the null hypothesis, there is no significant monotonic relationship between Household Occupancy and Median Age .\n",
    "\n",
    "The correlation does not imply causation, and the lack of a significant correlation in the data does not imply the absence of a real-world relationship."
   ]
  },
  {
   "cell_type": "markdown",
   "id": "66cbdff4",
   "metadata": {},
   "source": [
    "*Household Occupancy by Age and Marital Status*"
   ]
  },
  {
   "cell_type": "code",
   "execution_count": 67,
   "id": "ec3a410e",
   "metadata": {},
   "outputs": [
    {
     "data": {
      "image/png": "[encoded data removed]",
      "text/plain": [
       "<Figure size 1000x1000 with 4 Axes>"
      ]
     },
     "metadata": {},
     "output_type": "display_data"
    }
   ],
   "source": [
    "#Create function for FacetGrid with separate plots for each Marital Status plotting Household Occupancy vs Age\n",
    "def plot_marital_status_age_occupancy(data):\n",
    "    \"\"\"\n",
    "    Create a FacetGrid with separate plots for each Marital Status, plotting Household Occupancy vs Age.\n",
    "\n",
    "    Parameters:\n",
    "    data (pd.DataFrame): Input DataFrame containing the data.\n",
    "\n",
    "    Returns:\n",
    "    fig (matplotlib.figure.Figure): The generated matplotlib figure.\n",
    "    \"\"\"\n",
    "    #Create a FacetGrid with separate plots for each Marital Status\n",
    "    marital_status_age_occupancy = sns.FacetGrid(data, col=\"Marital Status\", height=5, col_wrap=2)\n",
    "\n",
    "    #Use histplot for each subplot with smaller bin width\n",
    "    marital_status_age_occupancy.map_dataframe(\n",
    "        sns.histplot, x='Household Occupancy', y='Age (years)', bins=25, binwidth=1, color=sns.color_palette('viridis')[4], cbar=False\n",
    "    )\n",
    "\n",
    "    marital_status_age_occupancy.set_axis_labels(\"Household Occupancy\", \"Age (years)\")\n",
    "    marital_status_age_occupancy.set_titles(col_template=\"{col_name}\")\n",
    "    plt.tight_layout()\n",
    "\n",
    "    return marital_status_age_occupancy.fig\n",
    "\n",
    "marital_status_age_occupancy = plot_marital_status_age_occupancy(df)"
   ]
  },
  {
   "cell_type": "markdown",
   "id": "a8c2d48e",
   "metadata": {},
   "source": [
    "According to the above plots, widowers tend towards lower occupancy households. Household occupancy is between 2 and 5 primarily, with a large number with occupancy of 2, showing proportion potentially of married couples with and without children. Divorced and single status is spread more across the plot, supporting the idea that these individuals may well live with others in shared households (rented accommodation, student accommodation) and flats."
   ]
  },
  {
   "cell_type": "markdown",
   "id": "4433b974",
   "metadata": {},
   "source": [
    "Determine occupancy using the median occupancy for each street to account for potential outliers (justified by analysis of skewness and excess kurtosis above).\n",
    "\n",
    "The median occupancy of the town is already known as 4. \n",
    "\n",
    "However, median occupancy by street is selected as the desired measure of occupancy, providing future opportunity to explore localised regions within the town that are over-occupied for development purposes."
   ]
  },
  {
   "cell_type": "code",
   "execution_count": 68,
   "id": "58e9a792",
   "metadata": {},
   "outputs": [
    {
     "name": "stdout",
     "output_type": "stream",
     "text": [
      "                 Street  Household Occupancy\n",
      "0    Aethelred Crescent                  2.0\n",
      "1     Aethelred Heights                  4.0\n",
      "2            Ahmed Spur                  2.0\n",
      "3        Anvilgain Road                  2.0\n",
      "4           Aries Spire                 13.0\n",
      "..                  ...                  ...\n",
      "99       William Bypass                  4.0\n",
      "100         Willow Road                  5.5\n",
      "101          York Drive                  2.0\n",
      "102     Yorkwalk Avenue                  1.0\n",
      "103         Yucca Drive                  4.0\n",
      "\n",
      "[104 rows x 2 columns]\n"
     ]
    }
   ],
   "source": [
    "median_occupancy_by_street = df.groupby('Street')['Household Occupancy'].median().reset_index()\n",
    "print(median_occupancy_by_street.round(2))"
   ]
  },
  {
   "cell_type": "markdown",
   "id": "baf693f8",
   "metadata": {},
   "source": [
    "Calculate difference between the average occupancy and the number of people who are actually living in a given house. This operates as a proxy to determine over-occupancy."
   ]
  },
  {
   "cell_type": "code",
   "execution_count": 69,
   "id": "1be1339a",
   "metadata": {},
   "outputs": [
    {
     "data": {
      "text/html": [
       "<div>\n",
       "<style scoped>\n",
       "    .dataframe tbody tr th:only-of-type {\n",
       "        vertical-align: middle;\n",
       "    }\n",
       "\n",
       "    .dataframe tbody tr th {\n",
       "        vertical-align: top;\n",
       "    }\n",
       "\n",
       "    .dataframe thead th {\n",
       "        text-align: right;\n",
       "    }\n",
       "</style>\n",
       "<table border=\"1\" class=\"dataframe\">\n",
       "  <thead>\n",
       "    <tr style=\"text-align: right;\">\n",
       "      <th></th>\n",
       "      <th>Street</th>\n",
       "      <th>House Number</th>\n",
       "      <th>Household Occupancy</th>\n",
       "    </tr>\n",
       "  </thead>\n",
       "  <tbody>\n",
       "    <tr>\n",
       "      <th>0</th>\n",
       "      <td>Aethelred Crescent</td>\n",
       "      <td>1</td>\n",
       "      <td>1</td>\n",
       "    </tr>\n",
       "    <tr>\n",
       "      <th>1</th>\n",
       "      <td>Aethelred Crescent</td>\n",
       "      <td>2</td>\n",
       "      <td>3</td>\n",
       "    </tr>\n",
       "    <tr>\n",
       "      <th>2</th>\n",
       "      <td>Aethelred Crescent</td>\n",
       "      <td>3</td>\n",
       "      <td>2</td>\n",
       "    </tr>\n",
       "    <tr>\n",
       "      <th>3</th>\n",
       "      <td>Aethelred Crescent</td>\n",
       "      <td>4</td>\n",
       "      <td>1</td>\n",
       "    </tr>\n",
       "    <tr>\n",
       "      <th>4</th>\n",
       "      <td>Aethelred Crescent</td>\n",
       "      <td>5</td>\n",
       "      <td>1</td>\n",
       "    </tr>\n",
       "    <tr>\n",
       "      <th>...</th>\n",
       "      <td>...</td>\n",
       "      <td>...</td>\n",
       "      <td>...</td>\n",
       "    </tr>\n",
       "    <tr>\n",
       "      <th>3057</th>\n",
       "      <td>Yucca Drive</td>\n",
       "      <td>24</td>\n",
       "      <td>2</td>\n",
       "    </tr>\n",
       "    <tr>\n",
       "      <th>3058</th>\n",
       "      <td>Yucca Drive</td>\n",
       "      <td>25</td>\n",
       "      <td>3</td>\n",
       "    </tr>\n",
       "    <tr>\n",
       "      <th>3059</th>\n",
       "      <td>Yucca Drive</td>\n",
       "      <td>26</td>\n",
       "      <td>4</td>\n",
       "    </tr>\n",
       "    <tr>\n",
       "      <th>3060</th>\n",
       "      <td>Yucca Drive</td>\n",
       "      <td>27</td>\n",
       "      <td>4</td>\n",
       "    </tr>\n",
       "    <tr>\n",
       "      <th>3061</th>\n",
       "      <td>Yucca Drive</td>\n",
       "      <td>28</td>\n",
       "      <td>4</td>\n",
       "    </tr>\n",
       "  </tbody>\n",
       "</table>\n",
       "<p>3062 rows × 3 columns</p>\n",
       "</div>"
      ],
      "text/plain": [
       "                  Street  House Number  Household Occupancy\n",
       "0     Aethelred Crescent             1                    1\n",
       "1     Aethelred Crescent             2                    3\n",
       "2     Aethelred Crescent             3                    2\n",
       "3     Aethelred Crescent             4                    1\n",
       "4     Aethelred Crescent             5                    1\n",
       "...                  ...           ...                  ...\n",
       "3057         Yucca Drive            24                    2\n",
       "3058         Yucca Drive            25                    3\n",
       "3059         Yucca Drive            26                    4\n",
       "3060         Yucca Drive            27                    4\n",
       "3061         Yucca Drive            28                    4\n",
       "\n",
       "[3062 rows x 3 columns]"
      ]
     },
     "metadata": {},
     "output_type": "display_data"
    }
   ],
   "source": [
    "#Create a new df with unique house numbers on each street and include the household occupancy\n",
    "unique_houses_occupancy = df.groupby(['Street', 'House Number']).agg({\n",
    "    'Household Occupancy': 'first',  # Take the first value as it's the same for each group\n",
    "}).reset_index()\n",
    "\n",
    "display(unique_houses_occupancy)"
   ]
  },
  {
   "cell_type": "code",
   "execution_count": 70,
   "id": "e0a7ea05",
   "metadata": {},
   "outputs": [
    {
     "name": "stdout",
     "output_type": "stream",
     "text": [
      "Number of family houses: 1381\n",
      "Number of houses: 3062\n"
     ]
    }
   ],
   "source": [
    "#Determine number of houses with families with children (unique_houses_with_children) from total number of houses in unique_houses_occupancy\n",
    "count_family_houses = len(unique_houses_with_children)\n",
    "count_houses = len(unique_houses_occupancy)\n",
    "\n",
    "print(f\"Number of family houses: {count_family_houses}\")\n",
    "print(f\"Number of houses: {count_houses}\")"
   ]
  },
  {
   "cell_type": "code",
   "execution_count": 71,
   "id": "eface61b",
   "metadata": {},
   "outputs": [
    {
     "name": "stdout",
     "output_type": "stream",
     "text": [
      "Percentage of family houses as a proportion of total houses: 45.1%\n"
     ]
    }
   ],
   "source": [
    "#Calculate the percentage of family houses as a proportion of total houses\n",
    "percentage_family_houses = (count_family_houses / count_houses) * 100\n",
    "\n",
    "print(f\"Percentage of family houses as a proportion of total houses: {percentage_family_houses:.1f}%\")"
   ]
  },
  {
   "cell_type": "code",
   "execution_count": 72,
   "id": "57e80781",
   "metadata": {},
   "outputs": [
    {
     "name": "stdout",
     "output_type": "stream",
     "text": [
      "<class 'pandas.core.frame.DataFrame'>\n",
      "RangeIndex: 3062 entries, 0 to 3061\n",
      "Data columns (total 4 columns):\n",
      " #   Column                                          Non-Null Count  Dtype  \n",
      "---  ------                                          --------------  -----  \n",
      " 0   Street                                          3062 non-null   object \n",
      " 1   House Number                                    3062 non-null   int64  \n",
      " 2   Household Occupancy                             3062 non-null   int64  \n",
      " 3   Occupancy Difference (Median Occupancy Street)  3062 non-null   float64\n",
      "dtypes: float64(1), int64(2), object(1)\n",
      "memory usage: 95.8+ KB\n"
     ]
    }
   ],
   "source": [
    "#Create dictionaries mapping streets to median household occupancy by street\n",
    "median_occupancy_dict = dict(zip(median_occupancy_by_street['Street'], median_occupancy_by_street['Household Occupancy']))\n",
    "\n",
    "#Create a new column 'Occupancy Difference' for median in grouped_df using map and round to 2 decimal places\n",
    "unique_houses_occupancy['Occupancy Difference (Median Occupancy Street)'] = unique_houses_occupancy['Street'].map(median_occupancy_dict) - unique_houses_occupancy['Household Occupancy']\n",
    "unique_houses_occupancy['Occupancy Difference (Median Occupancy Street)'] = unique_houses_occupancy['Occupancy Difference (Median Occupancy Street)'].round(2)\n",
    "\n",
    "#display(grouped_df)\n",
    "unique_houses_occupancy.info()"
   ]
  },
  {
   "cell_type": "markdown",
   "id": "ce0d6422",
   "metadata": {},
   "source": [
    "The Occupancy Difference represents the difference between the median household occupancy on a given street and the actual household occupancy for a specific house on that street. \n",
    "\n",
    "If Occupancy Difference is positive, the actual household occupancy for that specific house is less than the  median household occupancy for houses on the same street. This suggests that the house is under-occupied compared to the median on the street.\n",
    "\n",
    "If Occupancy Difference is negative, the actual household occupancy for that specific house is greater than the median household occupancy for houses on the same street. This suggests that the house is over-occupied compared to the median on the street."
   ]
  },
  {
   "cell_type": "code",
   "execution_count": 73,
   "id": "9ace6371",
   "metadata": {},
   "outputs": [],
   "source": [
    "#Function to categorise occupancy difference\n",
    "def categorise_occupancy_difference(diff):\n",
    "    \"\"\"\n",
    "    Categorise the occupancy difference into one of the following categories:\n",
    "    'Under-occupied' if the difference is greater than 0.\n",
    "    'Over-occupied' if the difference is less than 0.\n",
    "    'Equal to occupancy' if the difference is 0.\n",
    "\n",
    "    Parameters:\n",
    "    diff (float): The occupancy difference to be categorised.\n",
    "\n",
    "    Returns:\n",
    "    str: The category of occupancy difference.\n",
    "    \"\"\"\n",
    "    if diff > 0:\n",
    "        return 'Under-occupied'\n",
    "    elif diff < 0:\n",
    "        return 'Over-occupied'\n",
    "    else:\n",
    "        return 'Equal to occupancy'\n",
    "\n",
    "#Apply the categorisation function to the median 'Occupancy Difference' column\n",
    "unique_houses_occupancy['Occupancy Category (Median Occupancy Street)'] = unique_houses_occupancy['Occupancy Difference (Median Occupancy Street)'].apply(categorise_occupancy_difference)"
   ]
  },
  {
   "cell_type": "markdown",
   "id": "09801227",
   "metadata": {},
   "source": [
    "Calculate the difference in the sum of the difference between over-occupancy and under-occupancy for all streets to determine if overall, the town is over or under-occupied."
   ]
  },
  {
   "cell_type": "code",
   "execution_count": 74,
   "id": "9ec4bf68",
   "metadata": {},
   "outputs": [
    {
     "data": {
      "text/plain": [
       "'Overall, the town is over-occupied.'"
      ]
     },
     "execution_count": 74,
     "metadata": {},
     "output_type": "execute_result"
    }
   ],
   "source": [
    "def calculate_overall_occupancy_difference(data):\n",
    "    \"\"\"\n",
    "    Calculate the overall occupancy difference for a town based on differences in over-occupied and under-occupied streets.\n",
    "\n",
    "    Parameters:\n",
    "    data (pd.DataFrame), the input DataFrame grouped by streets\n",
    "\n",
    "    Returns:\n",
    "    str, a message indicating whether the town is over-occupied, under-occupied, or neither\n",
    "    \"\"\"\n",
    "    #Sum the differences for over-occupied streets\n",
    "    sum_over_occupied = data.loc[data['Occupancy Category (Median Occupancy Street)'] == 'Over-occupied', 'Occupancy Difference (Median Occupancy Street)'].sum()\n",
    "\n",
    "    #Sum the differences for under-occupied streets\n",
    "    sum_under_occupied = data.loc[data['Occupancy Category (Median Occupancy Street)'] == 'Under-occupied', 'Occupancy Difference (Median Occupancy Street)'].sum()\n",
    "\n",
    "    overall_difference = sum_over_occupied + sum_under_occupied\n",
    "\n",
    "    #Determine overall occupancy status\n",
    "    if overall_difference > 0:\n",
    "        return \"Overall, the town is over-occupied.\"\n",
    "    elif overall_difference < 0:\n",
    "        return \"Overall, the town is under-occupied.\"\n",
    "    else:\n",
    "        return \"Overall, the town is neither over nor under-occupied.\"\n",
    "\n",
    "calculate_overall_occupancy_difference(unique_houses_occupancy)"
   ]
  },
  {
   "cell_type": "markdown",
   "id": "9bf1bc83",
   "metadata": {},
   "source": [
    "*Boxplot of occupancy difference (based on mean of IQR) by street*"
   ]
  },
  {
   "cell_type": "code",
   "execution_count": 75,
   "id": "b49e6d9a",
   "metadata": {},
   "outputs": [
    {
     "data": {
      "image/png": "[encoded data removed]",
      "text/plain": [
       "<Figure size 640x480 with 1 Axes>"
      ]
     },
     "metadata": {},
     "output_type": "display_data"
    }
   ],
   "source": [
    "#Calculate the mean of IQRs for the median occupancy differences\n",
    "mean_iqr_median = unique_houses_occupancy['Occupancy Difference (Median Occupancy Street)'].quantile(0.75) - unique_houses_occupancy['Occupancy Difference (Median Occupancy Street)'].quantile(0.25) \n",
    "\n",
    "#Plot combined boxplot with mean of IQR, whiskers, and outliers for all streets (median)\n",
    "sns.boxplot(y='Occupancy Difference (Median Occupancy Street)', data=unique_houses_occupancy, color=sns.color_palette('viridis')[4], width=0.4, showfliers=True, showcaps=True)\n",
    "plt.axhline(y=mean_iqr_median, color='black', linestyle='--', label='Mean IQR (Median)')\n",
    "plt.xlabel('All Streets')\n",
    "plt.ylabel('Occupancy Difference')\n",
    "plt.tight_layout()\n",
    "\n",
    "plt.show()"
   ]
  },
  {
   "cell_type": "markdown",
   "id": "2683e820",
   "metadata": {},
   "source": [
    "Compare to the median occupancy of the town."
   ]
  },
  {
   "cell_type": "code",
   "execution_count": 76,
   "id": "a72ce98b",
   "metadata": {},
   "outputs": [],
   "source": [
    "#Calculate the occupancy difference (median occupancy) for each row in grouped_df (for whole town)\n",
    "unique_houses_occupancy['Occupancy Difference (Median Occupancy of Town)'] = unique_houses_occupancy['Household Occupancy'] - median_town_occupancy"
   ]
  },
  {
   "cell_type": "code",
   "execution_count": 77,
   "id": "0ffad55e",
   "metadata": {},
   "outputs": [],
   "source": [
    "#Apply categorisation function to the 'Occupancy Difference of Town' column\n",
    "unique_houses_occupancy['Occupancy Category (Median Occupancy of Town)'] = unique_houses_occupancy['Occupancy Difference (Median Occupancy of Town)'].apply(categorise_occupancy_difference)"
   ]
  },
  {
   "cell_type": "code",
   "execution_count": 78,
   "id": "2ef809cd",
   "metadata": {},
   "outputs": [
    {
     "name": "stdout",
     "output_type": "stream",
     "text": [
      "Percentage of Houses in 'Over-occupied' category for median of town: 72.5%\n",
      "Percentage of Houses in 'Under-occupied' category for median of town: 14.1%\n",
      "Percentage of Houses in 'Equal to median occupancy' category for median of town: 13.4%\n"
     ]
    }
   ],
   "source": [
    "#Determine over-occupancy based on median household occupancy for town\n",
    "#Calculate the total number of houses\n",
    "total_houses = len(unique_houses_occupancy)\n",
    "\n",
    "#Count the number of houses in each occupancy category\n",
    "category_counts_med_town = unique_houses_occupancy['Occupancy Category (Median Occupancy of Town)'].value_counts()\n",
    "\n",
    "#Calculate the percentage of houses in each category\n",
    "percentage_over_occupied_med_town = (category_counts_med_town['Over-occupied'] / total_houses) * 100\n",
    "percentage_under_occupied_med_town = (category_counts_med_town['Under-occupied'] / total_houses) * 100\n",
    "percentage_equal_to_med_town = (category_counts_med_town['Equal to occupancy'] / total_houses) * 100\n",
    "\n",
    "#Print the percentages\n",
    "print(f\"Percentage of Houses in 'Over-occupied' category for median of town: {percentage_over_occupied_med_town:.1f}%\")\n",
    "print(f\"Percentage of Houses in 'Under-occupied' category for median of town: {percentage_under_occupied_med_town:.1f}%\")\n",
    "print(f\"Percentage of Houses in 'Equal to median occupancy' category for median of town: {percentage_equal_to_med_town:.1f}%\")"
   ]
  },
  {
   "cell_type": "code",
   "execution_count": 79,
   "id": "f7189863",
   "metadata": {},
   "outputs": [
    {
     "data": {
      "image/png": "[encoded data removed]",
      "text/plain": [
       "<Figure size 640x480 with 1 Axes>"
      ]
     },
     "metadata": {},
     "output_type": "display_data"
    }
   ],
   "source": [
    "#Plot occupancy categories calculated from median occupancy of town\n",
    "occupancy_category_distribution_median_town = plot_category_distribution(unique_houses_occupancy, 'Occupancy Category (Median Occupancy of Town)')"
   ]
  },
  {
   "cell_type": "code",
   "execution_count": 80,
   "id": "df37da19",
   "metadata": {},
   "outputs": [
    {
     "name": "stdout",
     "output_type": "stream",
     "text": [
      "The percentage of houses with lodgers/visitors that are over-occupied is: 53.5%\n"
     ]
    }
   ],
   "source": [
    "#Determine if houses with lodgers/visitors are over-occupied\n",
    "#Filter houses with lodgers/visitors\n",
    "houses_with_lodgers_visitors = lodgers_and_visitors[['House Number', 'Street']].drop_duplicates()\n",
    "\n",
    "#Identify over-occupied houses based on the Household Occupancy column\n",
    "#Using median_town_occupnacy (4) as threshold for over-occupansy\n",
    "over_occupied_houses = houses_with_lodgers_visitors[\n",
    "    houses_with_lodgers_visitors.apply(lambda row: df[(df['House Number'] == row['House Number']) & (df['Street'] == row['Street'])]['Household Occupancy'].max() > median_town_occupancy, axis=1)\n",
    "]\n",
    "\n",
    "#Calculate the percentage of over-occupied houses\n",
    "percentage_over_occupied_houses = (len(over_occupied_houses) / len(houses_with_lodgers_visitors)) * 100\n",
    "\n",
    "print(f\"The percentage of houses with lodgers/visitors that are over-occupied is: {percentage_over_occupied_houses:.1f}%\")"
   ]
  },
  {
   "cell_type": "markdown",
   "id": "36e67366",
   "metadata": {},
   "source": [
    "*Summary of occupancy*\n",
    "\n",
    "Based on the median occupancy for the town (4) more houses are over-occupied, than under-occupied. This correlates to median by street (showing over-occupation also).\n",
    "\n",
    "Chosen median for street as indicator of occupancy for this dataset because it gives a more localised view of occupancy, in contrast to more generalised median for town. \n",
    "\n",
    "This helps identifying potential localised regions of over-occupancy should this analysis be required in the future. \n",
    "\n",
    "There are outliers on streets as represented by the distribution of occupancy against number of houses (skewness and excess kurtosis indicate this) where there may be blocks of flats, student accommodation etc. so median is a better metric to choose (rather than mean) to account for outliers in the dataset.\n",
    "\n",
    "45% of the houses are occupied by families.\n",
    "\n",
    "The percentage of houses with lodgers/visitors that are over-occupied is 53.5%. As determined above, the majority (71.1%) of lodgers and visitors are staying in homes with children. Roughly a quarter of families living with a lodger, the head of the household is unmarried. In these instances, homes may be over-occupied because family members are sharing bedrooms to accommodate a lodger, or families cannot downsize and are renting rooms for affordability reasons. Families with a divorced, single or widowed parent may also be renting a room out to lodgers for affordability reasons and to avoid downsizing.\n",
    "\n",
    "Widowers tend towards lower occupancy households. Household occupancy for married population is between 2 and 5 primarily, with a large number with occupancy of 2, showing proportion potentially of married couples with and without children. Divorced and single status is spread more across the plot, supporting the idea that these individuals may live alone or with others in shared household (rented accommodation, student accommodation) and flats."
   ]
  },
  {
   "cell_type": "markdown",
   "id": "ca51aef4",
   "metadata": {},
   "source": [
    "**Religion**"
   ]
  },
  {
   "cell_type": "markdown",
   "id": "2825dfa7",
   "metadata": {},
   "source": [
    "Analysis undertaken in this section:\n",
    "\n",
    "1. Summary stats\n",
    "2. Distribution of religion\n",
    "3. Distributiion of NaN religion\n",
    "4. Distribution of religion by age\n",
    "5. Religion inheritance\n",
    "6. Distribution of religions of those who will die in the next 10 years\n",
    "7. Distribution of religions of those who will reach the age of 16 or older in the next 10 years"
   ]
  },
  {
   "cell_type": "markdown",
   "id": "6461e252",
   "metadata": {},
   "source": [
    "For each religion compute the count, mean, median, std dev, and IQR of age for the population."
   ]
  },
  {
   "cell_type": "code",
   "execution_count": 81,
   "id": "11a4a226",
   "metadata": {},
   "outputs": [
    {
     "data": {
      "text/html": [
       "<div>\n",
       "<style scoped>\n",
       "    .dataframe tbody tr th:only-of-type {\n",
       "        vertical-align: middle;\n",
       "    }\n",
       "\n",
       "    .dataframe tbody tr th {\n",
       "        vertical-align: top;\n",
       "    }\n",
       "\n",
       "    .dataframe thead th {\n",
       "        text-align: right;\n",
       "    }\n",
       "</style>\n",
       "<table border=\"1\" class=\"dataframe\">\n",
       "  <thead>\n",
       "    <tr style=\"text-align: right;\">\n",
       "      <th></th>\n",
       "      <th>Count</th>\n",
       "      <th>Mean</th>\n",
       "      <th>Std</th>\n",
       "      <th>Min</th>\n",
       "      <th>25% (Q1)</th>\n",
       "      <th>50% (Median)</th>\n",
       "      <th>75% (Q3)</th>\n",
       "      <th>Max</th>\n",
       "      <th>IQR</th>\n",
       "    </tr>\n",
       "    <tr>\n",
       "      <th>Religion</th>\n",
       "      <th></th>\n",
       "      <th></th>\n",
       "      <th></th>\n",
       "      <th></th>\n",
       "      <th></th>\n",
       "      <th></th>\n",
       "      <th></th>\n",
       "      <th></th>\n",
       "      <th></th>\n",
       "    </tr>\n",
       "  </thead>\n",
       "  <tbody>\n",
       "    <tr>\n",
       "      <th>None</th>\n",
       "      <td>2842.0</td>\n",
       "      <td>42.1</td>\n",
       "      <td>16.7</td>\n",
       "      <td>18.0</td>\n",
       "      <td>29.0</td>\n",
       "      <td>40.0</td>\n",
       "      <td>52.0</td>\n",
       "      <td>107.0</td>\n",
       "      <td>23.0</td>\n",
       "    </tr>\n",
       "    <tr>\n",
       "      <th>Christian</th>\n",
       "      <td>1956.0</td>\n",
       "      <td>49.9</td>\n",
       "      <td>18.2</td>\n",
       "      <td>18.0</td>\n",
       "      <td>36.0</td>\n",
       "      <td>51.0</td>\n",
       "      <td>62.0</td>\n",
       "      <td>116.0</td>\n",
       "      <td>26.0</td>\n",
       "    </tr>\n",
       "    <tr>\n",
       "      <th>Undeclared</th>\n",
       "      <td>1748.0</td>\n",
       "      <td>8.0</td>\n",
       "      <td>4.5</td>\n",
       "      <td>0.0</td>\n",
       "      <td>4.0</td>\n",
       "      <td>8.0</td>\n",
       "      <td>12.0</td>\n",
       "      <td>15.0</td>\n",
       "      <td>8.0</td>\n",
       "    </tr>\n",
       "    <tr>\n",
       "      <th>Catholic</th>\n",
       "      <td>884.0</td>\n",
       "      <td>44.1</td>\n",
       "      <td>16.2</td>\n",
       "      <td>18.0</td>\n",
       "      <td>34.0</td>\n",
       "      <td>42.0</td>\n",
       "      <td>51.0</td>\n",
       "      <td>102.0</td>\n",
       "      <td>17.0</td>\n",
       "    </tr>\n",
       "    <tr>\n",
       "      <th>Methodist</th>\n",
       "      <td>499.0</td>\n",
       "      <td>45.7</td>\n",
       "      <td>17.8</td>\n",
       "      <td>18.0</td>\n",
       "      <td>32.0</td>\n",
       "      <td>43.0</td>\n",
       "      <td>57.0</td>\n",
       "      <td>100.0</td>\n",
       "      <td>25.0</td>\n",
       "    </tr>\n",
       "    <tr>\n",
       "      <th>Muslim</th>\n",
       "      <td>97.0</td>\n",
       "      <td>34.6</td>\n",
       "      <td>14.9</td>\n",
       "      <td>18.0</td>\n",
       "      <td>24.0</td>\n",
       "      <td>29.0</td>\n",
       "      <td>42.0</td>\n",
       "      <td>94.0</td>\n",
       "      <td>18.0</td>\n",
       "    </tr>\n",
       "    <tr>\n",
       "      <th>Sikh</th>\n",
       "      <td>40.0</td>\n",
       "      <td>32.2</td>\n",
       "      <td>13.8</td>\n",
       "      <td>18.0</td>\n",
       "      <td>25.8</td>\n",
       "      <td>29.0</td>\n",
       "      <td>33.0</td>\n",
       "      <td>73.0</td>\n",
       "      <td>7.2</td>\n",
       "    </tr>\n",
       "    <tr>\n",
       "      <th>Jewish</th>\n",
       "      <td>36.0</td>\n",
       "      <td>39.6</td>\n",
       "      <td>15.0</td>\n",
       "      <td>19.0</td>\n",
       "      <td>27.0</td>\n",
       "      <td>36.5</td>\n",
       "      <td>48.0</td>\n",
       "      <td>70.0</td>\n",
       "      <td>21.0</td>\n",
       "    </tr>\n",
       "    <tr>\n",
       "      <th>Buddhist</th>\n",
       "      <td>3.0</td>\n",
       "      <td>29.7</td>\n",
       "      <td>18.5</td>\n",
       "      <td>19.0</td>\n",
       "      <td>19.0</td>\n",
       "      <td>19.0</td>\n",
       "      <td>35.0</td>\n",
       "      <td>51.0</td>\n",
       "      <td>16.0</td>\n",
       "    </tr>\n",
       "    <tr>\n",
       "      <th>Orthodoxy</th>\n",
       "      <td>1.0</td>\n",
       "      <td>45.0</td>\n",
       "      <td>NaN</td>\n",
       "      <td>45.0</td>\n",
       "      <td>45.0</td>\n",
       "      <td>45.0</td>\n",
       "      <td>45.0</td>\n",
       "      <td>45.0</td>\n",
       "      <td>0.0</td>\n",
       "    </tr>\n",
       "    <tr>\n",
       "      <th>Pagan</th>\n",
       "      <td>1.0</td>\n",
       "      <td>102.0</td>\n",
       "      <td>NaN</td>\n",
       "      <td>102.0</td>\n",
       "      <td>102.0</td>\n",
       "      <td>102.0</td>\n",
       "      <td>102.0</td>\n",
       "      <td>102.0</td>\n",
       "      <td>0.0</td>\n",
       "    </tr>\n",
       "    <tr>\n",
       "      <th>Quaker</th>\n",
       "      <td>1.0</td>\n",
       "      <td>57.0</td>\n",
       "      <td>NaN</td>\n",
       "      <td>57.0</td>\n",
       "      <td>57.0</td>\n",
       "      <td>57.0</td>\n",
       "      <td>57.0</td>\n",
       "      <td>57.0</td>\n",
       "      <td>0.0</td>\n",
       "    </tr>\n",
       "  </tbody>\n",
       "</table>\n",
       "</div>"
      ],
      "text/plain": [
       "             Count   Mean   Std    Min  25% (Q1)  50% (Median)  75% (Q3)  \\\n",
       "Religion                                                                   \n",
       "None        2842.0   42.1  16.7   18.0      29.0          40.0      52.0   \n",
       "Christian   1956.0   49.9  18.2   18.0      36.0          51.0      62.0   \n",
       "Undeclared  1748.0    8.0   4.5    0.0       4.0           8.0      12.0   \n",
       "Catholic     884.0   44.1  16.2   18.0      34.0          42.0      51.0   \n",
       "Methodist    499.0   45.7  17.8   18.0      32.0          43.0      57.0   \n",
       "Muslim        97.0   34.6  14.9   18.0      24.0          29.0      42.0   \n",
       "Sikh          40.0   32.2  13.8   18.0      25.8          29.0      33.0   \n",
       "Jewish        36.0   39.6  15.0   19.0      27.0          36.5      48.0   \n",
       "Buddhist       3.0   29.7  18.5   19.0      19.0          19.0      35.0   \n",
       "Orthodoxy      1.0   45.0   NaN   45.0      45.0          45.0      45.0   \n",
       "Pagan          1.0  102.0   NaN  102.0     102.0         102.0     102.0   \n",
       "Quaker         1.0   57.0   NaN   57.0      57.0          57.0      57.0   \n",
       "\n",
       "              Max   IQR  \n",
       "Religion                 \n",
       "None        107.0  23.0  \n",
       "Christian   116.0  26.0  \n",
       "Undeclared   15.0   8.0  \n",
       "Catholic    102.0  17.0  \n",
       "Methodist   100.0  25.0  \n",
       "Muslim       94.0  18.0  \n",
       "Sikh         73.0   7.2  \n",
       "Jewish       70.0  21.0  \n",
       "Buddhist     51.0  16.0  \n",
       "Orthodoxy    45.0   0.0  \n",
       "Pagan       102.0   0.0  \n",
       "Quaker       57.0   0.0  "
      ]
     },
     "execution_count": 81,
     "metadata": {},
     "output_type": "execute_result"
    }
   ],
   "source": [
    "#Group by religion on age\n",
    "religion_age = df.groupby('Religion')['Age (years)']\n",
    "\n",
    "religion_age_stats = describe_with_iqr_grouped_df(religion_age)\n",
    "religion_age_stats"
   ]
  },
  {
   "cell_type": "code",
   "execution_count": 82,
   "id": "e047183f",
   "metadata": {},
   "outputs": [
    {
     "data": {
      "image/png": "[encoded data removed]",
      "text/plain": [
       "<Figure size 640x480 with 1 Axes>"
      ]
     },
     "metadata": {},
     "output_type": "display_data"
    }
   ],
   "source": [
    "#Plot religion distribution\n",
    "religion_distribution = plot_category_distribution(df, 'Religion')"
   ]
  },
  {
   "cell_type": "markdown",
   "id": "67435fa2",
   "metadata": {},
   "source": [
    "Four religions (muslim, sikh, jewish and buddhist) with lower counts, also have lower median age (less than 40 years old)."
   ]
  },
  {
   "cell_type": "code",
   "execution_count": 83,
   "id": "1a53f2c3",
   "metadata": {},
   "outputs": [
    {
     "name": "stdout",
     "output_type": "stream",
     "text": [
      "The percentage of people with Muslim, Sikh, Jewish, or Buddhist religions is: 2.1%\n"
     ]
    }
   ],
   "source": [
    "#List of less popular religions to consider\n",
    "less_popular_religions = ['Muslim', 'Sikh', 'Jewish', 'Buddhist']\n",
    "\n",
    "#Filter df for the specified religions\n",
    "less_popular_religions_df = df[df['Religion'].isin(less_popular_religions)]\n",
    "\n",
    "#Calculate the total count of people with the specified religions\n",
    "total_count_less_popular_religions = len(less_popular_religions_df)\n",
    "\n",
    "#Calculate the percentage of people with the specified religions\n",
    "percentage_less_popular_religions = (total_count_less_popular_religions / total_population) * 100\n",
    "\n",
    "print(f\"The percentage of people with Muslim, Sikh, Jewish, or Buddhist religions is: {percentage_less_popular_religions:.1f}%\")"
   ]
  },
  {
   "cell_type": "markdown",
   "id": "88ca1c43",
   "metadata": {},
   "source": [
    "Percentage of NaN (adults who did not enter any value (left blank) for Religion) of the total population"
   ]
  },
  {
   "cell_type": "code",
   "execution_count": 84,
   "id": "053b197c",
   "metadata": {},
   "outputs": [
    {
     "name": "stdout",
     "output_type": "stream",
     "text": [
      "Count of NaN as religion: 262\n",
      "The percentage of the total population with NaN as Religion is: 3.1%\n"
     ]
    }
   ],
   "source": [
    "#Filter individuals with NaN religion\n",
    "null_religion = df[df['Religion'].isna()]\n",
    "\n",
    "#Number of NaN values in null_religion\n",
    "count_of_null_religion = len(null_religion)\n",
    "print(f\"Count of NaN as religion: {count_of_null_religion}\")\n",
    "\n",
    "#Calculate the percentage of total population with NaN values in Religion\n",
    "percentage_null_religion = (count_of_null_religion / total_population) * 100\n",
    "print(f\"The percentage of the total population with NaN as Religion is: {percentage_null_religion:.1f}%\")"
   ]
  },
  {
   "cell_type": "code",
   "execution_count": 85,
   "id": "8cf9350a",
   "metadata": {},
   "outputs": [
    {
     "data": {
      "image/png": "[encoded data removed]",
      "text/plain": [
       "<Figure size 640x480 with 1 Axes>"
      ]
     },
     "metadata": {},
     "output_type": "display_data"
    }
   ],
   "source": [
    "#Create a boxplot using sns to visualise NaN religion\n",
    "sns.boxplot(y='Age (years)', data=null_religion, palette='viridis')\n",
    "\n",
    "plt.xlabel('NaN as Religion')\n",
    "plt.tight_layout()\n",
    "\n",
    "plt.show()"
   ]
  },
  {
   "cell_type": "markdown",
   "id": "bf93e184",
   "metadata": {},
   "source": [
    "Percentage of None (adults who entered that they don't have a religion) of the total population"
   ]
  },
  {
   "cell_type": "code",
   "execution_count": 86,
   "id": "40d7f852",
   "metadata": {},
   "outputs": [
    {
     "name": "stdout",
     "output_type": "stream",
     "text": [
      "Count of None as religion: 2842\n",
      "The percentage of the total population with None as Religion is: 34.0%\n"
     ]
    }
   ],
   "source": [
    "#Filter individuals with NaN religion\n",
    "none_religion = df[df['Religion'] == 'None']\n",
    "\n",
    "#Number of None values in none_religion\n",
    "count_of_none_religion = len(none_religion)\n",
    "print(f\"Count of None as religion: {count_of_none_religion}\")\n",
    "\n",
    "#Calculate the percentage of total population with None in Religion\n",
    "percentage_none_religion = (count_of_none_religion / total_population) * 100\n",
    "print(f\"The percentage of the total population with None as Religion is: {percentage_none_religion:.1f}%\")"
   ]
  },
  {
   "cell_type": "code",
   "execution_count": 87,
   "id": "9e3ed461",
   "metadata": {},
   "outputs": [
    {
     "data": {
      "image/png": "[encoded data removed]",
      "text/plain": [
       "<Figure size 1200x800 with 1 Axes>"
      ]
     },
     "metadata": {},
     "output_type": "display_data"
    }
   ],
   "source": [
    "#Define function to calculate range of grouped df religion_age\n",
    "def calculate_range(data):\n",
    "    \"\"\"\n",
    "    Calculate the range for each group within a grouped DataFrame.\n",
    "\n",
    "    Parameters:\n",
    "    data (pd.DataFrame): Input DataFrame.\n",
    "\n",
    "    Returns:\n",
    "    pandas.Series, the range for each group.\n",
    "    \"\"\"\n",
    "    return data.max() - data.min()\n",
    "\n",
    "#Create a boxplot using sns to visualise age range by religion\n",
    "def plot_age_range_religion(data):\n",
    "    \"\"\"\n",
    "    Create a boxplot to visualize the distribution of age ranges across different religions.\n",
    "\n",
    "    Parameters:\n",
    "    - data (pd.DataFrame): Input DataFrame.\n",
    "\n",
    "    Returns:\n",
    "    - plt.Figure: The Matplotlib Figure object of the boxplot.\n",
    "    \"\"\"\n",
    "    fig, ax = plt.subplots(figsize = (12, 8))\n",
    "    sns.boxplot(x='Religion', y='Age (years)', data=data, order=religion_age.agg(calculate_range).sort_values().index, palette='viridis', ax=ax)\n",
    "\n",
    "    plt.xlabel('Religion')\n",
    "    plt.ylabel('Age (years)')\n",
    "    plt.xticks(rotation=45)\n",
    "    plt.tight_layout()\n",
    "\n",
    "    return fig\n",
    "\n",
    "age_range_by_religion = plot_age_range_religion(df)"
   ]
  },
  {
   "cell_type": "markdown",
   "id": "023592ba",
   "metadata": {},
   "source": [
    "Religions associated with older people are Christian, Catholic and Methodist. There are also older people with no religion 'None'. There is already a place of worship for Catholics in the town. There may be a requirement for a place of worship for Christian or Methodist religions based on population size of these religions. However, investment could only be justified if  high inheritance of religion within families/households, to determine that the population of these religions will remain high in the future. \n",
    "The percentage of the total population with None as Religion is 34%.\n",
    "\n",
    "For younger generations under 40 there are \"emerging\" religions Buddhist, Sikh, Muslim and Jewish. This is represented by the lower median ages and comparatively narrower IQR for these religions compared to Christian, Catholic and Methodist.\n",
    "The percentage of people with Muslim, Sikh, Jewish, or Buddhist religions is 2.1% of the total population. These religions may  be up and coming but represent a small percentage of the total population at the time of the census and therefore new places of worship for these religions is not justified.\n",
    "\n",
    "For adults who did not answer religion in the census, the IQR is narrow with no-one over 30.\n",
    "The percentage of the total population with NaN as Religion is: 3.1%. These younger adults make up a small percentage of the overall population."
   ]
  },
  {
   "cell_type": "markdown",
   "id": "c0771b06",
   "metadata": {},
   "source": [
    "*Inheritance of religion within families/households*\n",
    "\n",
    "To estimate the percentage probability that a certain religion is passed from parent to child for each religion, calculate the ratio of the number of matches (where the 'Head' of the household has the same religion as someone under 16) to the total number of 'Head' individuals for each religion."
   ]
  },
  {
   "cell_type": "markdown",
   "id": "fe309946",
   "metadata": {},
   "source": [
    "This isn't going to work for the dataset as no children (under 16) have any religious affiliations. They are all Undeclared. They were all NaN and one instance of 'None' before all under 16s were changed to Undeclared during data cleaning. \n",
    "\n",
    "In any case, here is the code to calculate percentage probability that a religion will be passed from parent to child (religion_inheritance_rate)."
   ]
  },
  {
   "cell_type": "code",
   "execution_count": 88,
   "id": "16089f6c",
   "metadata": {},
   "outputs": [
    {
     "name": "stdout",
     "output_type": "stream",
     "text": [
      "Households with Matches:\n",
      "\n",
      "Percentage Probability of Religion Inheritance:\n"
     ]
    }
   ],
   "source": [
    "#Define function that calculates % probability of under 16s inheriting same religion as head of household\n",
    "def religion_inheritance_rate(data):\n",
    "    \"\"\"\n",
    "    Calculate the percentage probability of individuals under 16 having the same religion as the head of the household.\n",
    "\n",
    "    Parameters:\n",
    "    data (pd.DataFrame): Input DataFrame.\n",
    "\n",
    "    Returns:\n",
    "    percentage_probabilities: dict, percentage probabilities for each religion\n",
    "    matching_households: set, households with matches\n",
    "    \"\"\"\n",
    "    #Create households_with_under_16 df by filtering individuals under 16\n",
    "    under_16_addresses = data[data['Age (years)'] < 16][['Street', 'House Number']]\n",
    "\n",
    "    #Merge df with households_with_under_16 based on Street and House Number columns\n",
    "    #Keeping only the rows that have matching values in both\n",
    "    households_with_under_16 = pd.merge(df, under_16_addresses, on=['Street', 'House Number'], how='inner')\n",
    "\n",
    "    #Filter individuals identified as Head\n",
    "    heads_df = households_with_under_16[households_with_under_16['Relationship to Head of House'] == 'Head']\n",
    "\n",
    "    #Create dictionaries and set to store results\n",
    "    matches_by_religion = {}\n",
    "    total_heads_by_religion = {}\n",
    "    matching_households = set()\n",
    "    \n",
    "    #Iterate over head of households and check for matching religions among individuals under 16 in the same household\n",
    "    for _, head_row in heads_df.iterrows():\n",
    "        matching_religion = any(\n",
    "            households_with_under_16[\n",
    "                (households_with_under_16['Street'] == head_row['Street']) &\n",
    "                (households_with_under_16['House Number'] == head_row['House Number']) &\n",
    "                (households_with_under_16['Age (years)'] < 16)\n",
    "            ]['Religion'] == head_row['Religion']\n",
    "        )\n",
    "        religion = head_row['Religion']\n",
    "        #Keep track of the total number of heads and matches for each religion\n",
    "        #Check if the current religion is not in the dictionary tracking total heads\n",
    "        #If not, initialise the count for this religion to zero\n",
    "        if religion not in total_heads_by_religion:\n",
    "            total_heads_by_religion[religion] = 0\n",
    "        #Increment the count of total heads for the current religion\n",
    "        total_heads_by_religion[religion] += 1\n",
    "        #Check if there is a matching religion among individuals under 16 in the same household\n",
    "        if matching_religion:\n",
    "            #Check if the current religion is not in the dictionary tracking matches\n",
    "            if religion not in matches_by_religion:\n",
    "                #If not, initialise the count to zero\n",
    "                matches_by_religion[religion] = 0\n",
    "            #Increment the count of matches for the current religion\n",
    "            matches_by_religion[religion] += 1\n",
    "            #Add the current household (Street, House Number) to the set of matching households\n",
    "            matching_households.add((head_row['Street'], head_row['House Number']))\n",
    "\n",
    "    #Calculate the percentage probability for each religion\n",
    "    percentage_probabilities = {}\n",
    "    for religion, matches in matches_by_religion.items():\n",
    "        total_heads = total_heads_by_religion[religion]\n",
    "        percentage_probabilities[religion] = (matches / total_heads) * 100 if total_heads > 0 else 0\n",
    "\n",
    "    return percentage_probabilities, matching_households\n",
    "\n",
    "percentage_probabilities, matching_households = religion_inheritance_rate(df)\n",
    "\n",
    "#Print the results\n",
    "print(\"Households with Matches:\")\n",
    "for street, house_number in matching_households:\n",
    "    print(f\"Street: {street}, House Number: {house_number}\")\n",
    "\n",
    "print(\"\\nPercentage Probability of Religion Inheritance:\")\n",
    "for religion, probability in percentage_probabilities.items():\n",
    "    print(f\"Religion: {religion}, Percentage Probability: {probability:.1f}%\")"
   ]
  },
  {
   "cell_type": "markdown",
   "id": "59d74c23",
   "metadata": {},
   "source": [
    "*Predict religious affiliations of the population in 10 years*\n",
    "\n",
    "Can use the birth and death rates.\n",
    "Calculate how many people will die over the next 10 years, and how many will be born. Uses birth and death rates calculated previously (with asumptions already detailed)."
   ]
  },
  {
   "cell_type": "code",
   "execution_count": 89,
   "id": "a914043c",
   "metadata": {},
   "outputs": [
    {
     "name": "stdout",
     "output_type": "stream",
     "text": [
      "Predicted Births: 3690\n",
      "Predicted Deaths: -776\n",
      "Net Population Growth: 2914\n"
     ]
    }
   ],
   "source": [
    "#Define function to predict population in 10 yearsusing birth and death rate\n",
    "def predict_population_growth(birth_rate, death_rate, total_population, years_to_predict=10):\n",
    "    \"\"\"\n",
    "    Predict net population growth over the next specified number of years.\n",
    "\n",
    "    Parameters:\n",
    "    birth_rate (float): The birth rate per 1000 people.\n",
    "    death_rate (float): The death rate per 1000 people.\n",
    "    total_population (int): The total population.\n",
    "    years_to_predict (int): The number of years to predict (default is 10).\n",
    "\n",
    "    Returns:\n",
    "    tuple: A tuple containing predicted births, predicted deaths, and net population growth.\n",
    "    \"\"\"\n",
    "    #Convert rates to decimals\n",
    "    dec_birth_rate = birth_rate / 1000\n",
    "    dec_death_rate = death_rate / 1000\n",
    "\n",
    "    #Predict births and deaths over the next specified number of years\n",
    "    predicted_births = total_population * dec_birth_rate * years_to_predict\n",
    "    predicted_deaths = total_population * dec_death_rate * years_to_predict\n",
    "\n",
    "    #Calculate net population growth\n",
    "    net_population_growth = predicted_births + predicted_deaths\n",
    "\n",
    "    return dec_birth_rate, dec_death_rate, predicted_births, predicted_deaths, net_population_growth\n",
    "\n",
    "dec_birth_rate, dec_death_rate, predicted_births, predicted_deaths, net_population_growth = predict_population_growth(birth_rate_15_44, crude_death_rate_65_and_over, total_population)\n",
    "\n",
    "print(f\"Predicted Births: {predicted_births:.0f}\")\n",
    "print(f\"Predicted Deaths: {predicted_deaths:.0f}\")\n",
    "print(f\"Net Population Growth: {net_population_growth:.0f}\")"
   ]
  },
  {
   "cell_type": "markdown",
   "id": "a7850f98",
   "metadata": {},
   "source": [
    "This calculation predicts the number of births and deaths over the next 10 years and calculates the net population growth.\n",
    "\n",
    "These predictions are based on the assumption that the birth and death rates remain constant over the next 10 years, which may not be the case in reality. Additionally, this model does not account for other demographic factors like migration or age distribution. "
   ]
  },
  {
   "cell_type": "markdown",
   "id": "568fba0d",
   "metadata": {},
   "source": [
    "*Distribution of religions of those who will die in the next 10 years*\n",
    "\n",
    "Use predicted number of deaths and the distribution of religions. Removed Undeclared category for analysis (children under 16)."
   ]
  },
  {
   "cell_type": "code",
   "execution_count": 90,
   "id": "65c6ec1b",
   "metadata": {},
   "outputs": [
    {
     "name": "stdout",
     "output_type": "stream",
     "text": [
      "Predicted Deaths by Religion:\n",
      "None         346.8\n",
      "Christian    238.7\n",
      "Catholic     107.9\n",
      "Methodist     60.9\n",
      "Muslim        11.8\n",
      "Sikh           4.9\n",
      "Jewish         4.4\n",
      "Buddhist       0.4\n",
      "Quaker         0.1\n",
      "Pagan          0.1\n",
      "Orthodoxy      0.1\n",
      "Name: Religion, dtype: float64\n"
     ]
    },
    {
     "data": {
      "image/png": "[encoded data removed]",
      "text/plain": [
       "<Figure size 640x480 with 1 Axes>"
      ]
     },
     "metadata": {},
     "output_type": "display_data"
    }
   ],
   "source": [
    "#Function to predict deaths by religion in 10 years\n",
    "def plot_predicted_deaths_religion(data):\n",
    "    \"\"\"\n",
    "    Plot predicted deaths by religion as a bar chart.\n",
    "\n",
    "    Parameters:\n",
    "    dataframe (pd.DataFrame): Input DataFrame.\n",
    "\n",
    "    Returns:\n",
    "    fig: matplotlib.figure.Figure, the generated figure\n",
    "    \"\"\"\n",
    "    #Exclude 'Undeclared' (children aged under 16) from the data\n",
    "    filtered_data = data[data['Religion'] != 'Undeclared']\n",
    "\n",
    "    #Calculate the proportion of each religion in the filtered population\n",
    "    religion_distribution = filtered_data[filtered_data['Religion'].notnull()]['Religion'].value_counts(normalize=True)\n",
    "\n",
    "    #Predicted deaths in each religion based on the filtered distribution rounded to 1dp\n",
    "    predicted_deaths_by_religion = (predicted_deaths * religion_distribution).round(1).abs()\n",
    "\n",
    "    print(\"Predicted Deaths by Religion:\")\n",
    "    print(predicted_deaths_by_religion)\n",
    "\n",
    "    #Plot the bar chart\n",
    "    fig, ax = plt.subplots()\n",
    "    sns.barplot(x=predicted_deaths_by_religion.index, y=predicted_deaths_by_religion.values, palette='viridis', ax=ax)\n",
    "    plt.xlabel(\"Religion\")\n",
    "    plt.ylabel(\"Predicted Number of Deaths\")\n",
    "    plt.xticks(rotation=45)\n",
    "    plt.tight_layout()\n",
    "\n",
    "    plt.show()\n",
    "\n",
    "    return fig\n",
    "\n",
    "predicted_deaths_vs_religion = plot_predicted_deaths_religion(df)"
   ]
  },
  {
   "cell_type": "markdown",
   "id": "177d7696",
   "metadata": {},
   "source": [
    "This calculates the proportion of each religion in the current population (excluding NaN values and Undeclared in the 'Religion' column) and then estimates the number of deaths in each religion based on this distribution. \n",
    "\n",
    "Assumes that the distribution of religions remains constant over the next 10 years. \n",
    "\n",
    "The most deaths will occur with No religion, with Christians second."
   ]
  },
  {
   "cell_type": "markdown",
   "id": "c65a3928",
   "metadata": {},
   "source": [
    "To determine the distribution of religions of those who will reach the age of 16 or older in the next 10 years use the religion inheritance rate calculated above. However, no children under 16 have inherited their parents religion (all Undeclared), the code is supplied below using an example inheritance rate of 80."
   ]
  },
  {
   "cell_type": "code",
   "execution_count": 91,
   "id": "73345c29",
   "metadata": {},
   "outputs": [
    {
     "name": "stdout",
     "output_type": "stream",
     "text": [
      "Predicted Population of those reaching aged 16 in next 10 years by Religion:\n",
      "Undeclared    1122.88\n",
      "Name: Religion, dtype: float64\n"
     ]
    },
    {
     "data": {
      "image/png": "[encoded data removed]",
      "text/plain": [
       "<Figure size 640x480 with 1 Axes>"
      ]
     },
     "metadata": {},
     "output_type": "display_data"
    }
   ],
   "source": [
    "#Function to predict population reaching 16 and religion distribution\n",
    "def plot_predicted_population_reaching_16(data, age_range=(5, 15), growth_rate=10, religion_inheritance_rate=80):\n",
    "    \"\"\"\n",
    "    Plot predicted population reaching aged 16 or older in the next 10 years by religion.\n",
    "\n",
    "    Parameters:\n",
    "    data (pd.DataFrame): Input DataFrame.\n",
    "    age_range: tuple, age range for selecting individuals\n",
    "    growth_rate: float, assumed growth rate in percent\n",
    "    religion_inheritance_rate: float, inheritance rate for religion in percent\n",
    "\n",
    "    Returns:\n",
    "    fig: matplotlib.figure.Figure, the generated figure\n",
    "    \"\"\"\n",
    "    #Extract individuals in the specified age range\n",
    "    selected_age_range = data[(data['Age (years)'] >= age_range[0]) & (data['Age (years)'] <= age_range[1])]\n",
    "\n",
    "    #Calculate the predicted population reaching 16 or older in the next 10 years\n",
    "    predicted_population = selected_age_range.shape[0] * (1 + (growth_rate / 100))\n",
    "\n",
    "    #Calculate the proportion of each religion in the selected population\n",
    "    religion_distribution = selected_age_range[selected_age_range['Religion'].notnull()]['Religion'].value_counts(normalize=True)\n",
    "\n",
    "    #Predicted population reaching 16 or older by religion\n",
    "    predicted_population_by_religion = predicted_population * religion_distribution * (religion_inheritance_rate / 100)\n",
    "\n",
    "    print(\"Predicted Population of those reaching aged 16 in next 10 years by Religion:\")\n",
    "    print(predicted_population_by_religion)\n",
    "\n",
    "    #Plot the results using sns\n",
    "    fig, ax = plt.subplots()\n",
    "    sns.barplot(x=predicted_population_by_religion.index, y=predicted_population_by_religion, palette='viridis', ax=ax)\n",
    "    plt.xlabel(\"Religion\")\n",
    "    plt.ylabel(\"Predicted Population\")\n",
    "    plt.xticks(rotation=45)\n",
    "    plt.tight_layout()\n",
    "    \n",
    "    plt.show()\n",
    "    \n",
    "    return fig\n",
    "\n",
    "predicted_population_reaching_16 = plot_predicted_population_reaching_16(df)"
   ]
  },
  {
   "cell_type": "markdown",
   "id": "451037a2",
   "metadata": {},
   "source": [
    "*Summary of Religion*\n",
    "\n",
    "Religion inheritance cannot be predicted from the dataset and therfore cannot predict religion uptake by children over the next ten years. The most deaths by religion in the next ten years will be those with no religion, followed by Christians, Catholics and Methodist (the religions with older median age). \n",
    "\n",
    "Emerging religions for younger ages represent a small percentage of the total population (approx 2%) and a new house of worship cannot be justified. The need may change for future generations.\n",
    "\n",
    "Based on this analysis, no recommendation can be made for a new place of worship in the town."
   ]
  },
  {
   "cell_type": "markdown",
   "id": "c68a9faf",
   "metadata": {},
   "source": [
    "**Infirmity**"
   ]
  },
  {
   "cell_type": "markdown",
   "id": "7afce5e2",
   "metadata": {},
   "source": [
    "Analysis undertaken in this section:\n",
    "\n",
    "1. Percentage of total population with an infirmity\n",
    "2. Estimate percentage of the total population needing care\n",
    "3. Fraction of over-80s in the population, and how might this change 10 years from now\n",
    "4. Predict birth rate in the community 10 years from now"
   ]
  },
  {
   "cell_type": "markdown",
   "id": "cab59c50",
   "metadata": {},
   "source": [
    "Calculate the number of people with medical conditions in the community. \n",
    "\n",
    "Determine if the community is healthy overall."
   ]
  },
  {
   "cell_type": "code",
   "execution_count": 92,
   "id": "44385664",
   "metadata": {},
   "outputs": [
    {
     "name": "stdout",
     "output_type": "stream",
     "text": [
      "Percentage with infirmity: 0.7%\n"
     ]
    }
   ],
   "source": [
    "#Calculate the percentage of df with an infirmity in Infirmity series, exclude all 'None' instances\n",
    "infirmity = df[(df['Infirmity'] != 'None')]\n",
    "\n",
    "count_of_infirmity = len(infirmity)\n",
    "\n",
    "percentage_with_infirmity = (count_of_infirmity / total_population) * 100\n",
    "\n",
    "print(f\"Percentage with infirmity: {percentage_with_infirmity:.1f}%\")"
   ]
  },
  {
   "cell_type": "markdown",
   "id": "754f2366",
   "metadata": {},
   "source": [
    "Less than 1% of the population have an infirmity. Community is considered healthy."
   ]
  },
  {
   "cell_type": "markdown",
   "id": "18327ce1",
   "metadata": {},
   "source": [
    "Estimate how many older people might need care and combine this with the expected number of births. Assuming 2.5% of older population (65 and over) will need care.\n",
    "\n",
    "Proportion of population (England and Wales) living in a care home aged 65 and over was 2.5% in 2021:\n",
    "\n",
    "Office for National Statistics (2023) Older people living in care homes in 2021 and changes since 2011. Available online: https://www.ons.gov.uk/peoplepopulationandcommunity/birthsdeathsandmarriages/ageing/articles/olderpeoplelivingincarehomesin2021andchangessince2011/2023-10-09 [Accessed 08/12/2023]"
   ]
  },
  {
   "cell_type": "code",
   "execution_count": 93,
   "id": "2a66429a",
   "metadata": {},
   "outputs": [
    {
     "name": "stdout",
     "output_type": "stream",
     "text": [
      "Estimated older population needing care: 23.6\n",
      "Expected number of births: 369.0\n",
      "Combined estimate of population needing care: 392.6\n",
      "Percentage of the total population needing care: 4.7%\n"
     ]
    }
   ],
   "source": [
    "#Number of people aged over 65\n",
    "current_older_population = len(df[df['Age (years)'] >= 65])\n",
    "\n",
    "#Assuming 2.5% of the older population might need care\n",
    "percentage_needing_care = 0.025\n",
    "estimated_older_population_needing_care = current_older_population * percentage_needing_care\n",
    "\n",
    "#Using birth rate and total_population\n",
    "expected_number_of_births = total_population * dec_birth_rate\n",
    "\n",
    "#Combine estimates (lots of assumptions!)\n",
    "total_population_needing_care = estimated_older_population_needing_care + expected_number_of_births\n",
    "\n",
    "#Calculate the percentage of the total population needing care\n",
    "percentage_of_population_needing_care = (total_population_needing_care / total_population) * 100\n",
    "\n",
    "print(f\"Estimated older population needing care: {estimated_older_population_needing_care:.1f}\")\n",
    "print(f\"Expected number of births: {expected_number_of_births:.1f}\")\n",
    "print(f\"Combined estimate of population needing care: {total_population_needing_care:.1f}\")\n",
    "print(f\"Percentage of the total population needing care: {percentage_of_population_needing_care:.1f}%\")"
   ]
  },
  {
   "cell_type": "markdown",
   "id": "c25d5d36",
   "metadata": {},
   "source": [
    "The calculation assumes that 2.5% of the population aged over 65 might need care. This is a generalisation and may not accurately represent the actual percentage of the older population requiring care. The actual percentage can vary based on health conditions, socioeconomic factors, and other variables. The expected number of births is calculated using a birth rate  making a number of assumptions already discussed, and is assumed to apply uniformly to the entire population and does not account for variations in fertility rates across different age groups or demographic factors.\n",
    "\n",
    "The calculation combines the estimates of the older population needing care and the expected number of births. This assumes that these two groups are the primary contributors to the population needing care, and there are no other significant factors influencing the need for care.\n",
    "\n",
    "The calculation uses the current population for calculations. It assumes a static population size and does not account for changes in population due to migration, mortality, or other demographic factors.\n",
    "\n",
    "This calculation also does not consider complex demographic models or projections. It assumes a linear projection of the expected number of births without accounting for variations in birth rates over time."
   ]
  },
  {
   "cell_type": "markdown",
   "id": "e838dc55",
   "metadata": {},
   "source": [
    "*Fraction of over-80s in the population, and how might this to change 10 years from now*\n",
    "\n",
    "Use the current number of 70-year-olds, the death rate, and a simple growth model to estimate the fraction of 80-year-olds in the future and determine if the number will be greater than the current fraction of individuals over 80."
   ]
  },
  {
   "cell_type": "code",
   "execution_count": 94,
   "id": "f1b7d1f7",
   "metadata": {},
   "outputs": [
    {
     "name": "stdout",
     "output_type": "stream",
     "text": [
      "Current fraction of individuals over 80: 2.63%\n",
      "Current number of individuals over 80: 220\n",
      "Estimated fraction of individuals over 80 in 10 years: 3.54%\n",
      "Estimated number of individuals over 80 in 10 years: 296\n",
      "Percentage increase in over 80s in 10 years: 34.59%\n",
      "The estimated number of individuals over 80 in 10 years is greater than the current fraction.\n"
     ]
    }
   ],
   "source": [
    "#Calculate the current number and fraction of over 80 year olds\n",
    "current_number_over_80 = (df['Age (years)'] > 80).sum()\n",
    "current_fraction_over_80 = current_number_over_80 / total_population\n",
    "\n",
    "print(f\"Current fraction of individuals over 80: {current_fraction_over_80:.2%}\")\n",
    "print(f\"Current number of individuals over 80: {current_number_over_80:.0f}\")\n",
    "\n",
    "#Use dec_death_rate death rate\n",
    "#Assumes a death rate for individuals over 65 and estimates the number of 70 year olds in 10 years\n",
    "#Then estimates the number of individuals over 80 in 10 years by adding the estimated number of 70 year olds to the current number of individuals over 80\n",
    "#Estimate the number of 70 year olds in 10 years\n",
    "estimated_number_70_in_10_years = df[df['Age (years)'] == 70].shape[0] * (1 - dec_death_rate) ** 10\n",
    "\n",
    "#Estimate the number of 80 year olds in 10 years, considering mortality (using dec_death_rate again)\n",
    "estimated_number_over_80_in_10_years = current_number_over_80 * (1 - dec_death_rate) ** 10 + estimated_number_70_in_10_years\n",
    "\n",
    "#Estimate the fraction of individuals over 80 in 10 years\n",
    "estimated_fraction_over_80_in_10_years = estimated_number_over_80_in_10_years / total_population\n",
    "\n",
    "print(f\"Estimated fraction of individuals over 80 in 10 years: {estimated_fraction_over_80_in_10_years:.2%}\")\n",
    "print(f\"Estimated number of individuals over 80 in 10 years: {estimated_number_over_80_in_10_years:.0f}\")\n",
    "\n",
    "#Calculate the percentage increase\n",
    "percentage_increase_over_80_in_10_years = ((estimated_number_over_80_in_10_years - current_number_over_80) / current_number_over_80) * 100\n",
    "\n",
    "print(f\"Percentage increase in over 80s in 10 years: {percentage_increase_over_80_in_10_years:.2f}%\")\n",
    "\n",
    "#Compare with the current fraction of over 80 year olds\n",
    "if estimated_fraction_over_80_in_10_years > current_fraction_over_80:\n",
    "    print(\"The estimated number of individuals over 80 in 10 years is greater than the current fraction.\")\n",
    "else:\n",
    "    print(\"The estimated number of individuals over 80 in 10 years is not greater than the current fraction.\")"
   ]
  },
  {
   "cell_type": "markdown",
   "id": "509e311d",
   "metadata": {},
   "source": [
    "The calculation predicts the future population of individuals over 80, using calculated death rate for over 65s. It then compares the estimated future fraction with the current fraction and prints the expected change in the population over 80 in 10 years.\n",
    "\n",
    "Based on the assumptions that death rate is unchanged for all age groups and will not change over time, the number of 80 year olds is predicted to be greater in 10 years time. This also assumes that death rate declines linearly with age. It also does not account for other factors that could influence the age distribution."
   ]
  },
  {
   "cell_type": "markdown",
   "id": "d22f05b6",
   "metadata": {},
   "source": [
    "*Predict number of births in the community in ten years*\n",
    "\n",
    "It is impossible to predict based on the data what the birth rate will be in 10 years time. Lack of historical data means that meaningful predictions cannot be made.\n",
    "\n",
    "The birth rate calculations are based on number of 0 year old children as a proportion or total of population. Any calculation assumes a constant crude birth rate over the next 10 years- very simplistic!\n",
    "\n",
    "88 newborns are born in the census year. Multiplying by 10 (for ten years) gives 880 estimated births over ten years."
   ]
  },
  {
   "cell_type": "code",
   "execution_count": 95,
   "id": "7ea55e13",
   "metadata": {},
   "outputs": [
    {
     "name": "stdout",
     "output_type": "stream",
     "text": [
      "Estimated number of births over 10 years based on crude birth rate: 880\n"
     ]
    }
   ],
   "source": [
    "#Calculate the estimated number of births over 10 years using crude birth rate\n",
    "estimated_births_in_10_years = (crude_birth_rate / 1000) * total_population * 10\n",
    "print(f\"Estimated number of births over 10 years based on crude birth rate: {estimated_births_in_10_years:.0f}\")"
   ]
  },
  {
   "cell_type": "markdown",
   "id": "32e88b6a",
   "metadata": {},
   "source": [
    "Several assumptions are being made in this analysis:\n",
    "\n",
    "The analysis assumes that the birth rates  will remain constant over the next 10 years. In reality, birth rates can change due to various factors, such as economic conditions, social trends and unexpected events (like pandemics!). The analysis also assumes that the overall population size remains relatively stable over the next 10 years. This means that factors like immigration, emigration, and significant changes in mortality rates are not considered. The calculation is also based on a linear projection, assuming a constant rate of change. This may not accurately reflect real-world scenarios where birth rates can fluctuate."
   ]
  },
  {
   "cell_type": "markdown",
   "id": "1dbcc3bf",
   "metadata": {},
   "source": [
    "*Summary of infirmity and health*\n",
    "\n",
    "Less than 1% of the population have an infirmity. Community is considered healthy."
   ]
  },
  {
   "cell_type": "markdown",
   "id": "1a4d3974",
   "metadata": {},
   "source": [
    "**Summary of findings**\n",
    "\n",
    "A growing population (birth rate is greater than death rate, positive net migration, increasingly ageing population) coupled with over-occupancy, indicates that more housing may be required.\n",
    "\n",
    "There is a positive net migration contributing to the population of the town. Family households are accommodating the majority of immigrants (lodgers and visitors). Family households with unmarried parents represent 25% of families with immigrants staying with them. These families may be doing so to avoid downsizing. Unable to determine if immigrants are making a permanent move to the town.\n",
    "\n",
    "High-density housing may be indicated to accommodate immigrants, families wishing to downsize, divorced people with or without children, and older people in an increasingly aging population. \n",
    "\n",
    "Due to the high number of commuters, a train station is also indicated. This could further add to housing pressures/over-occupancy by attracting more immigrants due to improved transport links.\n",
    "\n",
    "In the future, a train station may be worth investing in, but housing will potentially benefit more of the population as opposed to the employed population alone.\n",
    "\n",
    "The unemployment rate is slightly higher than the national statistics. A greater number of people in middle-age are unemployed. By gender, male unemployment equals the national unemployment rate. More females are unemployed, potentially due to caregiving responsiblities. There is no significant difference between salary for males and females. The large number of commuters suggests that the larger cities provide employment opportunity. A train station may increase the employment rate by improving accessibility to employment opportunities. Investment in employment and training isn't indicated.\n",
    "\n",
    "There is a lower number of 0-4 year olds in the population compared to school-age children, and no predicted increase in future birth rate, indicating that investment in school spending is not required, assuming existing provision is adequate.\n",
    "\n",
    "Birth rate is lower than the national statistic. However, birth rate exceeds the death rate with population growth indicated. Future birth rate trends cannot be reliably predicted from the data. Evolving birth rate indicates a potential decline in birth rate. Assuming that the current maternity facilities in the town are adequate, need for additional maternity services are not indicated.\n",
    "\n",
    "There is evidence for increasing numbers of retired and people over aged 80 in the future, and an increasingly aging population is indicated. Coupled with the relatively good affluency of the town, life expectancy may increase. Less than 1% of the population have an infirmity and the population is considered healthy, but this may change with increasing life expectancy. As a result, the town may need to allocate more funding for end of life care.\n",
    "\n",
    "Emerging religions for younger ages represent a small percentage of the total population (approx 2%) and a new house of worship cannot be justified. The need may change for future generations. Could not determine religion inheritance from the data, therefore can not draw any conclusion about the future requirement of a house of worship for emerging or more popular religions with older median ages.\n",
    "\n",
    "Increased housing will require investment in council services to develop and maintain infrastructure. Although a train station could be a good addition to the town in the future, in the meantime, road maintenance is important for the significant number of commuters in the town that may only increase if more immigrants are attracted to the area due to town expansion."
   ]
  },
  {
   "cell_type": "code",
   "execution_count": 96,
   "id": "2c9ae5bf",
   "metadata": {},
   "outputs": [
    {
     "data": {
      "text/plain": [
       "{'./age_count.png': <Figure size 640x480 with 1 Axes>,\n",
       " './male_age_count.png': <Figure size 640x480 with 1 Axes>,\n",
       " './female_age_count.png': <Figure size 640x480 with 1 Axes>,\n",
       " './pyramid_male_female.png': <Figure size 800x600 with 1 Axes>,\n",
       " './salary_distribution.png': <Figure size 640x480 with 1 Axes>,\n",
       " './salary_category_vs_age.png': <Figure size 800x800 with 1 Axes>,\n",
       " './occupation_category_distribution.png': <Figure size 640x480 with 1 Axes>,\n",
       " './age_vs_unemployed_gender.png': <Figure size 640x480 with 1 Axes>,\n",
       " './marital_status_distribution.png': <Figure size 640x480 with 1 Axes>,\n",
       " './age_vs_marital_status.png': <Figure size 800x800 with 1 Axes>,\n",
       " './divorced_vs_gender.png': <Figure size 640x480 with 1 Axes>,\n",
       " './occupancy_distribution.png': <Figure size 640x480 with 1 Axes>,\n",
       " './marital_status_age_occupancy.png': <Figure size 1000x1000 with 4 Axes>,\n",
       " './occupancy_category_distribution_median_town.png': <Figure size 640x480 with 1 Axes>,\n",
       " './religion_distribution.png': <Figure size 640x480 with 1 Axes>,\n",
       " './age_range_by_religion.png': <Figure size 1200x800 with 1 Axes>,\n",
       " './predicted_deaths_vs_religion.png': <Figure size 640x480 with 1 Axes>}"
      ]
     },
     "execution_count": 96,
     "metadata": {},
     "output_type": "execute_result"
    }
   ],
   "source": [
    "#Create dict of all the plots created in this notebook for use in report\n",
    "figures_to_save = {}\n",
    "\n",
    "figures_to_save[\"./age_count.png\"] = age_count\n",
    "figures_to_save[\"./male_age_count.png\"] = male_age\n",
    "figures_to_save[\"./female_age_count.png\"] = female_age\n",
    "#figures_to_save[\"./pyramid_age_group.png\"] = pyramid_age_group\n",
    "figures_to_save[\"./pyramid_male_female.png\"] = pyramid_male_female\n",
    "figures_to_save[\"./salary_distribution.png\"] = salary_distribution\n",
    "figures_to_save[\"./salary_category_vs_age.png\"] = salary_category_vs_age\n",
    "figures_to_save[\"./occupation_category_distribution.png\"] = occupation_category_distribution\n",
    "figures_to_save[\"./age_vs_unemployed_gender.png\"] = age_vs_unemployed_gender\n",
    "figures_to_save[\"./marital_status_distribution.png\"] = marital_status_distribution\n",
    "figures_to_save[\"./age_vs_marital_status.png\"] = age_vs_marital_status\n",
    "figures_to_save[\"./divorced_vs_gender.png\"] = divorced_vs_gender\n",
    "figures_to_save[\"./occupancy_distribution.png\"] = occupancy_distribution\n",
    "figures_to_save[\"./marital_status_age_occupancy.png\"] = marital_status_age_occupancy \n",
    "figures_to_save[\"./occupancy_category_distribution_median_town.png\"] = occupancy_category_distribution_median_town\n",
    "figures_to_save[\"./religion_distribution.png\"] = religion_distribution\n",
    "figures_to_save[\"./age_range_by_religion.png\"] = age_range_by_religion\n",
    "figures_to_save[\"./predicted_deaths_vs_religion.png\"] = predicted_deaths_vs_religion\n",
    "\n",
    "figures_to_save"
   ]
  },
  {
   "cell_type": "code",
   "execution_count": 97,
   "id": "9e0bf7c5",
   "metadata": {},
   "outputs": [],
   "source": [
    "#Function to save figures in any dictionary\n",
    "def save_figures(fig_dict):\n",
    "    \"\"\"\n",
    "    Save figures from the provided dictionary.\n",
    "\n",
    "    Parameters:\n",
    "    fig_dict (dict): Dictionary where keys are filenames and values are figure objects.\n",
    "\n",
    "    Returns:\n",
    "    None\n",
    "    \"\"\"\n",
    "    for filename, figure in fig_dict.items():\n",
    "        figure.savefig(filename)\n",
    "\n",
    "save_figures(figures_to_save)"
   ]
  },
  {
   "cell_type": "code",
   "execution_count": null,
   "id": "c776e48d",
   "metadata": {},
   "outputs": [],
   "source": []
  }
 ],
 "metadata": {
  "kernelspec": {
   "display_name": "Python 3 (ipykernel)",
   "language": "python",
   "name": "python3"
  },
  "language_info": {
   "codemirror_mode": {
    "name": "ipython",
    "version": 3
   },
   "file_extension": ".py",
   "mimetype": "text/x-python",
   "name": "python",
   "nbconvert_exporter": "python",
   "pygments_lexer": "ipython3",
   "version": "3.11.3"
  }
 },
 "nbformat": 4,
 "nbformat_minor": 5
}
