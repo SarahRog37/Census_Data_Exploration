{
 "cells": [
  {
   "cell_type": "markdown",
   "id": "5cf7f8bd",
   "metadata": {},
   "source": [
    "Environment versions:\n",
    "Matplotlib 3.7.1\n",
    "Numpy 1.23.5\n",
    "Pandas 1.5.3\n",
    "Python 3.11.3\n",
    "Seaborn 0.12.2\n",
    "Fuzzywuzzy 0.18.0\n",
    "\n",
    "Cleaning performed 03/12/2023, 9.30am."
   ]
  },
  {
   "cell_type": "code",
   "execution_count": 2,
   "id": "5e1661bb",
   "metadata": {},
   "outputs": [],
   "source": [
    "import pandas as pd\n",
    "import numpy as np\n",
    "from ydata_profiling import ProfileReport\n",
    "import seaborn as sns\n",
    "import matplotlib.pyplot as plt\n",
    "from fuzzywuzzy import fuzz\n",
    "from fuzzywuzzy import process\n",
    "%matplotlib inline"
   ]
  },
  {
   "cell_type": "code",
   "execution_count": 2,
   "id": "5aac5c65",
   "metadata": {},
   "outputs": [
    {
     "name": "stdout",
     "output_type": "stream",
     "text": [
      "<class 'pandas.core.frame.DataFrame'>\n",
      "RangeIndex: 8377 entries, 0 to 8376\n",
      "Data columns (total 11 columns):\n",
      " #   Column                         Non-Null Count  Dtype \n",
      "---  ------                         --------------  ----- \n",
      " 0   House Number                   8377 non-null   int64 \n",
      " 1   Street                         8377 non-null   object\n",
      " 2   First Name                     8377 non-null   object\n",
      " 3   Surname                        8377 non-null   object\n",
      " 4   Age                            8377 non-null   object\n",
      " 5   Relationship to Head of House  8377 non-null   object\n",
      " 6   Marital Status                 6402 non-null   object\n",
      " 7   Gender                         8377 non-null   object\n",
      " 8   Occupation                     8377 non-null   object\n",
      " 9   Infirmity                      8377 non-null   object\n",
      " 10  Religion                       6365 non-null   object\n",
      "dtypes: int64(1), object(10)\n",
      "memory usage: 720.0+ KB\n"
     ]
    }
   ],
   "source": [
    "df = pd.read_csv('census11.csv')\n",
    "df.info()"
   ]
  },
  {
   "cell_type": "code",
   "execution_count": 3,
   "id": "9cc277de",
   "metadata": {},
   "outputs": [
    {
     "data": {
      "text/plain": [
       "House Number                        0\n",
       "Street                              0\n",
       "First Name                          0\n",
       "Surname                             0\n",
       "Age                                 0\n",
       "Relationship to Head of House       0\n",
       "Marital Status                   1975\n",
       "Gender                              0\n",
       "Occupation                          0\n",
       "Infirmity                           0\n",
       "Religion                         2012\n",
       "dtype: int64"
      ]
     },
     "execution_count": 3,
     "metadata": {},
     "output_type": "execute_result"
    }
   ],
   "source": [
    "#.isna() command tells us which entries are nulls. The sum command on the end adds them all up\n",
    "df.isna().sum()\n",
    "#Marital status and Religion have null values"
   ]
  },
  {
   "cell_type": "markdown",
   "id": "89090cb7",
   "metadata": {},
   "source": [
    "Citation for ydata_profiling: \n",
    "\n",
    "(n. d.) YData profiling. Available online: https://docs.profiling.ydata.ai/4.6/ [Accessed 26/11/2023]."
   ]
  },
  {
   "cell_type": "code",
   "execution_count": 4,
   "id": "bd0d824d",
   "metadata": {},
   "outputs": [
    {
     "data": {
      "application/vnd.jupyter.widget-view+json": {
       "model_id": "6448083880794a99989a00b902036859",
       "version_major": 2,
       "version_minor": 0
      },
      "text/plain": [
       "Summarize dataset:   0%|          | 0/5 [00:00<?, ?it/s]"
      ]
     },
     "metadata": {},
     "output_type": "display_data"
    },
    {
     "data": {
      "application/vnd.jupyter.widget-view+json": {
       "model_id": "411d72e31e434ef5a5b4c49fd4aeafa5",
       "version_major": 2,
       "version_minor": 0
      },
      "text/plain": [
       "Generate report structure:   0%|          | 0/1 [00:00<?, ?it/s]"
      ]
     },
     "metadata": {},
     "output_type": "display_data"
    },
    {
     "data": {
      "application/vnd.jupyter.widget-view+json": {
       "model_id": "aab032e8558e4033b98925205aa46223",
       "version_major": 2,
       "version_minor": 0
      },
      "text/plain": [
       "Render HTML:   0%|          | 0/1 [00:00<?, ?it/s]"
      ]
     },
     "metadata": {},
     "output_type": "display_data"
    },
    {
     "data": {
      "application/vnd.jupyter.widget-view+json": {
       "model_id": "be6fd90b3b7947879daa636838d5e0c2",
       "version_major": 2,
       "version_minor": 0
      },
      "text/plain": [
       "Export report to file:   0%|          | 0/1 [00:00<?, ?it/s]"
      ]
     },
     "metadata": {},
     "output_type": "display_data"
    }
   ],
   "source": [
    "#Using EDA package Pandas profiling to generate report to take a closer look at the data\n",
    "#from ydata_profiling import ProfileReport\n",
    "profile_report = ProfileReport(df, title=\"Census Report\")\n",
    "#Save report to html\n",
    "profile_report.to_file(\"Census Report.html\")"
   ]
  },
  {
   "cell_type": "markdown",
   "id": "c51fae55",
   "metadata": {},
   "source": [
    "#Can also use EDA package Sweetviz to generate report \n",
    "#import sweetviz as sv\n",
    "report_sv = sv.analyze(df)\n",
    "report_sv.show_html()"
   ]
  },
  {
   "cell_type": "markdown",
   "id": "4de8fa3a",
   "metadata": {},
   "source": [
    "See corresponding notes for cleaning of each series in df."
   ]
  },
  {
   "cell_type": "markdown",
   "id": "a4ee4f33",
   "metadata": {},
   "source": [
    "For all series with object data type (except house number (int)) firstly going to strip whitespaces from string data"
   ]
  },
  {
   "cell_type": "code",
   "execution_count": 5,
   "id": "21474459",
   "metadata": {},
   "outputs": [],
   "source": [
    "#Select only object columns/series\n",
    "object_columns = df.select_dtypes(include='object').columns\n",
    "\n",
    "#Strip whitespaces from non-empty strings in all object columns/series\n",
    "#Using a lambda function for this\n",
    "df[object_columns] = df[object_columns].applymap(lambda x: x.strip() if isinstance(x, str) and x.strip() != '' else x)"
   ]
  },
  {
   "cell_type": "markdown",
   "id": "6270d4d3",
   "metadata": {},
   "source": [
    "**Age**"
   ]
  },
  {
   "cell_type": "code",
   "execution_count": 6,
   "id": "a3cc560b",
   "metadata": {},
   "outputs": [],
   "source": [
    "#Rename Age series to Age (years) to include units\n",
    "df.rename(columns={'Age': 'Age (years)'}, inplace=True)"
   ]
  },
  {
   "cell_type": "markdown",
   "id": "2da9b603",
   "metadata": {},
   "source": [
    "Citation for age of oldest person: \n",
    "\n",
    "BBC Science Focus (2023) Who is the oldest person in the world in 2023? Available online: https://www.sciencefocus.com/the-human-body/oldest-person-in-the-world [Accessed 26/11/2023].\n",
    "\n",
    "Oldest person was 122 years old when they died."
   ]
  },
  {
   "cell_type": "code",
   "execution_count": 7,
   "id": "bcdf5347",
   "metadata": {},
   "outputs": [
    {
     "data": {
      "text/plain": [
       "array(['41', '11', '7', '40', '35', '19', '17', '60', '62', '30', '42',\n",
       "       '46', '4', '78', '81', '43', '44', '24', '57', '53', '32', '12',\n",
       "       '9', '85', '58', '59', '26', '90', '97', '63', '18', '15', '10',\n",
       "       '47', '16', '13', '36', '6', '2', '1', '25', '56', '38', '21',\n",
       "       '31', '74', '67', '65', '71', '79', '45', '61', '72', '54', '33',\n",
       "       '34', '23', '28', '29', '91', '64', '80', '76', '49', '73', '50',\n",
       "       '84', '75', '48', '14', '51', '22', '66', '20', '77', '0', '27',\n",
       "       '86', '68', '5', '83', '55', '69', '70', '39', '82', '88', '37',\n",
       "       '52', '8', '3', '87', '105', '95', '96', '89', '92', '93', '99',\n",
       "       '101', '98', '116', '112', '94', '59.782817341882584', '9.0',\n",
       "       '102', '103', ' ', '100', '104', '106', '59.841399743989754',\n",
       "       '63.841399743989754', '107', '75.27548655560247',\n",
       "       '21.999999999999993', '17.999999999999993'], dtype=object)"
      ]
     },
     "execution_count": 7,
     "metadata": {},
     "output_type": "execute_result"
    }
   ],
   "source": [
    "#Give the unique entries for Age series\n",
    "df['Age (years)'].unique()\n",
    "#There are floats, and the series is object. Needs converting to integer.\n",
    "#Empty strings also\n",
    "#No negative values and no-one over 122 years old (oldest is 116)\n",
    "#There are 10 instances of input =>100"
   ]
  },
  {
   "cell_type": "code",
   "execution_count": 8,
   "id": "6af29175",
   "metadata": {},
   "outputs": [
    {
     "data": {
      "text/plain": [
       "1"
      ]
     },
     "execution_count": 8,
     "metadata": {},
     "output_type": "execute_result"
    }
   ],
   "source": [
    "#Print number of empty strings\n",
    "(df['Age (years)'] == ' ').sum()"
   ]
  },
  {
   "cell_type": "code",
   "execution_count": 9,
   "id": "b5d4ec7e",
   "metadata": {},
   "outputs": [
    {
     "name": "stdout",
     "output_type": "stream",
     "text": [
      "36.0\n",
      "int64\n"
     ]
    },
    {
     "data": {
      "text/plain": [
       "array([ 41,  11,   7,  40,  35,  19,  17,  60,  62,  30,  42,  46,   4,\n",
       "        78,  81,  43,  44,  24,  57,  53,  32,  12,   9,  85,  58,  59,\n",
       "        26,  90,  97,  63,  18,  15,  10,  47,  16,  13,  36,   6,   2,\n",
       "         1,  25,  56,  38,  21,  31,  74,  67,  65,  71,  79,  45,  61,\n",
       "        72,  54,  33,  34,  23,  28,  29,  91,  64,  80,  76,  49,  73,\n",
       "        50,  84,  75,  48,  14,  51,  22,  66,  20,  77,   0,  27,  86,\n",
       "        68,   5,  83,  55,  69,  70,  39,  82,  88,  37,  52,   8,   3,\n",
       "        87, 105,  95,  96,  89,  92,  93,  99, 101,  98, 116, 112,  94,\n",
       "       102, 103, 100, 104, 106, 107], dtype=int64)"
      ]
     },
     "execution_count": 9,
     "metadata": {},
     "output_type": "execute_result"
    }
   ],
   "source": [
    "#First deal with empty string converting to NaN\n",
    "#Use .to_numeric() with coerce errors\n",
    "df['Age (years)'] = pd.to_numeric(df['Age (years)'], errors='coerce')\n",
    "\n",
    "#Calculate the median age\n",
    "median_age = df['Age (years)'].median()\n",
    "print(median_age)\n",
    "\n",
    "#Replace NaN values with the median age\n",
    "df['Age (years)'].fillna(median_age, inplace=True)\n",
    "\n",
    "#Convert floats to integers\n",
    "df['Age (years)'] = df['Age (years)'].astype(np.int64)\n",
    "print(df['Age (years)'].dtype)\n",
    "#Coverted to int64 using 'np.int64' explicitly in the astype method\n",
    "#Did this for consistency as other int series are int64\n",
    "\n",
    "df['Age (years)'].unique()"
   ]
  },
  {
   "cell_type": "code",
   "execution_count": 10,
   "id": "15ff632d",
   "metadata": {},
   "outputs": [
    {
     "name": "stdout",
     "output_type": "stream",
     "text": [
      "      House Number         Street First Name          Surname  Age (years)  \\\n",
      "2270            13  Davies Avenue    Annette         Thompson          116   \n",
      "2271            13  Davies Avenue     Mathew         Thompson          112   \n",
      "2272            13  Davies Avenue       Ross         Thompson           94   \n",
      "2273            13  Davies Avenue   Ashleigh         Thompson           91   \n",
      "2274            13  Davies Avenue       Liam         Thompson           88   \n",
      "2275            13  Davies Avenue      Debra         Thompson           84   \n",
      "2276            13  Davies Avenue    Stephen         Thompson           81   \n",
      "2277            13  Davies Avenue   Victoria         Thompson           80   \n",
      "2278            13  Davies Avenue    Leonard         Thompson           76   \n",
      "2279            13  Davies Avenue      Alice         Thompson           75   \n",
      "2280            13  Davies Avenue       Tina         Thompson           74   \n",
      "2281            13  Davies Avenue      Shane         Thompson           71   \n",
      "2282            13  Davies Avenue     Elaine         Thompson           69   \n",
      "2283            13  Davies Avenue      Ricky         Thompson           63   \n",
      "2284            13  Davies Avenue    Shirley         Thompson           60   \n",
      "2285            13  Davies Avenue  Catherine         Thompson           58   \n",
      "2286            13  Davies Avenue      Lewis         Thompson           55   \n",
      "2287            13  Davies Avenue     Tracey  Talbot-Thompson           54   \n",
      "2288            13  Davies Avenue       Dale  Talbot-Thompson           53   \n",
      "2289            13  Davies Avenue   Kayleigh  Talbot-Thompson           48   \n",
      "2290            13  Davies Avenue      Kevin  Talbot-Thompson           45   \n",
      "\n",
      "     Relationship to Head of House Marital Status  Gender  \\\n",
      "2270                          Head        Married  Female   \n",
      "2271                       Husband        Married    Male   \n",
      "2272                           Son        Widowed    Male   \n",
      "2273                      Daughter        Widowed  Female   \n",
      "2274                           Son        Widowed    Male   \n",
      "2275                      Daughter        Widowed  Female   \n",
      "2276                           Son        Widowed    Male   \n",
      "2277                      Daughter        Widowed  Female   \n",
      "2278                           Son         Single    Male   \n",
      "2279                      Daughter       Divorced  Female   \n",
      "2280                      Daughter       Divorced  Female   \n",
      "2281                           Son        Widowed    Male   \n",
      "2282                      Daughter        Widowed  Female   \n",
      "2283                           Son         Single    Male   \n",
      "2284                      Daughter         Single  Female   \n",
      "2285                      Daughter         Single  Female   \n",
      "2286                           Son         Single    Male   \n",
      "2287                      Daughter         Single  Female   \n",
      "2288                           Son         Single    Male   \n",
      "2289                      Daughter        Widowed  Female   \n",
      "2290                           Son       Divorced    Male   \n",
      "\n",
      "                                             Occupation Infirmity   Religion  \n",
      "2270               Retired Fast food restaurant manager      None  Christian  \n",
      "2271                               Retired Chiropractor      None  Christian  \n",
      "2272                        Retired Immigration officer      None   Catholic  \n",
      "2273       Retired International aid/development worker      None  Christian  \n",
      "2274                        Retired Administrator, arts      None  Christian  \n",
      "2275                          Retired Film/video editor      None  Christian  \n",
      "2276                      Retired Pharmacist, community      None       None  \n",
      "2277                    Retired Chief Marketing Officer      None  Christian  \n",
      "2278                    Retired Therapist, occupational      None  Christian  \n",
      "2279                               Retired Estate agent      None  Christian  \n",
      "2280                    Retired Therapist, occupational      None       None  \n",
      "2281                 Retired Designer, ceramics/pottery      None  Christian  \n",
      "2282  Retired Scientist, clinical (histocompatibilit...      None  Christian  \n",
      "2283                                     Therapist, art      None  Christian  \n",
      "2284                        Engineer, building services      None  Christian  \n",
      "2285                            Clinical cytogeneticist      None  Christian  \n",
      "2286                                Mental health nurse      None  Christian  \n",
      "2287                             Special effects artist      None  Christian  \n",
      "2288                             Amenity horticulturist      None       None  \n",
      "2289                           Engineer, communications      None  Christian  \n",
      "2290                                        Hydrologist      None       None  \n"
     ]
    }
   ],
   "source": [
    "#Just sense checking 116 year old person\n",
    "#Has husband that is 112 years old and lots of sons and daughters!\n",
    "df[df['Age (years)'] == 116]\n",
    "matching_records = df[(df['House Number'] == 13) & (df['Street'] == 'Davies Avenue')]\n",
    "print(matching_records)"
   ]
  },
  {
   "cell_type": "markdown",
   "id": "7bdc954e",
   "metadata": {},
   "source": [
    "Citation for Marriage and Civil Partnership (Minimum Age) Act 2022: \n",
    "\n",
    "GOV.UK (n. d.) Marriage and civil partnership (minimum age) act 2022. Available online: https://www.legislation.gov.uk/ukpga/2022/28/enacted [Accessed 26/11/2023].\n",
    "\n",
    "States that it is illegal for anyone under 18 to get married, even with parental consent.\n",
    "Legislation in place from 27 February 2023.\n",
    "\n",
    "Citation for Marriage Act, 1949:s3: \n",
    "\n",
    "GOV.UK (n. d.) Marriage act 1949. Available online: https://www.legislation.gov.uk/ukpga/Geo6/12-13-14/76/section/3 [Accessed 26/11/2023].\n",
    "\n",
    "Legal to marry at 16 with parental consent. Legislation in place until Marriage and Civil Partnership (Minimum Age) Act 2022 brought in.\n",
    "\n",
    "Citation for children moving out before 18:\n",
    "\n",
    "NSPCC (2023) Moving out. Available online: https://www.nspcc.org.uk/keeping-children-safe/in-the-home/moving-out/ [Accessed 26/11/2023].\n",
    "\n",
    "For those under 18 who do not live with another over 18 in the household, it is legal to move out of a family home before 18 (but parents still responsible for wellbeing until 18)."
   ]
  },
  {
   "cell_type": "code",
   "execution_count": 11,
   "id": "70eab192",
   "metadata": {},
   "outputs": [
    {
     "name": "stdout",
     "output_type": "stream",
     "text": [
      "      House Number                Street First Name Surname  Age (years)  \\\n",
      "4171            31           Chan Estate    Abigail   Begum           17   \n",
      "4919            11        Arrows Mission    Valerie   Smith           15   \n",
      "7508            14  Daffodilhatch Street      Chloe   Lewis           16   \n",
      "7637            11     Aethelred Heights      Fiona  Gordon           17   \n",
      "\n",
      "     Relationship to Head of House Marital Status  Gender  Occupation  \\\n",
      "4171                          Head        Married  Female     Student   \n",
      "4919                          Head        Married  Female     Student   \n",
      "7508                          Head       Divorced  Female  Unemployed   \n",
      "7637                          Head         Single  Female     Student   \n",
      "\n",
      "     Infirmity Religion  \n",
      "4171      None      NaN  \n",
      "4919      None      NaN  \n",
      "7508      None      NaN  \n",
      "7637      None      NaN  \n",
      "      House Number          Street First Name  Surname  Age (years)  \\\n",
      "4919            11  Arrows Mission    Valerie    Smith           15   \n",
      "4920            11  Arrows Mission     Justin    Smith           19   \n",
      "4921            11  Arrows Mission       Jade  Jackson           28   \n",
      "\n",
      "     Relationship to Head of House Marital Status  Gender  \\\n",
      "4919                          Head        Married  Female   \n",
      "4920                       Husband        Married    Male   \n",
      "4921                        Lodger         Single  Female   \n",
      "\n",
      "                        Occupation Infirmity Religion  \n",
      "4919                       Student      None      NaN  \n",
      "4920            University Student      None      NaN  \n",
      "4921  Community development worker      None     None  \n",
      "      House Number             Street First Name Surname  Age (years)  \\\n",
      "7637            11  Aethelred Heights      Fiona  Gordon           17   \n",
      "7638            11  Aethelred Heights      Simon   Price           22   \n",
      "7639            11  Aethelred Heights    Harriet  Gordon            0   \n",
      "7640            11  Aethelred Heights     Kieran  Taylor           28   \n",
      "\n",
      "     Relationship to Head of House Marital Status  Gender  \\\n",
      "7637                          Head         Single  Female   \n",
      "7638                       Partner         Single    Male   \n",
      "7639                      Daughter            NaN  Female   \n",
      "7640                       Visitor        Widowed    Male   \n",
      "\n",
      "                      Occupation Infirmity Religion  \n",
      "7637                     Student      None      NaN  \n",
      "7638          University Student      None      NaN  \n",
      "7639                       Child      None      NaN  \n",
      "7640  Architectural technologist      None     None  \n",
      "      House Number       Street First Name Surname  Age (years)  \\\n",
      "4171            31  Chan Estate    Abigail   Begum           17   \n",
      "4172            31  Chan Estate     Daniel   Begum           19   \n",
      "4173            31  Chan Estate    Elliott   Begum            0   \n",
      "4174            31  Chan Estate    Douglas   Mills           50   \n",
      "\n",
      "     Relationship to Head of House Marital Status  Gender          Occupation  \\\n",
      "4171                          Head        Married  Female             Student   \n",
      "4172                       Husband        Married    Male  University Student   \n",
      "4173                           Son            NaN    Male               Child   \n",
      "4174                        Cousin         Single    Male   Financial adviser   \n",
      "\n",
      "     Infirmity  Religion  \n",
      "4171      None       NaN  \n",
      "4172      None      None  \n",
      "4173      None       NaN  \n",
      "4174      None  Catholic  \n",
      "      House Number                Street First Name Surname  Age (years)  \\\n",
      "7508            14  Daffodilhatch Street      Chloe   Lewis           16   \n",
      "7509            14  Daffodilhatch Street      Fiona   Lewis            0   \n",
      "\n",
      "     Relationship to Head of House Marital Status  Gender  Occupation  \\\n",
      "7508                          Head       Divorced  Female  Unemployed   \n",
      "7509                      Daughter            NaN  Female       Child   \n",
      "\n",
      "     Infirmity Religion  \n",
      "7508      None      NaN  \n",
      "7509      None      NaN  \n"
     ]
    }
   ],
   "source": [
    "#I can look for underage parents by filtering by age (under 18) and looking for those that are Head of household\n",
    "#Filter for people who are also the head of the household aged under 18\n",
    "under18_head_of_household = df[(df['Age (years)']< 18) &\n",
    "                                ((df['Gender'] == 'Male') | (df['Gender'] == 'Female')) &\n",
    "                                (df['Relationship to Head of House'] == 'Head')]\n",
    "\n",
    "print(under18_head_of_household)\n",
    "\n",
    "#For record 4919, aged 15 they have Married status- not legal- so removing this household from the dataset completely (small impact)\n",
    "#Valerie Smith does not have children' but lives with a lodger and husband both over 18\n",
    "print(df[(df['House Number'] == 11) & (df['Street'] == 'Arrows Mission')])\n",
    "\n",
    "#Record 7637, Fiona Gordan\n",
    "print(df[(df['House Number'] == 11) & (df['Street'] == 'Aethelred Heights')])\n",
    "#Has a child (aged 0), unmarried and lives with partner and visitor, both over 18\n",
    "\n",
    "#Record 4171, Abigail Begum\n",
    "print(df[(df['House Number'] == 31) & (df['Street'] == 'Chan Estate')])\n",
    "#Married at age 17, which under new legislation is against the law\n",
    "#Can't determine whether she got married before 27 February 2023, when it was legal to marry at 16 or 17 with parental consent (Marriage Act, 1949:s3)\n",
    "#Has a child (aged 0), lives with husband and cousin, both over 18\n",
    "#Removing this household from the dataset completely (small impact)\n",
    "\n",
    "#Record 7508, Chloe Lewis\n",
    "print(df[(df['House Number'] == 14) & (df['Street'] == 'Daffodilhatch Street')])\n",
    "#For record 7508 already divorced!\n",
    "#7508 is 16 and has a child aged 0- underage parent, doesn't live with anyone else over 18.\n",
    "#For those under 18 who do not live with another over 18 in the household, it is legal to move out of a family home before 18 (https://www.nspcc.org.uk/keeping-children-safe/in-the-home/moving-out/)."
   ]
  },
  {
   "cell_type": "markdown",
   "id": "0c0ed6ab",
   "metadata": {},
   "source": [
    "Removes seven records and is not deemed significant to the overall analysis."
   ]
  },
  {
   "cell_type": "code",
   "execution_count": 12,
   "id": "662d4227",
   "metadata": {},
   "outputs": [],
   "source": [
    "#Remove the 3 records at 11 Arrow Mission (4919, 4920 and 4921) (Valerie Smith Household, underage marriage)\n",
    "df = df[~((df['House Number'] == 11) & (df['Street'] == 'Arrows Mission'))]"
   ]
  },
  {
   "cell_type": "code",
   "execution_count": 13,
   "id": "156a09ff",
   "metadata": {},
   "outputs": [],
   "source": [
    "#Remove the 4 records at 31 Chan Estate (4171-4714) (Abigail Begum, underage marriage (no longer legal with parental consent under 18))\n",
    "df = df[~((df['House Number'] == 31) & (df['Street'] == 'Chan Estate'))]"
   ]
  },
  {
   "cell_type": "code",
   "execution_count": 14,
   "id": "86ee13d1",
   "metadata": {},
   "outputs": [],
   "source": [
    "#Group ages by age ranges (5 year intervals)\n",
    "#Define the age bins and labels (ranges)\n",
    "age_bins = [0, 5, 10, 15, 20, 25, 30, 35, 40, 45, 50, 55, 60, 65, 70, 75, 80, 85, 90, 95, 100, 105, 110, 115, 120]\n",
    "age_labels = ['0-4', '5-9', '10-14', '15-19', '20-24', '25-29', '30-34', '35-39', '40-44', '45-49', '50-54', '55-59', '60-64', '65-69', '70-74', '75-79', '80-84', '85-89', '90-94', '95-99', '100-104', '105-109', '110-114', '115-119']\n",
    "\n",
    "#Create a new column in df to assign age groups\n",
    "df['Age Group'] = pd.cut(df['Age (years)'], bins=age_bins, labels=age_labels, right=False, include_lowest=True)"
   ]
  },
  {
   "cell_type": "code",
   "execution_count": 15,
   "id": "8147841b",
   "metadata": {},
   "outputs": [
    {
     "name": "stdout",
     "output_type": "stream",
     "text": [
      "Empty DataFrame\n",
      "Columns: [House Number, Street, First Name, Surname, Age (years), Relationship to Head of House, Marital Status, Gender, Occupation, Infirmity, Religion, Age Group]\n",
      "Index: []\n"
     ]
    }
   ],
   "source": [
    "#Checking for uncategorised ages in df\n",
    "missing_age_groups = df[df['Age Group'].isna()]\n",
    "print(missing_age_groups)"
   ]
  },
  {
   "cell_type": "code",
   "execution_count": 16,
   "id": "4e04f497",
   "metadata": {},
   "outputs": [],
   "source": [
    "#Convert Age Group datatype (category) to object\n",
    "df['Age Group'] = df['Age Group'].astype(str)\n",
    "\n",
    "#Remove possible whitespaces\n",
    "df['Age Group'] = df['Age Group'].str.strip()"
   ]
  },
  {
   "cell_type": "markdown",
   "id": "bd13117c",
   "metadata": {},
   "source": [
    "**Religion**"
   ]
  },
  {
   "cell_type": "code",
   "execution_count": 17,
   "id": "2cb801b6",
   "metadata": {},
   "outputs": [
    {
     "data": {
      "text/plain": [
       "None           2838\n",
       "Christian      1956\n",
       "Catholic        884\n",
       "Methodist       499\n",
       "Muslim           97\n",
       "Sikh             40\n",
       "Jewish           36\n",
       "Buddist           3\n",
       "Jedi              2\n",
       "                  2\n",
       "Quaker            1\n",
       "Housekeeper       1\n",
       "Pagan             1\n",
       "Private           1\n",
       "Orthodoxy         1\n",
       "Name: Religion, dtype: int64"
      ]
     },
     "execution_count": 17,
     "metadata": {},
     "output_type": "execute_result"
    }
   ],
   "source": [
    "#Gives the count of each Religion in df\n",
    "df['Religion'].value_counts()\n",
    "\n",
    "#There are 2 empty strings \n",
    "#NaN inputs, also 'None' category\n",
    "#'Private', 'Housekeeper' and 'Jedi' inputs\n",
    "#Is Buddist spelt correctly?\n",
    "#Any children with religion?"
   ]
  },
  {
   "cell_type": "code",
   "execution_count": 18,
   "id": "b8f325f1",
   "metadata": {},
   "outputs": [
    {
     "name": "stdout",
     "output_type": "stream",
     "text": [
      "Before changes:\n",
      "NaN count: 2008\n",
      "Empty string count: 2\n",
      "Mode of religion: None\n",
      "After changes:\n",
      "NaN count: 2008\n",
      "Empty string count after: 0\n",
      "Unique values in 'Religion' column:\n",
      "['Catholic' nan 'Methodist' 'None' 'Christian' 'Jewish' 'Sikh' 'Muslim'\n",
      " 'Buddist' 'Quaker' 'Housekeeper' 'Jedi' 'Pagan' 'Private' 'Orthodoxy']\n"
     ]
    }
   ],
   "source": [
    "#Print number of NaN values\n",
    "nan_count_before = df['Religion'].isnull().sum()\n",
    "\n",
    "#Print number of empty strings, considering potential whitespaces using str.strip()\n",
    "empty_string_count = (df['Religion'].str.strip() == '').sum()\n",
    "\n",
    "#Print the count of NaN values and empty strings before the changes\n",
    "print(\"Before changes:\")\n",
    "print(\"NaN count:\", nan_count_before)\n",
    "print(\"Empty string count:\", empty_string_count)\n",
    "\n",
    "#Calculate mode of the 'Religion' series (which may include NaN) using .values[0]\n",
    "mode_religion = df['Religion'].mode().values[0]\n",
    "print(\"Mode of religion:\", mode_religion)\n",
    "\n",
    "#Replace only empty strings with the calculated mode\n",
    "df.loc[df['Religion'].str.strip() == '', 'Religion'] = mode_religion\n",
    "\n",
    "#Recalculate the count of empty strings after the changes\n",
    "empty_string_count_after = (df['Religion'].str.strip() == '').sum()\n",
    "\n",
    "#Print the count of NaN values and empty strings after the changes\n",
    "nan_count_after = df['Religion'].isnull().sum()\n",
    "print(\"After changes:\")\n",
    "print(\"NaN count:\", nan_count_after)\n",
    "print(\"Empty string count after:\", empty_string_count_after)\n",
    "\n",
    "#Print the unique values in the 'Religion' column after the changes\n",
    "print(\"Unique values in 'Religion' column:\")\n",
    "print(df['Religion'].unique())"
   ]
  },
  {
   "cell_type": "code",
   "execution_count": 19,
   "id": "98aeb3ea",
   "metadata": {},
   "outputs": [
    {
     "name": "stdout",
     "output_type": "stream",
     "text": [
      "None           2840\n",
      "Christian      1956\n",
      "Catholic        884\n",
      "Methodist       499\n",
      "Muslim           97\n",
      "Sikh             40\n",
      "Jewish           36\n",
      "Buddist           3\n",
      "Jedi              2\n",
      "Quaker            1\n",
      "Housekeeper       1\n",
      "Pagan             1\n",
      "Private           1\n",
      "Orthodoxy         1\n",
      "Name: Religion, dtype: int64\n"
     ]
    }
   ],
   "source": [
    "#Updated count by Religion\n",
    "religion_counts = df['Religion'].value_counts()\n",
    "print(religion_counts)"
   ]
  },
  {
   "cell_type": "markdown",
   "id": "1e179220",
   "metadata": {},
   "source": [
    "Private and Housekeeper are not religions.\n",
    "\n",
    "Jedi also not a religion as declared by the Charity Commission:\n",
    "\n",
    "GOV.UK (n. d.) Decision of the charity commission on the temple of the jedi order. Available online: https://www.gov.uk/government/publications/the-temple-of-the-jedi-order [Accessed 26/11/2023].\n",
    "\n",
    "Buddist should be spelt Buddhist- assume a typo - check is same household.\n",
    "\n",
    "Britannica (2023) Buddhism. Available online: https://www.britannica.com/topic/Buddhism [Accessed 26/11/2023].\n",
    "\n",
    "Other low frequency religions:\n",
    "\n",
    "Orthodoxy is a form of Christian religion.\n",
    "\n",
    "Britannica (2023) Orthodox. Available online: https://www.britannica.com/topic/orthodox [Accessed 26/11/2023].\n",
    "\n",
    "Quakers are a Christian group (more of a way of life).\n",
    "\n",
    "Britannica (2023) Quaker. Available online: https://www.britannica.com/topic/Quaker [Accessed 26/11/2023].\n",
    "\n",
    "Pagan also Christian.\n",
    "\n",
    "Britannica (2023) Paganism. Available online: https://www.britannica.com/topic/paganism [Accessed 26/11/2023]."
   ]
  },
  {
   "cell_type": "markdown",
   "id": "6bfefeb4",
   "metadata": {},
   "source": [
    "For those with false religions-\n",
    "\n",
    "a) Could check the religions of others in household, if any, and impute this- may not be correct but sensible guess\n",
    "\n",
    "b) Failing a) input 'None'\n",
    "\n",
    "c) If deliberately misleading or deemed to be one-off errors use a) or b)"
   ]
  },
  {
   "cell_type": "code",
   "execution_count": 20,
   "id": "d702be4a",
   "metadata": {},
   "outputs": [
    {
     "name": "stdout",
     "output_type": "stream",
     "text": [
      "      House Number       Street  First Name  Surname  Age (years)  \\\n",
      "3033            56  Harvey Road  Jacqueline  Knowles           61   \n",
      "3034            56  Harvey Road        Carl  Knowles           63   \n",
      "\n",
      "     Relationship to Head of House Marital Status  Gender  \\\n",
      "3033                          Head        Married  Female   \n",
      "3034                       Husband        Married    Male   \n",
      "\n",
      "                 Occupation Infirmity Religion Age Group  \n",
      "3033      Nurse, children's      None     Jedi     60-64  \n",
      "3034  Accounting technician      None     Jedi     60-64  \n",
      "      House Number       Street  First Name  Surname  Age (years)  \\\n",
      "3033            56  Harvey Road  Jacqueline  Knowles           61   \n",
      "3034            56  Harvey Road        Carl  Knowles           63   \n",
      "3035            56  Harvey Road       David  Knowles           17   \n",
      "\n",
      "     Relationship to Head of House Marital Status  Gender  \\\n",
      "3033                          Head        Married  Female   \n",
      "3034                       Husband        Married    Male   \n",
      "3035                           Son            NaN    Male   \n",
      "\n",
      "                 Occupation Infirmity Religion Age Group  \n",
      "3033      Nurse, children's      None     Jedi     60-64  \n",
      "3034  Accounting technician      None     Jedi     60-64  \n",
      "3035                Student      None      NaN     15-19  \n"
     ]
    }
   ],
   "source": [
    "#Identify all records with Jedi as religion\n",
    "jedi_records = df[df['Religion'] == 'Jedi']\n",
    "print(jedi_records)\n",
    "\n",
    "#Filter records for the specified 'House Number' and 'Street'\n",
    "print(df[(df['House Number'] == 56) & (df['Street'] == 'Harvey Road')])\n",
    "\n",
    "#Son David also lives in the house of the Jedi worshippers with Religion 'None' \n",
    "#So convert 2 'Jedi' entries to None\n",
    "df['Religion'].replace('Jedi', 'None', inplace=True)"
   ]
  },
  {
   "cell_type": "code",
   "execution_count": 21,
   "id": "254a281d",
   "metadata": {},
   "outputs": [
    {
     "name": "stdout",
     "output_type": "stream",
     "text": [
      "      House Number           Street First Name Surname  Age (years)  \\\n",
      "2776             9  Barlow Crescent      Bryan  Austin           31   \n",
      "\n",
      "     Relationship to Head of House Marital Status Gender Occupation Infirmity  \\\n",
      "2776                          Head        Married   Male   Best boy      None   \n",
      "\n",
      "         Religion Age Group  \n",
      "2776  Housekeeper     30-34  \n",
      "      House Number           Street First Name Surname  Age (years)  \\\n",
      "2776             9  Barlow Crescent      Bryan  Austin           31   \n",
      "2777             9  Barlow Crescent      Lydia  Austin           23   \n",
      "2778             9  Barlow Crescent      Jemma  Austin            0   \n",
      "\n",
      "     Relationship to Head of House Marital Status  Gender  \\\n",
      "2776                          Head        Married    Male   \n",
      "2777                          Wife        Married  Female   \n",
      "2778                      Daughter            NaN  Female   \n",
      "\n",
      "                   Occupation Infirmity     Religion Age Group  \n",
      "2776                 Best boy      None  Housekeeper     30-34  \n",
      "2777  Copywriter, advertising      None         None     20-24  \n",
      "2778                    Child      None          NaN       0-4  \n"
     ]
    }
   ],
   "source": [
    "#Filter out record where Religion is Housekeeper\n",
    "housekeeper_records = df[df['Religion'] == 'Housekeeper']\n",
    "print(housekeeper_records)\n",
    "\n",
    "#Occupation here is \"Best boy\"\n",
    "#Anyone else living in the household (he indicated he is married)\n",
    "#Filter records for the specified 'House Number' and 'Street'\n",
    "print(df[(df['House Number'] == 9) & (df['Street'] == 'Barlow Crescent')])\n",
    "\n",
    "#None for religion for other members of household so set Housekeeper to None\n",
    "df['Religion'].replace('Housekeeper', 'None', inplace=True)"
   ]
  },
  {
   "cell_type": "code",
   "execution_count": 22,
   "id": "3a0040ec",
   "metadata": {},
   "outputs": [
    {
     "name": "stdout",
     "output_type": "stream",
     "text": [
      "      House Number       Street First Name Surname  Age (years)  \\\n",
      "5645            65  Manor Flats       June    Bull           19   \n",
      "\n",
      "     Relationship to Head of House Marital Status  Gender          Occupation  \\\n",
      "5645                          Head         Single  Female  University Student   \n",
      "\n",
      "     Infirmity Religion Age Group  \n",
      "5645      None  Private     15-19  \n",
      "      House Number       Street First Name Surname  Age (years)  \\\n",
      "5645            65  Manor Flats       June    Bull           19   \n",
      "\n",
      "     Relationship to Head of House Marital Status  Gender          Occupation  \\\n",
      "5645                          Head         Single  Female  University Student   \n",
      "\n",
      "     Infirmity Religion Age Group  \n",
      "5645      None  Private     15-19  \n"
     ]
    }
   ],
   "source": [
    "#Filter out record where Religion is Private\n",
    "private_records = df[df['Religion'] == 'Private']\n",
    "print(private_records)\n",
    "\n",
    "#Private may mean they don't want to diclose\n",
    "#Anyone else living in his household?\n",
    "#Filter records for the specified 'House Number' and 'Street'\n",
    "print(df[(df['House Number'] == 65) & (df['Street'] == 'Manor Flats')])\n",
    "\n",
    "#No other occupiers of household, assign to NaN as 'Private' indicates it is not 'None', rather undeclared.\n",
    "df['Religion'].replace('Private', np.nan, inplace=True)"
   ]
  },
  {
   "cell_type": "code",
   "execution_count": 23,
   "id": "9fcebcd7",
   "metadata": {},
   "outputs": [
    {
     "name": "stdout",
     "output_type": "stream",
     "text": [
      "      House Number         Street First Name Surname  Age (years)  \\\n",
      "367            180     Smith Port      Shane  Howard           19   \n",
      "368            180     Smith Port      Carly  Howard           19   \n",
      "2448            35  Davies Avenue       Tony    Hall           51   \n",
      "\n",
      "     Relationship to Head of House Marital Status  Gender          Occupation  \\\n",
      "367                           Head        Married    Male  University Student   \n",
      "368                           Wife        Married  Female  University Student   \n",
      "2448                          None         Single    Male   Freight forwarder   \n",
      "\n",
      "     Infirmity Religion Age Group  \n",
      "367       None  Buddist     15-19  \n",
      "368       None  Buddist     15-19  \n",
      "2448      None  Buddist     50-54  \n"
     ]
    },
    {
     "data": {
      "text/plain": [
       "None         2843\n",
       "Christian    1956\n",
       "Catholic      884\n",
       "Methodist     499\n",
       "Muslim         97\n",
       "Sikh           40\n",
       "Jewish         36\n",
       "Buddhist        3\n",
       "Quaker          1\n",
       "Pagan           1\n",
       "Orthodoxy       1\n",
       "Name: Religion, dtype: int64"
      ]
     },
     "execution_count": 23,
     "metadata": {},
     "output_type": "execute_result"
    }
   ],
   "source": [
    "#Change Buddist to Buddhist\n",
    "buddist_records = df[df['Religion'] == 'Buddist']\n",
    "print(buddist_records)\n",
    "\n",
    "df['Religion'].replace('Buddist', 'Buddhist', inplace=True)\n",
    "df['Religion'].value_counts()"
   ]
  },
  {
   "cell_type": "code",
   "execution_count": 24,
   "id": "cd54f451",
   "metadata": {},
   "outputs": [
    {
     "name": "stdout",
     "output_type": "stream",
     "text": [
      "      House Number           Street   First Name Surname  Age (years)  \\\n",
      "7487            58  Canterbury Well  Christopher    Cole           15   \n",
      "\n",
      "     Relationship to Head of House Marital Status Gender Occupation Infirmity  \\\n",
      "7487                           Son            NaN   Male    Student      None   \n",
      "\n",
      "     Religion Age Group  \n",
      "7487     None     15-19  \n"
     ]
    },
    {
     "data": {
      "text/plain": [
       "None          2842\n",
       "Christian     1956\n",
       "Undeclared    1748\n",
       "Catholic       884\n",
       "Methodist      499\n",
       "Muslim          97\n",
       "Sikh            40\n",
       "Jewish          36\n",
       "Buddhist         3\n",
       "Quaker           1\n",
       "Pagan            1\n",
       "Orthodoxy        1\n",
       "Name: Religion, dtype: int64"
      ]
     },
     "execution_count": 24,
     "metadata": {},
     "output_type": "execute_result"
    }
   ],
   "source": [
    "#Want to know how many under 16s have an associated religion\n",
    "#Print religion for any under 16s where not NaN\n",
    "under_16_religion = df[(df['Age (years)'] < 16) & df['Religion'].notnull()]\n",
    "print(under_16_religion)\n",
    "\n",
    "#Only one instance for anyone under 16 where religion is 'None' rather than NaN\n",
    "#Convert all under 16 religions to Undeclared\n",
    "df.loc[df['Age (years)'] < 16, 'Religion'] = 'Undeclared'\n",
    "\n",
    "df['Religion'].value_counts()\n",
    "\n",
    "#The 'None' inputs are now all adults (16 and over)"
   ]
  },
  {
   "cell_type": "code",
   "execution_count": 25,
   "id": "e1f26761",
   "metadata": {},
   "outputs": [
    {
     "name": "stdout",
     "output_type": "stream",
     "text": [
      "<class 'pandas.core.frame.DataFrame'>\n",
      "Int64Index: 8370 entries, 0 to 8376\n",
      "Data columns (total 12 columns):\n",
      " #   Column                         Non-Null Count  Dtype \n",
      "---  ------                         --------------  ----- \n",
      " 0   House Number                   8370 non-null   int64 \n",
      " 1   Street                         8370 non-null   object\n",
      " 2   First Name                     8370 non-null   object\n",
      " 3   Surname                        8370 non-null   object\n",
      " 4   Age (years)                    8370 non-null   int64 \n",
      " 5   Relationship to Head of House  8370 non-null   object\n",
      " 6   Marital Status                 6396 non-null   object\n",
      " 7   Gender                         8370 non-null   object\n",
      " 8   Occupation                     8370 non-null   object\n",
      " 9   Infirmity                      8370 non-null   object\n",
      " 10  Religion                       8108 non-null   object\n",
      " 11  Age Group                      8370 non-null   object\n",
      "dtypes: int64(2), object(10)\n",
      "memory usage: 850.1+ KB\n"
     ]
    }
   ],
   "source": [
    "df.info()"
   ]
  },
  {
   "cell_type": "markdown",
   "id": "d0e85955",
   "metadata": {},
   "source": [
    "**Marital Status**"
   ]
  },
  {
   "cell_type": "code",
   "execution_count": 26,
   "id": "84b611f3",
   "metadata": {},
   "outputs": [
    {
     "data": {
      "text/plain": [
       "array(['Divorced', nan, 'Married', 'Single', 'Widowed', ' '], dtype=object)"
      ]
     },
     "execution_count": 26,
     "metadata": {},
     "output_type": "execute_result"
    }
   ],
   "source": [
    "df['Marital Status'].unique()"
   ]
  },
  {
   "cell_type": "code",
   "execution_count": 27,
   "id": "852a79c9",
   "metadata": {},
   "outputs": [
    {
     "data": {
      "text/plain": [
       "Single      2997\n",
       "Married     2220\n",
       "Divorced     791\n",
       "Widowed      387\n",
       "               1\n",
       "Name: Marital Status, dtype: int64"
      ]
     },
     "execution_count": 27,
     "metadata": {},
     "output_type": "execute_result"
    }
   ],
   "source": [
    "df['Marital Status'].value_counts()"
   ]
  },
  {
   "cell_type": "code",
   "execution_count": 28,
   "id": "66dd26f1",
   "metadata": {},
   "outputs": [
    {
     "name": "stdout",
     "output_type": "stream",
     "text": [
      "      House Number       Street First Name Surname  Age (years)  \\\n",
      "4230            47  Chan Estate     Norman    Ward           25   \n",
      "\n",
      "     Relationship to Head of House Marital Status Gender     Occupation  \\\n",
      "4230                           Son                  Male  Administrator   \n",
      "\n",
      "     Infirmity Religion Age Group  \n",
      "4230      None     None     25-29  \n",
      "Empty DataFrame\n",
      "Columns: [House Number, Street, First Name, Surname, Age (years), Relationship to Head of House, Marital Status, Gender, Occupation, Infirmity, Religion, Age Group]\n",
      "Index: []\n"
     ]
    }
   ],
   "source": [
    "#Identify record with empty string\n",
    "#Strip white spaces first\n",
    "empty_string_marital_status = df[df['Marital Status'].str.strip() == '']\n",
    "print(empty_string_marital_status)\n",
    "\n",
    "#Assign Single (rather than NaN) to empty string (only 1 instance)\n",
    "#Strip leading and trailing whitespaces, then replace empty strings with Single in the Marital Status column\n",
    "df['Marital Status'] = df['Marital Status'].str.strip().replace('', 'Single')\n",
    "\n",
    "#Now i want to see all participants 18 years old or older have NaN as Marital Status\n",
    "print(df[(df['Age (years)'] >= 18) & (pd.isna(df['Marital Status']))])"
   ]
  },
  {
   "cell_type": "code",
   "execution_count": 29,
   "id": "9bf07395",
   "metadata": {},
   "outputs": [
    {
     "name": "stdout",
     "output_type": "stream",
     "text": [
      "Empty DataFrame\n",
      "Columns: [House Number, Street, First Name, Surname, Age (years), Relationship to Head of House, Marital Status, Gender, Occupation, Infirmity, Religion, Age Group]\n",
      "Index: []\n"
     ]
    }
   ],
   "source": [
    "#Now i want to see if any under 18 are widowed\n",
    "#Filter df for individuals under 18 and widowed\n",
    "under_18_widowed = df[(df['Age (years)'] < 18) & (df['Marital Status'] == 'Widowed')]\n",
    "print(under_18_widowed)\n",
    "\n",
    "#No individuals widowed under 18"
   ]
  },
  {
   "cell_type": "code",
   "execution_count": 30,
   "id": "02d0ba71",
   "metadata": {},
   "outputs": [
    {
     "data": {
      "image/png": "[encoded data removed]",
      "text/plain": [
       "<Figure size 640x480 with 1 Axes>"
      ]
     },
     "metadata": {},
     "output_type": "display_data"
    }
   ],
   "source": [
    "#Filter data for Widowed in Marital Status\n",
    "widowed_data = df[df['Marital Status'] == 'Widowed']\n",
    "\n",
    "#Create a boxplot using seaborn\n",
    "sns.boxplot(x='Marital Status', y='Age (years)', data=widowed_data)\n",
    "\n",
    "plt.xlabel('Marital Status')\n",
    "plt.ylabel('Age (years)')\n",
    "plt.tight_layout()\n",
    "\n",
    "plt.show()"
   ]
  },
  {
   "cell_type": "code",
   "execution_count": 31,
   "id": "fa963a43",
   "metadata": {},
   "outputs": [
    {
     "name": "stdout",
     "output_type": "stream",
     "text": [
      "      House Number             Street First Name    Surname  Age (years)  \\\n",
      "914             80   Cambridge Street       Carl      Price           18   \n",
      "1390             1        Yucca Drive    Gregory  Wilkinson           18   \n",
      "1787             1       Khan Village      Diane     Powell           18   \n",
      "3454             4        Willow Road     Justin     Harris           18   \n",
      "5313            29       Green Spring     Gordon      Hayes           18   \n",
      "7658            16  Aethelred Heights      Aimee     Brooks           18   \n",
      "8367             1       Howard House   Jennifer     Bryant           18   \n",
      "\n",
      "     Relationship to Head of House Marital Status  Gender Occupation  \\\n",
      "914                           None        Widowed    Male    Student   \n",
      "1390                           Son        Widowed    Male    Student   \n",
      "1787                      Daughter        Widowed  Female    Student   \n",
      "3454                           Son        Widowed    Male    Student   \n",
      "5313                           Son        Widowed    Male    Student   \n",
      "7658                      Daughter        Widowed  Female    Student   \n",
      "8367                      Daughter        Widowed  Female    Student   \n",
      "\n",
      "     Infirmity   Religion Age Group  \n",
      "914       None        NaN     15-19  \n",
      "1390      None   Catholic     15-19  \n",
      "1787      None       None     15-19  \n",
      "3454      None       None     15-19  \n",
      "5313      None  Christian     15-19  \n",
      "7658      None   Catholic     15-19  \n",
      "8367      None  Christian     15-19  \n"
     ]
    }
   ],
   "source": [
    "#Now i want to see if any 18 year olds are widowed\n",
    "#Filter df for individuals aged 18 and widowed\n",
    "widowed_18 = df[(df['Age (years)'] == 18) & (df['Marital Status'] == 'Widowed')]\n",
    "print(widowed_18)\n",
    "\n",
    "#7 individuals widowed aged 18, impute these to Single as although possible, quite unlikely (see box plot above)\n",
    "df.loc[(df['Age (years)'] == 18) & (df['Marital Status'] == 'Widowed'), 'Marital Status'] = 'Single'"
   ]
  },
  {
   "cell_type": "code",
   "execution_count": 32,
   "id": "13c73c2f",
   "metadata": {},
   "outputs": [
    {
     "name": "stdout",
     "output_type": "stream",
     "text": [
      "      House Number                Street First Name Surname  Age (years)  \\\n",
      "7508            14  Daffodilhatch Street      Chloe   Lewis           16   \n",
      "\n",
      "     Relationship to Head of House Marital Status  Gender  Occupation  \\\n",
      "7508                          Head       Divorced  Female  Unemployed   \n",
      "\n",
      "     Infirmity Religion Age Group  \n",
      "7508      None      NaN     15-19  \n"
     ]
    }
   ],
   "source": [
    "#Filter df for individuals under 18 and divorced\n",
    "under_18_divorced = df[(df['Age (years)'] < 18) & (df['Marital Status'] == 'Divorced')]\n",
    "print(under_18_divorced)\n",
    "\n",
    "#One individual divorced under 18, Chloe Lewis aged 16\n",
    "#Identified already as underage parent"
   ]
  },
  {
   "cell_type": "code",
   "execution_count": 33,
   "id": "ebc1d144",
   "metadata": {},
   "outputs": [
    {
     "name": "stdout",
     "output_type": "stream",
     "text": [
      "Empty DataFrame\n",
      "Columns: [House Number, Street, First Name, Surname, Age (years), Relationship to Head of House, Marital Status, Gender, Occupation, Infirmity, Religion, Age Group]\n",
      "Index: []\n"
     ]
    }
   ],
   "source": [
    "#Filter df for individuals under 18 and married\n",
    "under_18_married = df[(df['Age (years)'] < 18) & (df['Marital Status'] == 'Married')]\n",
    "print(under_18_married)\n",
    "\n",
    "#Confirms all illegal marriages have been dealt with"
   ]
  },
  {
   "cell_type": "code",
   "execution_count": 34,
   "id": "a660cd78",
   "metadata": {},
   "outputs": [
    {
     "name": "stdout",
     "output_type": "stream",
     "text": [
      "      House Number             Street First Name Surname  Age (years)  \\\n",
      "7637            11  Aethelred Heights      Fiona  Gordon           17   \n",
      "\n",
      "     Relationship to Head of House Marital Status  Gender Occupation  \\\n",
      "7637                          Head         Single  Female    Student   \n",
      "\n",
      "     Infirmity Religion Age Group  \n",
      "7637      None      NaN     15-19  \n",
      "      House Number             Street First Name Surname  Age (years)  \\\n",
      "7637            11  Aethelred Heights      Fiona  Gordon           17   \n",
      "7638            11  Aethelred Heights      Simon   Price           22   \n",
      "7639            11  Aethelred Heights    Harriet  Gordon            0   \n",
      "7640            11  Aethelred Heights     Kieran  Taylor           28   \n",
      "\n",
      "     Relationship to Head of House Marital Status  Gender  \\\n",
      "7637                          Head         Single  Female   \n",
      "7638                       Partner         Single    Male   \n",
      "7639                      Daughter            NaN  Female   \n",
      "7640                       Visitor        Widowed    Male   \n",
      "\n",
      "                      Occupation Infirmity    Religion Age Group  \n",
      "7637                     Student      None         NaN     15-19  \n",
      "7638          University Student      None         NaN     20-24  \n",
      "7639                       Child      None  Undeclared       0-4  \n",
      "7640  Architectural technologist      None        None     25-29  \n",
      "House Number                                    11\n",
      "Street                           Aethelred Heights\n",
      "First Name                                   Fiona\n",
      "Surname                                     Gordon\n",
      "Age (years)                                     17\n",
      "Relationship to Head of House                 Head\n",
      "Marital Status                                 NaN\n",
      "Gender                                      Female\n",
      "Occupation                                 Student\n",
      "Infirmity                                     None\n",
      "Religion                                       NaN\n",
      "Age Group                                    15-19\n",
      "Name: 7637, dtype: object\n"
     ]
    }
   ],
   "source": [
    "#Filter df for individuals under 18 and single\n",
    "under_18_single = df[(df['Age (years)'] < 18) & (df['Marital Status'] == 'Single')]\n",
    "print(under_18_single)\n",
    "\n",
    "#For Record 7637, Fiona Gordan, print entire household\n",
    "print(df[(df['House Number'] == 11) & (df['Street'] == 'Aethelred Heights')])\n",
    "#Has a child (aged 0), lives with partner and visitor, both over 18\n",
    "#Identified previously as underage mother\n",
    "\n",
    "#Ok to live in household with over 18s as 17 year old, but because under 18 Single status will be changed to NaN\n",
    "#Change the Marital Status for record 7637 to NaN\n",
    "df.loc[7637, 'Marital Status'] = np.nan\n",
    "print(df.loc[7637])"
   ]
  },
  {
   "cell_type": "code",
   "execution_count": 35,
   "id": "b3a0c898",
   "metadata": {},
   "outputs": [
    {
     "data": {
      "text/plain": [
       "Single      3004\n",
       "Married     2220\n",
       "Divorced     791\n",
       "Widowed      380\n",
       "Name: Marital Status, dtype: int64"
      ]
     },
     "execution_count": 35,
     "metadata": {},
     "output_type": "execute_result"
    }
   ],
   "source": [
    "df['Marital Status'].value_counts()"
   ]
  },
  {
   "cell_type": "markdown",
   "id": "f8f131a2",
   "metadata": {},
   "source": [
    "**Street**"
   ]
  },
  {
   "cell_type": "code",
   "execution_count": 36,
   "id": "cbeb4e8c",
   "metadata": {},
   "outputs": [
    {
     "data": {
      "text/plain": [
       "array(['Regentchain Avenue', 'Telegraphnet Street', 'Smith Port',\n",
       "       'Trent Crescent', 'Vulture Pike', 'November Falls',\n",
       "       'Cambridge Street', 'Sutton Rapid', 'Taylor Grove', 'Price Isle',\n",
       "       'Ward Avenue', 'Wharf Track', 'Wales Locks', 'Marshall Lodge',\n",
       "       'Yucca Drive', 'Power Keys', 'Brady Creek', 'Earlsplit Drive',\n",
       "       'Khan Village', 'Cooper Track', 'Pickering Summit', 'Osborne Road',\n",
       "       'Hammond Lane', 'Davies Avenue', 'William Bypass', 'White Island',\n",
       "       'Leach Tunnel', 'Oyster Drive', 'Barlow Crescent', 'Harvey Road',\n",
       "       'Roberts Inlet', 'Willow Road', 'Rogers Plains',\n",
       "       'Capricorn Throughway', 'Pendragon Lane', 'Chan Estate',\n",
       "       'Jones Ramp', 'Ebor Street', 'Whitehall Crescent', 'Clark Street',\n",
       "       'Friary Avenue', 'Elliott Lane', 'Duchesshatch Avenue',\n",
       "       'Ahmed Spur', 'Anvilgain Road', 'Arrows Mission', 'Bryan Road',\n",
       "       'Fitzgerald Road', 'Leeds Crossing', 'Green Spring', 'Paper Place',\n",
       "       'Evans Light', 'Bishop Shoal', 'York Drive', 'Manor Flats',\n",
       "       'Bassenthwaite Street', 'Hewitt Avenue', 'CherryChestnut Spurs',\n",
       "       'Yorkwalk Avenue', 'Dixon Islands', 'Reptonbarrier Drive',\n",
       "       'Farthing Crescent', 'Bassenthwaitecrack Lane', 'Singh Burgs',\n",
       "       'CherryChestnut Drive', 'Mill Gateway', 'ExcaliburBellsby Drive',\n",
       "       'Vaughan Point', 'Stewart Street', 'Tiger Avenue',\n",
       "       'Squirrel Street', 'Stone Falls', 'Murphy Street', 'Murray Drive',\n",
       "       'Georgebag Street', 'Canterbury Well', 'Daffodilhatch Street',\n",
       "       'Cardiff Avenue', 'Aethelred Heights', 'Pendragon Squares',\n",
       "       'Chelmsford Road', 'Mainarch Crescent', 'The Lane',\n",
       "       'Snapdragon Run', 'Brown Crossroad', 'Harris Lodge',\n",
       "       'Aethelred Crescent', 'Honeysucklesplit Drive', 'Arnold Ways',\n",
       "       'Webb Stables', 'Walker Spire', 'Cook Keep', 'Carey Castle',\n",
       "       'Beaver Mansion', 'Thames Villa', 'Martin Delve',\n",
       "       'Trawler Windmill', 'Duchess Commune', 'Aries Spire',\n",
       "       'Parrot Hall', 'Oyster Manorhouse', 'Price Lodge',\n",
       "       'Hutchinson House', 'Howard House'], dtype=object)"
      ]
     },
     "execution_count": 36,
     "metadata": {},
     "output_type": "execute_result"
    }
   ],
   "source": [
    "df['Street'].unique()\n",
    "#All entries have same format"
   ]
  },
  {
   "cell_type": "markdown",
   "id": "3d39bc8d",
   "metadata": {},
   "source": [
    "**Relationship to Head of House**"
   ]
  },
  {
   "cell_type": "code",
   "execution_count": 37,
   "id": "cfd4d00c",
   "metadata": {},
   "outputs": [
    {
     "data": {
      "text/plain": [
       "array(['Head', 'Daughter', 'Son', 'Wife', 'Husband', 'None', 'Partner',\n",
       "       'Lodger', 'Grandson', 'Granddaughter', 'Sibling', 'Visitor',\n",
       "       'Cousin', 'Adopted Daughter', 'Nephew', 'Neice', 'Adopted Son',\n",
       "       'Step-Son', 'Step-Daughter', 'Adopted Granddaughter'], dtype=object)"
      ]
     },
     "execution_count": 37,
     "metadata": {},
     "output_type": "execute_result"
    }
   ],
   "source": [
    "df['Relationship to Head of House'].unique()\n",
    "#Formatting fine\n",
    "#No empty strings\n",
    "#No NaN"
   ]
  },
  {
   "cell_type": "code",
   "execution_count": 38,
   "id": "1f146ee1",
   "metadata": {},
   "outputs": [
    {
     "data": {
      "text/plain": [
       "array(['Head', 'Daughter', 'Son', 'Wife', 'Husband', 'None', 'Partner',\n",
       "       'Lodger', 'Grandson', 'Granddaughter', 'Sibling', 'Visitor',\n",
       "       'Cousin', 'Adopted Daughter', 'Nephew', 'Niece', 'Adopted Son',\n",
       "       'Step-Son', 'Step-Daughter', 'Adopted Granddaughter'], dtype=object)"
      ]
     },
     "execution_count": 38,
     "metadata": {},
     "output_type": "execute_result"
    }
   ],
   "source": [
    "#'Neice' is mispelt, convert to 'Niece'\n",
    "#regex=True makes sure that the replacement is case-sensitive\n",
    "df['Relationship to Head of House'] = df['Relationship to Head of House'].replace('Neice', 'Niece', regex=True)\n",
    "df['Relationship to Head of House'].unique()"
   ]
  },
  {
   "cell_type": "markdown",
   "id": "877ee0a8",
   "metadata": {},
   "source": [
    "**Gender**"
   ]
  },
  {
   "cell_type": "code",
   "execution_count": 39,
   "id": "a484e002",
   "metadata": {},
   "outputs": [
    {
     "data": {
      "text/plain": [
       "array(['Female', 'Male', ' '], dtype=object)"
      ]
     },
     "execution_count": 39,
     "metadata": {},
     "output_type": "execute_result"
    }
   ],
   "source": [
    "df['Gender'].unique()"
   ]
  },
  {
   "cell_type": "code",
   "execution_count": 40,
   "id": "ba3b7df5",
   "metadata": {},
   "outputs": [
    {
     "name": "stdout",
     "output_type": "stream",
     "text": [
      "      House Number           Street First Name  Surname  Age (years)  \\\n",
      "1002             1     Taylor Grove     Pamela  Edwards           69   \n",
      "6899             8     Tiger Avenue     Leanne     Gill           22   \n",
      "7348            25  Canterbury Well      Irene   Harvey           51   \n",
      "\n",
      "     Relationship to Head of House Marital Status Gender  \\\n",
      "1002                          Head        Married          \n",
      "6899                          None         Single          \n",
      "7348                          Head        Married          \n",
      "\n",
      "                             Occupation Infirmity   Religion Age Group  \n",
      "1002  Retired Engineer, technical sales      None  Christian     65-69  \n",
      "6899                 University Student      None       None     20-24  \n",
      "7348                  Librarian, public      None  Christian     50-54  \n"
     ]
    }
   ],
   "source": [
    "#Identify records with empty or whitespace string (3 instances)\n",
    "empty_gender = df[df['Gender'].str.strip() == '']\n",
    "print(empty_gender)"
   ]
  },
  {
   "cell_type": "code",
   "execution_count": 41,
   "id": "6ba3ae8e",
   "metadata": {},
   "outputs": [
    {
     "data": {
      "text/plain": [
       "array(['Female', 'Male'], dtype=object)"
      ]
     },
     "execution_count": 41,
     "metadata": {},
     "output_type": "execute_result"
    }
   ],
   "source": [
    "#All female first name, no NA option, so can assume input error here, and convert all 3 records to Female\n",
    "#Replace empty strings with Female in the Gender series\n",
    "df['Gender'] = df['Gender'].str.strip().replace('', 'Female')\n",
    "\n",
    "df['Gender'].unique()"
   ]
  },
  {
   "cell_type": "markdown",
   "id": "d0b19168",
   "metadata": {},
   "source": [
    "**Infirmity**"
   ]
  },
  {
   "cell_type": "code",
   "execution_count": 42,
   "id": "c0eef461",
   "metadata": {},
   "outputs": [
    {
     "data": {
      "text/plain": [
       "array(['None', 'Blind', ' ', 'Physical Disability', 'Mental Disability',\n",
       "       'Deaf', 'Unknown Infection', 'Disabled'], dtype=object)"
      ]
     },
     "execution_count": 42,
     "metadata": {},
     "output_type": "execute_result"
    }
   ],
   "source": [
    "df['Infirmity'].unique()"
   ]
  },
  {
   "cell_type": "code",
   "execution_count": 43,
   "id": "ac44efbe",
   "metadata": {},
   "outputs": [
    {
     "name": "stdout",
     "output_type": "stream",
     "text": [
      "      House Number                  Street First Name     Surname  \\\n",
      "102              2              Smith Port      Reece      Knight   \n",
      "258            106              Smith Port    Raymond     Brookes   \n",
      "1593            26             Brady Creek       Adam      Hewitt   \n",
      "4053            20          Pendragon Lane      Diane        Rees   \n",
      "5554            12             Manor Flats      Garry  Williamson   \n",
      "5637            60             Manor Flats    Vincent      Walker   \n",
      "5730             2           Hewitt Avenue     Teresa       Jones   \n",
      "5802             3    CherryChestnut Spurs     Victor    Fletcher   \n",
      "5807             5    CherryChestnut Spurs    Valerie       Dixon   \n",
      "6681            65  ExcaliburBellsby Drive     Hannah    Charlton   \n",
      "7034            38         Squirrel Street  Francesca       Green   \n",
      "7456            52         Canterbury Well        Lee       Bowen   \n",
      "8027            27          Snapdragon Run      Shane      Bailey   \n",
      "\n",
      "      Age (years) Relationship to Head of House Marital Status  Gender  \\\n",
      "102            28                          Head        Married    Male   \n",
      "258            27                          Head       Divorced    Male   \n",
      "1593           64                       Husband        Married    Male   \n",
      "4053            9                 Granddaughter            NaN  Female   \n",
      "5554           46                          Head         Single    Male   \n",
      "5637           43                       Husband        Married    Male   \n",
      "5730            7                      Daughter            NaN  Female   \n",
      "5802           16                           Son            NaN    Male   \n",
      "5807            5                      Daughter            NaN  Female   \n",
      "6681           63                          None         Single  Female   \n",
      "7034           26                          Wife        Married  Female   \n",
      "7456           47                       Husband        Married    Male   \n",
      "8027           89                          Head        Widowed    Male   \n",
      "\n",
      "                               Occupation Infirmity    Religion Age Group  \n",
      "102          Garment/textile technologist                  None     25-29  \n",
      "258                Programmer, multimedia                  None     25-29  \n",
      "1593                           Unemployed                  None     60-64  \n",
      "4053                              Student            Undeclared       5-9  \n",
      "5554             Local government officer             Christian     45-49  \n",
      "5637       Equality and diversity officer                  None     40-44  \n",
      "5730                              Student            Undeclared       5-9  \n",
      "5802                              Student                   NaN     15-19  \n",
      "5807                              Student            Undeclared       5-9  \n",
      "6681                         Tree surgeon                  None     60-64  \n",
      "7034  Chartered public finance accountant              Catholic     25-29  \n",
      "7456            Public affairs consultant              Catholic     45-49  \n",
      "8027         Retired Engineer, automotive                  None     85-89  \n"
     ]
    }
   ],
   "source": [
    "#Identify records with empty or whitespace string (13 instances)\n",
    "empty_infirmity = df[df['Infirmity'].str.strip() == '']\n",
    "print(empty_infirmity)"
   ]
  },
  {
   "cell_type": "code",
   "execution_count": 44,
   "id": "796e5910",
   "metadata": {},
   "outputs": [
    {
     "data": {
      "text/plain": [
       "array(['None', 'Blind', 'Physical Disability', 'Mental Disability',\n",
       "       'Deaf', 'Unknown Infection', 'Disabled'], dtype=object)"
      ]
     },
     "execution_count": 44,
     "metadata": {},
     "output_type": "execute_result"
    }
   ],
   "source": [
    "#No way of knowing if disabled or not, so just assigned 'None' to 13 entries\n",
    "#Replace empty strings with 'None' in the Infirmity series\n",
    "df['Infirmity'] = df['Infirmity'].str.strip().replace('', 'None')\n",
    "\n",
    "df['Infirmity'].unique()"
   ]
  },
  {
   "cell_type": "markdown",
   "id": "877f413c",
   "metadata": {},
   "source": [
    "**First Name**"
   ]
  },
  {
   "cell_type": "code",
   "execution_count": 45,
   "id": "40cf1a06",
   "metadata": {},
   "outputs": [
    {
     "name": "stdout",
     "output_type": "stream",
     "text": [
      "      House Number      Street First Name Surname  Age (years)  \\\n",
      "1497             4  Power Keys              Frost           88   \n",
      "\n",
      "     Relationship to Head of House Marital Status Gender  \\\n",
      "1497                          Head        Widowed   Male   \n",
      "\n",
      "                               Occupation Infirmity   Religion Age Group  \n",
      "1497  Retired Civil Service fast streamer      None  Methodist     85-89  \n"
     ]
    }
   ],
   "source": [
    "#Identify records with empty or whitespace string (1 instance)\n",
    "empty_firstname = df[df['First Name'].str.strip() == '']\n",
    "print(empty_firstname)\n",
    "\n",
    "#Replace empty string with 'Unknown' in the \"First Name\" series\n",
    "df['First Name'] = df['First Name'].str.strip().replace('', 'Unknown')"
   ]
  },
  {
   "cell_type": "code",
   "execution_count": 46,
   "id": "01fd9914",
   "metadata": {},
   "outputs": [
    {
     "name": "stdout",
     "output_type": "stream",
     "text": [
      "Empty DataFrame\n",
      "Columns: [First Name]\n",
      "Index: []\n"
     ]
    }
   ],
   "source": [
    "#Filter for records where First Name has two words without a hyphen\n",
    "two_words_no_hyphen_firstname = df[df['First Name'].str.contains(r'^\\S+\\s+\\S+$')]\n",
    "print(two_words_no_hyphen_firstname[['First Name']])\n",
    "#No hyphenated names in this series and no hyphens need adding"
   ]
  },
  {
   "cell_type": "markdown",
   "id": "ee69796f",
   "metadata": {},
   "source": [
    "**Surname**"
   ]
  },
  {
   "cell_type": "code",
   "execution_count": 47,
   "id": "73365eb2",
   "metadata": {},
   "outputs": [
    {
     "name": "stdout",
     "output_type": "stream",
     "text": [
      "      House Number               Street First Name Surname  Age (years)  \\\n",
      "60               8  Telegraphnet Street      Linda                   41   \n",
      "4236            48          Chan Estate     Denise                    9   \n",
      "\n",
      "     Relationship to Head of House Marital Status  Gender  \\\n",
      "60                        Daughter         Single  Female   \n",
      "4236              Adopted Daughter            NaN  Female   \n",
      "\n",
      "                          Occupation Infirmity    Religion Age Group  \n",
      "60    Commercial art gallery manager      None   Christian     40-44  \n",
      "4236                         Student      None  Undeclared       5-9  \n",
      "    House Number               Street First Name Surname  Age (years)  \\\n",
      "57             8  Telegraphnet Street     Elaine   Patel           78   \n",
      "58             8  Telegraphnet Street       Kate   Patel           44   \n",
      "59             8  Telegraphnet Street     Damien   Patel           42   \n",
      "60             8  Telegraphnet Street      Linda                   41   \n",
      "61             8  Telegraphnet Street   Patricia   Patel           38   \n",
      "\n",
      "   Relationship to Head of House Marital Status  Gender  \\\n",
      "57                          Head       Divorced  Female   \n",
      "58                      Daughter         Single  Female   \n",
      "59                           Son         Single    Male   \n",
      "60                      Daughter         Single  Female   \n",
      "61                      Daughter       Divorced  Female   \n",
      "\n",
      "                            Occupation Infirmity   Religion Age Group  \n",
      "57         Retired Clinical biochemist      None  Christian     75-79  \n",
      "58                          Translator      None  Christian     40-44  \n",
      "59  Tourist information centre manager      None  Christian     40-44  \n",
      "60      Commercial art gallery manager      None  Christian     40-44  \n",
      "61                        Psychiatrist      None  Christian     35-39  \n",
      "      House Number       Street First Name Surname  Age (years)  \\\n",
      "4232            48  Chan Estate  Francesca   Lloyd           37   \n",
      "4233            48  Chan Estate      Shane   Lloyd           41   \n",
      "4234            48  Chan Estate  Alexandra   Lloyd           13   \n",
      "4235            48  Chan Estate     Arthur   Lloyd           12   \n",
      "4236            48  Chan Estate     Denise                    9   \n",
      "\n",
      "     Relationship to Head of House Marital Status  Gender         Occupation  \\\n",
      "4232                          Head        Married  Female  Drilling engineer   \n",
      "4233                       Husband        Married    Male             Banker   \n",
      "4234                      Daughter            NaN  Female            Student   \n",
      "4235                           Son            NaN    Male            Student   \n",
      "4236              Adopted Daughter            NaN  Female            Student   \n",
      "\n",
      "     Infirmity    Religion Age Group  \n",
      "4232      None    Catholic     35-39  \n",
      "4233      None    Catholic     40-44  \n",
      "4234      None  Undeclared     10-14  \n",
      "4235      None  Undeclared     10-14  \n",
      "4236      None  Undeclared       5-9  \n",
      "60      Patel\n",
      "4236    Lloyd\n",
      "Name: Surname, dtype: object\n"
     ]
    }
   ],
   "source": [
    "#Identify records with empty or whitespace string (2 instances)\n",
    "empty_surname = df[df['Surname'].str.strip() == '']\n",
    "print(empty_surname)\n",
    "\n",
    "#2 daughters, look up households to potentially impute surnames from others in house\n",
    "print(df[(df['House Number'] == 8) & (df['Street'] == 'Telegraphnet Street')])\n",
    "print(df[(df['House Number'] == 48) & (df['Street'] == 'Chan Estate')])\n",
    "\n",
    "#For record 60 imputing 'Patel' and for record 4236 imputing 'Lloyd'\n",
    "#Change the Surname for record 60 to 'Patel'\n",
    "df.loc[60, 'Surname'] = 'Patel'\n",
    "df.loc[4236, 'Surname'] = 'Lloyd'\n",
    "\n",
    "print(df.loc[[60, 4236], 'Surname'])"
   ]
  },
  {
   "cell_type": "code",
   "execution_count": 48,
   "id": "8c0fbfa5",
   "metadata": {},
   "outputs": [
    {
     "name": "stdout",
     "output_type": "stream",
     "text": [
      "Empty DataFrame\n",
      "Columns: [Surname]\n",
      "Index: []\n"
     ]
    }
   ],
   "source": [
    "#Filter for records where Surname has two words without a hyphen\n",
    "two_words_no_hyphen_surname = df[df['Surname'].str.contains(r'^\\S+\\s+\\S+$')]\n",
    "print(two_words_no_hyphen_surname[['Surname']])\n",
    "#No hyphens need adding"
   ]
  },
  {
   "cell_type": "markdown",
   "id": "7e9f117a",
   "metadata": {},
   "source": [
    "**Occupation**"
   ]
  },
  {
   "cell_type": "markdown",
   "id": "12a33434",
   "metadata": {},
   "source": [
    "Some inputs not helpful e.g. \"Make\" and \"Land\", \"sub\" and \"Retired, Best Boy\"!, is formatting standardised/consistent? There are stacked entries (with comma), forward slash entries, stuff in brackets. Different length strings. Lots of Retired entries with occupation (helpful!)\n",
    "\n",
    "Want to classify entries and create new column (Occupation category) e.g. employed, unemployed, retired, child, student)."
   ]
  },
  {
   "cell_type": "markdown",
   "id": "83023e51",
   "metadata": {},
   "source": [
    "Citation for legal age for retirement (66): \n",
    "\n",
    "Age UK (2023) Changes to state pension age. Available online: https://www.ageuk.org.uk/information-advice/money-legal/pensions/state-pension/changes-to-state-pension-age/ [Accessed 26/11/2023]."
   ]
  },
  {
   "cell_type": "code",
   "execution_count": 49,
   "id": "58a6544f",
   "metadata": {},
   "outputs": [],
   "source": [
    "#Need to determine if anyone aged 66 or over is listed as unemployed (want to convert these to retired, unemployed (legal age for state pension https://www.ageuk.org.uk/information-advice/money-legal/pensions/state-pension/changes-to-state-pension-age/))\n",
    "#Convert entries where individuals are 66 or over and 'unemployed' (case insensitive) in the 'Occupation' column to 'Retired Unemployed'\n",
    "#This also will convert Unemployed as stand alone string or where it is part of a longer string\n",
    "df.loc[df['Occupation'].str.contains('unemployed', case=False) & (df['Age (years)'] >= 66), 'Occupation'] = 'Retired Unemployed'"
   ]
  },
  {
   "cell_type": "code",
   "execution_count": 50,
   "id": "982764e7",
   "metadata": {},
   "outputs": [
    {
     "name": "stdout",
     "output_type": "stream",
     "text": [
      "      House Number       Street First Name   Surname  Age (years)  \\\n",
      "3399           194  Harvey Road  Josephine  Anderson           73   \n",
      "\n",
      "     Relationship to Head of House Marital Status  Gender Occupation  \\\n",
      "3399                          Head       Divorced  Female              \n",
      "\n",
      "     Infirmity   Religion Age Group  \n",
      "3399      None  Christian     70-74  \n"
     ]
    }
   ],
   "source": [
    "#Filter rows with empty or whitespace strings in 'Occupation' column\n",
    "empty_occupation_rows = df[df['Occupation'].str.strip() == '']\n",
    "print(empty_occupation_rows)\n",
    "\n",
    "#Replace empty string with 'Unknown' in 'Occupation'\n",
    "df['Occupation'] = df['Occupation'].str.strip().replace('', 'Unknown')"
   ]
  },
  {
   "cell_type": "code",
   "execution_count": 51,
   "id": "03b5182c",
   "metadata": {},
   "outputs": [],
   "source": [
    "#Replace 'Best boy', 'Sub' and 'Make' with 'Unknown'\n",
    "# Assuming 'Role' is the column where you want to replace values\n",
    "roles_to_replace = ['Best boy', 'Sub', 'Make']\n",
    "\n",
    "# Replace specified values in the 'Role' column with 'Unknown'\n",
    "df['Occupation'] = df['Occupation'].replace(roles_to_replace, 'Unknown')"
   ]
  },
  {
   "cell_type": "code",
   "execution_count": 52,
   "id": "9b48ffa5",
   "metadata": {},
   "outputs": [
    {
     "name": "stdout",
     "output_type": "stream",
     "text": [
      "     First Name Surname  Age (years)  Occupation\n",
      "7508      Chloe   Lewis           16  Unemployed\n"
     ]
    }
   ],
   "source": [
    "#Has anyone under 18 put in an occupation in df['Occupation'] that isn't 'child or 'student'?\n",
    "#Filter for individuals under 18 with occupations other than 'child' or 'student', make case insensitive\n",
    "under_18_occupation = df[(df['Age (years)'] < 18) & (~df['Occupation'].str.lower().isin(['child', 'student']))]\n",
    "print(under_18_occupation[['First Name', 'Surname', 'Age (years)', 'Occupation']])\n",
    "\n",
    "#Chloe Lewis was identified previously as divorced and a single underage mother. \n",
    "#She is the head of the household, living alone with her newborn\n",
    "#She is still living under parental responsibility until even though she lives apart from parents\n",
    "#Because she is an exception can class as either unemployed (as head of household) or as child, keeping as unemployed"
   ]
  },
  {
   "cell_type": "markdown",
   "id": "0bb0e760",
   "metadata": {},
   "source": [
    "**Occupation Category**\n",
    "\n",
    "Include in child category anyone aged under 5 \n",
    "\n",
    "Include in child (school-age) category anyone aged >= 5 and under 18\n",
    "\n",
    "Include in student category any string containing 'student' aged 18 or over\n",
    "\n",
    "Include in retired category any string containing 'retired'\n",
    "\n",
    "Include in unemployed category any string containing 'unemployed'\n",
    "\n",
    "Everything else is employed"
   ]
  },
  {
   "cell_type": "markdown",
   "id": "e545b8fc",
   "metadata": {},
   "source": [
    "Citation for definition of child (under age 18): \n",
    "\n",
    "NSPCC (2023) Children and the law. Available online: https://learning.nspcc.org.uk/child-protection-system/children-the-law [Accessed 26/11/2023]."
   ]
  },
  {
   "cell_type": "code",
   "execution_count": 53,
   "id": "e7e4f40e",
   "metadata": {},
   "outputs": [],
   "source": [
    "#Define a function to classify Occupation\n",
    "def classify_occupation(row):\n",
    "    \"\"\"\n",
    "    Classify occupation based on age and occupation string.\n",
    "\n",
    "    Parameters:\n",
    "    row (pandas.Series): A Pandas Series representing a row of a DataFrame.\n",
    "    \n",
    "    Returns:\n",
    "    str: The classified occupation category.\n",
    "    \"\"\"\n",
    "    occupation_lower = row['Occupation'].lower()\n",
    "    age = row['Age (years)']\n",
    "\n",
    "    if age < 5:\n",
    "        return 'Child'\n",
    "    elif age >= 5 and age <18:\n",
    "        return 'Child (School-age)'\n",
    "    elif 'student' in occupation_lower and age >= 18:\n",
    "        return 'Student'\n",
    "    #Will classify 'retired unemployed' as retired because comes before unemployed in function\n",
    "    elif 'retired' in occupation_lower:\n",
    "        return 'Retired'\n",
    "    elif 'unemployed' in occupation_lower:\n",
    "        return 'Unemployed'\n",
    "    else:\n",
    "        return 'Employed'\n",
    "\n",
    "#Create a new 'Occupation Category' column by applying the function\n",
    "#axis=1 to apply to rows\n",
    "df['Occupation Category'] = df.apply(classify_occupation, axis=1)"
   ]
  },
  {
   "cell_type": "markdown",
   "id": "dbfa1a0f",
   "metadata": {},
   "source": [
    "**Household Occupancy**\n",
    "\n",
    "Create Household Occupancy column.\n",
    "\n",
    "Might help with determining size of houses required/over-occupancy etc."
   ]
  },
  {
   "cell_type": "code",
   "execution_count": 54,
   "id": "9354574d",
   "metadata": {},
   "outputs": [
    {
     "name": "stdout",
     "output_type": "stream",
     "text": [
      "    House Number               Street First Name Surname  Age (years)  \\\n",
      "57             8  Telegraphnet Street     Elaine   Patel           78   \n",
      "58             8  Telegraphnet Street       Kate   Patel           44   \n",
      "59             8  Telegraphnet Street     Damien   Patel           42   \n",
      "60             8  Telegraphnet Street      Linda   Patel           41   \n",
      "61             8  Telegraphnet Street   Patricia   Patel           38   \n",
      "\n",
      "   Relationship to Head of House Marital Status  Gender  \\\n",
      "57                          Head       Divorced  Female   \n",
      "58                      Daughter         Single  Female   \n",
      "59                           Son         Single    Male   \n",
      "60                      Daughter         Single  Female   \n",
      "61                      Daughter       Divorced  Female   \n",
      "\n",
      "                            Occupation Infirmity   Religion Age Group  \\\n",
      "57         Retired Clinical biochemist      None  Christian     75-79   \n",
      "58                          Translator      None  Christian     40-44   \n",
      "59  Tourist information centre manager      None  Christian     40-44   \n",
      "60      Commercial art gallery manager      None  Christian     40-44   \n",
      "61                        Psychiatrist      None  Christian     35-39   \n",
      "\n",
      "   Occupation Category  Household Occupancy  \n",
      "57             Retired                    5  \n",
      "58            Employed                    5  \n",
      "59            Employed                    5  \n",
      "60            Employed                    5  \n",
      "61            Employed                    5  \n"
     ]
    }
   ],
   "source": [
    "#Use the groupby method to group by 'House Number' and 'Street' \n",
    "#Apply transform method to count the number of entries in each group\n",
    "#Then assign to new column 'Household Occupancy'\n",
    "df['Household Occupancy'] = df.groupby(['House Number', 'Street'])['First Name'].transform('count')\n",
    "\n",
    "#Sense check with single household example\n",
    "print(df[(df['House Number'] == 8) & (df['Street'] == 'Telegraphnet Street')])"
   ]
  },
  {
   "cell_type": "code",
   "execution_count": 55,
   "id": "d6958959",
   "metadata": {},
   "outputs": [
    {
     "name": "stdout",
     "output_type": "stream",
     "text": [
      "<class 'pandas.core.frame.DataFrame'>\n",
      "RangeIndex: 8370 entries, 0 to 8369\n",
      "Data columns (total 14 columns):\n",
      " #   Column                         Non-Null Count  Dtype \n",
      "---  ------                         --------------  ----- \n",
      " 0   House Number                   8370 non-null   int64 \n",
      " 1   Street                         8370 non-null   object\n",
      " 2   First Name                     8370 non-null   object\n",
      " 3   Surname                        8370 non-null   object\n",
      " 4   Age (years)                    8370 non-null   int64 \n",
      " 5   Relationship to Head of House  8370 non-null   object\n",
      " 6   Marital Status                 6395 non-null   object\n",
      " 7   Gender                         8370 non-null   object\n",
      " 8   Occupation                     8370 non-null   object\n",
      " 9   Infirmity                      8370 non-null   object\n",
      " 10  Religion                       8108 non-null   object\n",
      " 11  Age Group                      8370 non-null   object\n",
      " 12  Occupation Category            8370 non-null   object\n",
      " 13  Household Occupancy            8370 non-null   int64 \n",
      "dtypes: int64(3), object(11)\n",
      "memory usage: 915.6+ KB\n"
     ]
    }
   ],
   "source": [
    "#Reset the index to a new sequential range starting from 0 after deleting rows from cleaning process\n",
    "#drop=True removes the existing index column\n",
    "df = df.reset_index(drop=True)\n",
    "df.info()"
   ]
  },
  {
   "cell_type": "code",
   "execution_count": 56,
   "id": "0fa98a57",
   "metadata": {},
   "outputs": [],
   "source": [
    "df.to_csv('census_11_cleaned.csv')"
   ]
  },
  {
   "cell_type": "code",
   "execution_count": 57,
   "id": "e8ef5249",
   "metadata": {},
   "outputs": [
    {
     "data": {
      "application/vnd.jupyter.widget-view+json": {
       "model_id": "8fc95efe60294bc3b0fce1642650bdf0",
       "version_major": 2,
       "version_minor": 0
      },
      "text/plain": [
       "Summarize dataset:   0%|          | 0/5 [00:00<?, ?it/s]"
      ]
     },
     "metadata": {},
     "output_type": "display_data"
    },
    {
     "data": {
      "application/vnd.jupyter.widget-view+json": {
       "model_id": "fe400f5f2ff64e2eb0f9af78cc9bd9fc",
       "version_major": 2,
       "version_minor": 0
      },
      "text/plain": [
       "Generate report structure:   0%|          | 0/1 [00:00<?, ?it/s]"
      ]
     },
     "metadata": {},
     "output_type": "display_data"
    },
    {
     "data": {
      "application/vnd.jupyter.widget-view+json": {
       "model_id": "f060890da15c4d5eb34c81906a79dfff",
       "version_major": 2,
       "version_minor": 0
      },
      "text/plain": [
       "Render HTML:   0%|          | 0/1 [00:00<?, ?it/s]"
      ]
     },
     "metadata": {},
     "output_type": "display_data"
    },
    {
     "data": {
      "application/vnd.jupyter.widget-view+json": {
       "model_id": "a0f6331964314047a195c8d91c1e77f9",
       "version_major": 2,
       "version_minor": 0
      },
      "text/plain": [
       "Export report to file:   0%|          | 0/1 [00:00<?, ?it/s]"
      ]
     },
     "metadata": {},
     "output_type": "display_data"
    }
   ],
   "source": [
    "#Using EDA package Pandas profiling to generate report for cleaned data\n",
    "#from ydata_profiling import ProfileReport\n",
    "report_pp = ProfileReport(df, title=\"Cleaned Census Report\")\n",
    "#Save report to html\n",
    "report_pp.to_file(\"Cleaned Census Report.html\")"
   ]
  },
  {
   "cell_type": "markdown",
   "id": "709fc781",
   "metadata": {},
   "source": [
    "**Salary**"
   ]
  },
  {
   "cell_type": "markdown",
   "id": "9d3e7d68",
   "metadata": {},
   "source": [
    "Want to experiment with fuzzy matching to create a Salary series based on Occupation Series by comparing to ONS annual salaries in UK by occupation.\n",
    "\n",
    "Data from:\n",
    "\n",
    "Office for National Statistics (2023) Earnings and hours worked, occupation by four-digit SOC: ASHE Table 14. Available online: https://www.ons.gov.uk/employmentandlabourmarket/peopleinwork/earningsandworkinghours/datasets/occupation4digitsoc2010ashetable14 [Accessed 26/11/2023].\n",
    "\n",
    "It is 2023 data of annual salaries in UK for all occupations (median and mean). Not taking into account gender or full/part time or regional differences in salaries e.g. London vs North.\n",
    "\n",
    "Fuzzy matching is useful when dealing with variations, misspellings, or different levels of detail in the occupation names.\n",
    "\n",
    "Need to use 'fuzzywuzzy' library.\n",
    "pip install fuzzywuzzy\n",
    "\n",
    "Pypi (2020) fuzzywuzzy 0.18.0. Available online: https://pypi.org/project/fuzzywuzzy/ [Accessed 26/11/2023].\n",
    "\n",
    "Load ONS Standard Occupational Classification salary data using pandas df.\n",
    "\n",
    "Have chosen to use median salary for matching rather than mean to account for any skew in data due to outliers."
   ]
  },
  {
   "cell_type": "code",
   "execution_count": 58,
   "id": "df3f3d2b",
   "metadata": {},
   "outputs": [
    {
     "name": "stdout",
     "output_type": "stream",
     "text": [
      "<class 'pandas.core.frame.DataFrame'>\n",
      "RangeIndex: 454 entries, 0 to 453\n",
      "Data columns (total 4 columns):\n",
      " #   Column         Non-Null Count  Dtype \n",
      "---  ------         --------------  ----- \n",
      " 0   Occupation     454 non-null    object\n",
      " 1   Code           454 non-null    int64 \n",
      " 2   Median Salary  454 non-null    object\n",
      " 3   Mean Salary    453 non-null    object\n",
      "dtypes: int64(1), object(3)\n",
      "memory usage: 14.3+ KB\n"
     ]
    }
   ],
   "source": [
    "#Use latin-1 encoding\n",
    "SOC_df = pd.read_csv('Occupation SOC20 Annual pay Gross 2023_updated.csv')\n",
    "SOC_df.info()"
   ]
  },
  {
   "cell_type": "code",
   "execution_count": 59,
   "id": "d4841dc7",
   "metadata": {},
   "outputs": [],
   "source": [
    "#Test on validation random sample of 100 records\n",
    "#Exclude specified occupations from the entire dataset\n",
    "employed_occupations = df[df['Occupation Category'] == 'Employed']\n",
    "\n",
    "#Take a random sample of 100 records for validation\n",
    "validation_sample = employed_occupations.sample(n=100, random_state=42)"
   ]
  },
  {
   "cell_type": "code",
   "execution_count": 60,
   "id": "79b23674",
   "metadata": {},
   "outputs": [],
   "source": [
    "#Define a function for fuzzy matching\n",
    "def fuzzy_match_occ_validation(occupation):\n",
    "    \"\"\"\n",
    "    Perform fuzzy matching to find the most similar occupation from a reference list.\n",
    "\n",
    "    Parameters:\n",
    "    occupation (str): The occupation to be matched.\n",
    "\n",
    "    Returns:\n",
    "    str or None: The matched occupation if similarity score is above 60, else None.\n",
    "    \"\"\"\n",
    "    #Skip empty strings\n",
    "    if not occupation or occupation.isspace():\n",
    "        return None\n",
    "\n",
    "    #Perform fuzzy matching\n",
    "    result, score, _ = process.extractOne(occupation, SOC_df['Occupation'], scorer=fuzz.ratio)\n",
    "\n",
    "    #Check if the score is above the confidence threshold\n",
    "    return result if score >= 50 else None  # Confidence threshold\n",
    "\n",
    "#Apply fuzzy matching and create a new column 'Matched_Occupation' in the validation sample\n",
    "validation_sample['Matched Occupation'] = validation_sample['Occupation'].apply(fuzzy_match_occ_validation)\n",
    "\n",
    "#Merge DataFrame based on matched occupations in the validation sample\n",
    "validation_sample_result = pd.merge(validation_sample, SOC_df, left_on='Matched Occupation', right_on='Occupation', how='left')\n",
    "\n",
    "#Drop unnecessary columns in the validation sample result\n",
    "columns_to_drop_validation_sample = ['Occupation_y', 'Code', 'Mean Salary']\n",
    "validation_sample_result.drop(columns=columns_to_drop_validation_sample, inplace=True)\n",
    "\n",
    "#Rename columns in the validation sample result\n",
    "validation_sample_result.rename(columns={'Median Salary': 'Salary (GBP)'}, inplace=True)\n",
    "validation_sample_result.rename(columns={'Occupation_x': 'Occupation'}, inplace=True)"
   ]
  },
  {
   "cell_type": "code",
   "execution_count": 61,
   "id": "126c0528",
   "metadata": {},
   "outputs": [],
   "source": [
    "#Calculate similarity scores for each pair of 'Occupation' and 'Matched_Occupation'\n",
    "#Using lambda function for this\n",
    "validation_sample_result['Similarity_Score'] = validation_sample_result.apply(lambda row: fuzz.ratio(row['Occupation'], row['Matched Occupation']), axis=1)\n",
    "#print(validation_sample_result[['Occupation', 'Matched_Occupation', 'Similarity_Score']])"
   ]
  },
  {
   "cell_type": "code",
   "execution_count": 62,
   "id": "fd9c8b7e",
   "metadata": {},
   "outputs": [],
   "source": [
    "#Save new census_11_cleaned_with_salary csv\n",
    "validation_sample_result.to_csv('salary_validation_sample_result_50.csv')"
   ]
  },
  {
   "cell_type": "markdown",
   "id": "d2b9f940",
   "metadata": {},
   "source": [
    "Confidence threshold of 70 is too high, the majority of the sample was unmatched.\n",
    "Confidence threshold of 60 more matching, higher similarity matching with SOC data.\n",
    "Confidence threshold of 55 starting to see too great a trade off with similarity.\n",
    "Confidence threshold of 50, most occupations matched, trade off with similarity though.\n",
    "\n",
    "I have no ground truth to perform statististical analysis (like precision, f1 score and recall) on fuzzy matching to evaluate for best confidence threshold. So will select based on iterative testing and manual inspection of validation sample against SOC data.\n",
    "\n",
    "Choosing 50 threshold because the time taken to input salaries manually is outweighed by matching accepting a lower degree of similarity for a match. This results in a more lenient matching criterion, which may capture more matches but will introduce more false positives. This is why visual inspection of the matching is important, and where obviously incorrect, updated by hand. There are still some empty salary values as well that will also be inputted manually."
   ]
  },
  {
   "cell_type": "code",
   "execution_count": 63,
   "id": "63864a65",
   "metadata": {},
   "outputs": [],
   "source": [
    "def fuzzy_match_occ(row):\n",
    "    \"\"\"\n",
    "    Perform fuzzy matching to find the most similar occupation from a reference list.\n",
    "\n",
    "    Parameters:\n",
    "    row (pd.Series): A Pandas Series representing a row of a DataFrame.\n",
    "    It should contain at least the 'Occupation' and 'Occupation Category' columns.\n",
    "\n",
    "    Returns:\n",
    "    str or None: The matched occupation if the occupation category is 'Employed' and the similarity score is above 60, else None.\n",
    "    \"\"\"\n",
    "    #Skip empty strings\n",
    "    occupation = row['Occupation']\n",
    "    if not occupation or occupation.isspace():\n",
    "        return None\n",
    "    \n",
    "    #Check if the occupation category is 'Employed'\n",
    "    if row['Occupation Category'] == 'Employed':\n",
    "        #Perform fuzzy matching\n",
    "        result, score, _ = process.extractOne(occupation, SOC_df['Occupation'], scorer=fuzz.ratio)\n",
    "\n",
    "        #Check if the score is above the confidence threshold\n",
    "        return result if score >= 50 else None  # Confidence threshold\n",
    "\n",
    "    return None  # Return None for non-'Employed' categories\n",
    "\n",
    "#Apply fuzzy matching to df_copy and create a new column 'Matched Occupation'\n",
    "df_copy = df.copy()\n",
    "df_copy['Matched Occupation'] = df_copy.apply(fuzzy_match_occ, axis=1)\n",
    "\n",
    "#Merge DataFrames based on matched occupations and create new_df\n",
    "new_df = pd.merge(df_copy, SOC_df, left_on='Matched Occupation', right_on='Occupation', how='left')\n",
    "\n",
    "#Drop unnecessary columns\n",
    "columns_to_drop = ['Occupation_y', 'Code', 'Mean Salary']\n",
    "new_df.drop(columns=columns_to_drop, inplace=True)\n",
    "\n",
    "#Rename the columns in new_df\n",
    "new_df.rename(columns={'Median Salary': 'Salary (GBP)'}, inplace=True)\n",
    "new_df.rename(columns={'Occupation_x': 'Occupation'}, inplace=True)"
   ]
  },
  {
   "cell_type": "code",
   "execution_count": 64,
   "id": "b19f2191",
   "metadata": {},
   "outputs": [],
   "source": [
    "#Calculate similarity scores for each pair of 'Occupation' and 'Matched_Occupation'\n",
    "new_df['Similarity Score'] = new_df.apply(lambda row: fuzz.ratio(row['Occupation'], row['Matched Occupation']), axis=1)"
   ]
  },
  {
   "cell_type": "code",
   "execution_count": 65,
   "id": "a8bcae8f",
   "metadata": {},
   "outputs": [
    {
     "name": "stdout",
     "output_type": "stream",
     "text": [
      "<class 'pandas.core.frame.DataFrame'>\n",
      "Int64Index: 8370 entries, 0 to 8369\n",
      "Data columns (total 17 columns):\n",
      " #   Column                         Non-Null Count  Dtype \n",
      "---  ------                         --------------  ----- \n",
      " 0   House Number                   8370 non-null   int64 \n",
      " 1   Street                         8370 non-null   object\n",
      " 2   First Name                     8370 non-null   object\n",
      " 3   Surname                        8370 non-null   object\n",
      " 4   Age (years)                    8370 non-null   int64 \n",
      " 5   Relationship to Head of House  8370 non-null   object\n",
      " 6   Marital Status                 6395 non-null   object\n",
      " 7   Gender                         8370 non-null   object\n",
      " 8   Occupation                     8370 non-null   object\n",
      " 9   Infirmity                      8370 non-null   object\n",
      " 10  Religion                       8108 non-null   object\n",
      " 11  Age Group                      8370 non-null   object\n",
      " 12  Occupation Category            8370 non-null   object\n",
      " 13  Household Occupancy            8370 non-null   int64 \n",
      " 14  Matched Occupation             3945 non-null   object\n",
      " 15  Salary (GBP)                   3945 non-null   object\n",
      " 16  Similarity Score               8370 non-null   int64 \n",
      "dtypes: int64(4), object(13)\n",
      "memory usage: 1.1+ MB\n"
     ]
    }
   ],
   "source": [
    "new_df.info()"
   ]
  },
  {
   "cell_type": "code",
   "execution_count": 66,
   "id": "15a100d5",
   "metadata": {},
   "outputs": [],
   "source": [
    "#Convert Salary column to int64 data type\n",
    "#Remove commas and convert Salary column to numeric\n",
    "new_df['Salary'] = pd.to_numeric(new_df['Salary (GBP)'].str.replace(',', ''), errors='coerce')\n",
    "\n",
    "#Fill NaN values with a specific value (0) before converting to int64\n",
    "new_df['Salary'] = new_df['Salary'].fillna(0).astype('int64')"
   ]
  },
  {
   "cell_type": "code",
   "execution_count": 67,
   "id": "3a34f7f2",
   "metadata": {},
   "outputs": [
    {
     "name": "stdout",
     "output_type": "stream",
     "text": [
      "<class 'pandas.core.frame.DataFrame'>\n",
      "Int64Index: 8370 entries, 0 to 8369\n",
      "Data columns (total 18 columns):\n",
      " #   Column                         Non-Null Count  Dtype \n",
      "---  ------                         --------------  ----- \n",
      " 0   House Number                   8370 non-null   int64 \n",
      " 1   Street                         8370 non-null   object\n",
      " 2   First Name                     8370 non-null   object\n",
      " 3   Surname                        8370 non-null   object\n",
      " 4   Age (years)                    8370 non-null   int64 \n",
      " 5   Relationship to Head of House  8370 non-null   object\n",
      " 6   Marital Status                 6395 non-null   object\n",
      " 7   Gender                         8370 non-null   object\n",
      " 8   Occupation                     8370 non-null   object\n",
      " 9   Infirmity                      8370 non-null   object\n",
      " 10  Religion                       8108 non-null   object\n",
      " 11  Age Group                      8370 non-null   object\n",
      " 12  Occupation Category            8370 non-null   object\n",
      " 13  Household Occupancy            8370 non-null   int64 \n",
      " 14  Matched Occupation             3945 non-null   object\n",
      " 15  Salary (GBP)                   3945 non-null   object\n",
      " 16  Similarity Score               8370 non-null   int64 \n",
      " 17  Salary                         8370 non-null   int64 \n",
      "dtypes: int64(5), object(13)\n",
      "memory usage: 1.2+ MB\n"
     ]
    }
   ],
   "source": [
    "new_df.info()"
   ]
  },
  {
   "cell_type": "code",
   "execution_count": 68,
   "id": "a4e7dd01",
   "metadata": {},
   "outputs": [],
   "source": [
    "#Save new census_11_cleaned_with_salary csv\n",
    "new_df.to_csv('census_11_cleaned_with_salary.csv')"
   ]
  },
  {
   "cell_type": "markdown",
   "id": "9c1e3b4f",
   "metadata": {},
   "source": [
    "Have completed the salary matching and reuploading to remove 'Matched Occupation' and 'Similarity Score' columns before data analysis"
   ]
  },
  {
   "cell_type": "code",
   "execution_count": 69,
   "id": "d6c43fc0",
   "metadata": {},
   "outputs": [
    {
     "name": "stdout",
     "output_type": "stream",
     "text": [
      "<class 'pandas.core.frame.DataFrame'>\n",
      "RangeIndex: 8370 entries, 0 to 8369\n",
      "Data columns (total 18 columns):\n",
      " #   Column                         Non-Null Count  Dtype \n",
      "---  ------                         --------------  ----- \n",
      " 0   Unnamed: 0                     8370 non-null   int64 \n",
      " 1   House Number                   8370 non-null   int64 \n",
      " 2   Street                         8370 non-null   object\n",
      " 3   First Name                     8370 non-null   object\n",
      " 4   Surname                        8370 non-null   object\n",
      " 5   Age (years)                    8370 non-null   int64 \n",
      " 6   Relationship to Head of House  8370 non-null   object\n",
      " 7   Marital Status                 6395 non-null   object\n",
      " 8   Gender                         8370 non-null   object\n",
      " 9   Occupation                     8370 non-null   object\n",
      " 10  Infirmity                      8370 non-null   object\n",
      " 11  Religion                       8108 non-null   object\n",
      " 12  Age Group                      8370 non-null   object\n",
      " 13  Occupation Category            8370 non-null   object\n",
      " 14  Household Occupancy            8370 non-null   int64 \n",
      " 15  Matched Occupation             4478 non-null   object\n",
      " 16  Salary (GBP)                   8370 non-null   int64 \n",
      " 17  Similarity Score               8370 non-null   int64 \n",
      "dtypes: int64(6), object(12)\n",
      "memory usage: 1.1+ MB\n"
     ]
    }
   ],
   "source": [
    "updated_df = pd.read_csv('census_11_cleaned_with_salary_updated.csv')\n",
    "updated_df.info()"
   ]
  },
  {
   "cell_type": "code",
   "execution_count": 70,
   "id": "ce826afa",
   "metadata": {},
   "outputs": [],
   "source": [
    "#Remove whitespaces from column names\n",
    "updated_df.columns = updated_df.columns.str.strip()"
   ]
  },
  {
   "cell_type": "code",
   "execution_count": 71,
   "id": "8d34ddb0",
   "metadata": {},
   "outputs": [
    {
     "name": "stdout",
     "output_type": "stream",
     "text": [
      "<class 'pandas.core.frame.DataFrame'>\n",
      "RangeIndex: 8370 entries, 0 to 8369\n",
      "Data columns (total 15 columns):\n",
      " #   Column                         Non-Null Count  Dtype \n",
      "---  ------                         --------------  ----- \n",
      " 0   House Number                   8370 non-null   int64 \n",
      " 1   Street                         8370 non-null   object\n",
      " 2   First Name                     8370 non-null   object\n",
      " 3   Surname                        8370 non-null   object\n",
      " 4   Age (years)                    8370 non-null   int64 \n",
      " 5   Relationship to Head of House  8370 non-null   object\n",
      " 6   Marital Status                 6395 non-null   object\n",
      " 7   Gender                         8370 non-null   object\n",
      " 8   Occupation                     8370 non-null   object\n",
      " 9   Infirmity                      8370 non-null   object\n",
      " 10  Religion                       8108 non-null   object\n",
      " 11  Age Group                      8370 non-null   object\n",
      " 12  Occupation Category            8370 non-null   object\n",
      " 13  Household Occupancy            8370 non-null   int64 \n",
      " 14  Salary (GBP)                   8370 non-null   int64 \n",
      "dtypes: int64(4), object(11)\n",
      "memory usage: 981.0+ KB\n"
     ]
    }
   ],
   "source": [
    "#Remove the 'Matched Occupation' and 'Similarity Score' columns \n",
    "columns_to_drop = ['Unnamed: 0', 'Matched Occupation', 'Similarity Score']\n",
    "updated_df = updated_df.drop(columns=columns_to_drop)\n",
    "updated_df.info()"
   ]
  },
  {
   "cell_type": "code",
   "execution_count": 72,
   "id": "76df26e6",
   "metadata": {},
   "outputs": [],
   "source": [
    "#Save new census_11_cleaned_with_salary_final csv\n",
    "updated_df.to_csv('census_11_cleaned_with_salary_final.csv')"
   ]
  },
  {
   "cell_type": "code",
   "execution_count": null,
   "id": "b4d442be",
   "metadata": {},
   "outputs": [],
   "source": []
  }
 ],
 "metadata": {
  "kernelspec": {
   "display_name": "Python 3 (ipykernel)",
   "language": "python",
   "name": "python3"
  },
  "language_info": {
   "codemirror_mode": {
    "name": "ipython",
    "version": 3
   },
   "file_extension": ".py",
   "mimetype": "text/x-python",
   "name": "python",
   "nbconvert_exporter": "python",
   "pygments_lexer": "ipython3",
   "version": "3.11.3"
  }
 },
 "nbformat": 4,
 "nbformat_minor": 5
}
